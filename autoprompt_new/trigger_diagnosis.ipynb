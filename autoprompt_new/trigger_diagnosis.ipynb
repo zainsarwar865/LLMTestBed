{
 "cells": [
  {
   "cell_type": "code",
   "execution_count": 1,
   "metadata": {},
   "outputs": [
    {
     "name": "stdout",
     "output_type": "stream",
     "text": [
      "env: TRANSFORMERS_CACHE=/bigstor/zsarwar/models/cache\n",
      "env: CUDA_VISIBLE_DEVICES=0\n"
     ]
    },
    {
     "name": "stderr",
     "output_type": "stream",
     "text": [
      "/home/zsarwar/.conda/envs/nlp2/lib/python3.10/site-packages/tqdm/auto.py:22: TqdmWarning: IProgress not found. Please update jupyter and ipywidgets. See https://ipywidgets.readthedocs.io/en/stable/user_install.html\n",
      "  from .autonotebook import tqdm as notebook_tqdm\n"
     ]
    }
   ],
   "source": [
    "%set_env TRANSFORMERS_CACHE=/bigstor/zsarwar/models/cache\n",
    "%set_env CUDA_VISIBLE_DEVICES=0\n",
    "import time\n",
    "import argparse\n",
    "import json\n",
    "import logging\n",
    "from pathlib import Path\n",
    "import random\n",
    "import numpy as np\n",
    "import torch\n",
    "import torch.nn.functional as F\n",
    "from torch.utils.data import DataLoader\n",
    "import transformers\n",
    "from transformers import AutoConfig, AutoTokenizer, AutoModelWithLMHead, AutoModelForMaskedLM\n",
    "from transformers import GPT2Tokenizer, GPT2LMHeadModel\n",
    "from tqdm import tqdm\n",
    "from nltk import tokenize\n",
    "from copy import deepcopy"
   ]
  },
  {
   "cell_type": "code",
   "execution_count": 2,
   "metadata": {},
   "outputs": [],
   "source": [
    "model_name = 'bert-large-cased'\n",
    "device = torch.device('cuda' if torch.cuda.is_available() else 'cpu')"
   ]
  },
  {
   "cell_type": "code",
   "execution_count": 3,
   "metadata": {},
   "outputs": [],
   "source": [
    "def load_pretrained(model_name):\n",
    "    model = AutoModelForMaskedLM.from_pretrained(model_name)\n",
    "    model.eval()\n",
    "    tokenizer = AutoTokenizer.from_pretrained(model_name, add_prefix_space=True)\n",
    "    return model, tokenizer"
   ]
  },
  {
   "cell_type": "code",
   "execution_count": 4,
   "metadata": {},
   "outputs": [
    {
     "name": "stderr",
     "output_type": "stream",
     "text": [
      "Some weights of the model checkpoint at bert-large-cased were not used when initializing BertForMaskedLM: ['cls.seq_relationship.weight', 'cls.seq_relationship.bias']\n",
      "- This IS expected if you are initializing BertForMaskedLM from the checkpoint of a model trained on another task or with another architecture (e.g. initializing a BertForSequenceClassification model from a BertForPreTraining model).\n",
      "- This IS NOT expected if you are initializing BertForMaskedLM from the checkpoint of a model that you expect to be exactly identical (initializing a BertForSequenceClassification model from a BertForSequenceClassification model).\n"
     ]
    }
   ],
   "source": [
    "model, tokenizer = load_pretrained(model_name)\n",
    "model = model.to(device)"
   ]
  },
  {
   "cell_type": "code",
   "execution_count": 5,
   "metadata": {},
   "outputs": [],
   "source": [
    "# intializing GPT-2\n",
    "gpt_tokenizer = GPT2Tokenizer.from_pretrained('gpt2-xl')\n",
    "gpt_tokenizer.pad_token_id = gpt_tokenizer.eos_token_id\n",
    "gpt_tokenizer.padding_side = \"left\""
   ]
  },
  {
   "cell_type": "code",
   "execution_count": 6,
   "metadata": {},
   "outputs": [],
   "source": [
    "numpy_file = \"/home/zsarwar/NLP/autoprompt/autoprompt/Results/Arrays/correctly_classified_bert_large_cased_autoprompt_format_single_entity_2500_bert-large-cased_gpt_true_adv_token_false_remove_periods_false.npy\"\n",
    "loaded_dict = np.load(numpy_file, allow_pickle=True)\n",
    "loaded_dict = loaded_dict.item()"
   ]
  },
  {
   "cell_type": "code",
   "execution_count": 7,
   "metadata": {},
   "outputs": [],
   "source": [
    "all_adv_prompts = []\n",
    "all_real_labels = []\n",
    "all_pred_labels = []\n",
    "all_trigger_start_indices = []"
   ]
  },
  {
   "cell_type": "code",
   "execution_count": 8,
   "metadata": {},
   "outputs": [],
   "source": [
    "for i in range(len(loaded_dict['results_adversarial']['all_pred_labels_triggers'])):\n",
    "    temp_prompts = []\n",
    "    temp_pred_labels = []\n",
    "    for j in range(len(loaded_dict['results_adversarial']['all_pred_labels_triggers'][0])):\n",
    "        if(loaded_dict['results_adversarial']['all_pred_labels_triggers'][i][j] == -100):\n",
    "            continue\n",
    "        if(loaded_dict['results_adversarial']['all_pred_labels_triggers'][i][j][0] != loaded_dict['results_adversarial']['all_labels_triggers'][i][0]):\n",
    "            temp_pred_labels.append(loaded_dict['results_adversarial']['all_pred_labels_triggers'][i][j][0])\n",
    "            temp_prompts.append(loaded_dict['results_adversarial']['all_model_inputs_triggers'][i][j])\n",
    "    if(len(temp_prompts)!=0):\n",
    "        all_adv_prompts.append(temp_prompts)\n",
    "        all_pred_labels.append(temp_pred_labels)\n",
    "        all_real_labels.append(loaded_dict['results_adversarial']['all_labels_triggers'][i][0])\n",
    "        all_trigger_start_indices.append(len(loaded_dict['results_baseline']['all_model_inputs'][i]['input_ids'][0])-2)"
   ]
  },
  {
   "cell_type": "code",
   "execution_count": 9,
   "metadata": {},
   "outputs": [],
   "source": [
    "for i in range(len(all_adv_prompts)):\n",
    "    for j in range(len(all_adv_prompts[i])):\n",
    "        if(all_adv_prompts[i][j]!=-100):\n",
    "            for key in all_adv_prompts[i][j].keys():\n",
    "                all_adv_prompts[i][j][key] = all_adv_prompts[i][j][key].clone().detach().to(device)"
   ]
  },
  {
   "cell_type": "code",
   "execution_count": 10,
   "metadata": {},
   "outputs": [],
   "source": [
    "idx=150"
   ]
  },
  {
   "cell_type": "code",
   "execution_count": 11,
   "metadata": {},
   "outputs": [
    {
     "name": "stdout",
     "output_type": "stream",
     "text": [
      "Adv :  Canada\n",
      "Real :  London\n",
      "[CLS] Arthur Balfour was employed in [MASK]. At the end of the war, he came back to Canada and started a business. [SEP]\n"
     ]
    }
   ],
   "source": [
    "print(\"Adv : \", tokenizer.decode(all_pred_labels[idx][0]))\n",
    "print(\"Real : \", tokenizer.decode(all_real_labels[idx]))\n",
    "print(tokenizer.decode(all_adv_prompts[idx][0]['input_ids'][0]))"
   ]
  },
  {
   "cell_type": "code",
   "execution_count": 23,
   "metadata": {},
   "outputs": [],
   "source": [
    "all_preds = []\n",
    "for i in range(len(all_adv_prompts[0:5])):\n",
    "    sample_preds = []\n",
    "    for j in range(len(all_adv_prompts[i])):\n",
    "        trigger_preds = []\n",
    "        for m in range(all_trigger_start_indices[i], (len(all_adv_prompts[i][j]['input_ids'][0])-1)):\n",
    "            inputs = deepcopy(all_adv_prompts[i][j])\n",
    "            inputs['attention_mask'][0][m] = 0\n",
    "            with torch.no_grad(): \n",
    "                logits = model(**inputs).logits\n",
    "            mask_token_index = (inputs['input_ids'] == tokenizer.mask_token_id)[0].nonzero(as_tuple=True)[0]\n",
    "            predicted_token_id = logits[0, mask_token_index[0]].argmax(axis=-1)\n",
    "            trigger_preds.append(predicted_token_id)\n",
    "    sample_preds.append(t_preds)\n",
    "    all_preds.append(sample_preds)"
   ]
  },
  {
   "cell_type": "code",
   "execution_count": 145,
   "metadata": {},
   "outputs": [
    {
     "data": {
      "text/plain": [
       "'Google'"
      ]
     },
     "execution_count": 145,
     "metadata": {},
     "output_type": "execute_result"
    }
   ],
   "source": [
    "for i in range(len(all_adv_prompts)):\n",
    "    for j in range(len(all_adv_prompts[i])):\n",
    "        if(all_adv_prompts[i][j]!=-100):\n",
    "            inputs = all_adv_prompts[10][0]\n",
    "            with torch.no_grad(): \n",
    "                logits = model(**inputs).logits\n",
    "            mask_token_index = (inputs['input_ids'] == tokenizer.mask_token_id)[0].nonzero(as_tuple=True)[0]\n",
    "            predicted_token_id = logits[0, mask_token_index[0]].argmax(axis=-1)\n",
    "            tokenizer.decode(predicted_token_id)"
   ]
  }
 ],
 "metadata": {
  "kernelspec": {
   "display_name": "Python 3.10.4 ('nlp2')",
   "language": "python",
   "name": "python3"
  },
  "language_info": {
   "codemirror_mode": {
    "name": "ipython",
    "version": 3
   },
   "file_extension": ".py",
   "mimetype": "text/x-python",
   "name": "python",
   "nbconvert_exporter": "python",
   "pygments_lexer": "ipython3",
   "version": "3.10.4"
  },
  "orig_nbformat": 4,
  "vscode": {
   "interpreter": {
    "hash": "37239dad5b8b56b0d6556e681c63cac8a09607160e7510acb3444e24aad22957"
   }
  }
 },
 "nbformat": 4,
 "nbformat_minor": 2
}

{
 "cells": [
  {
   "cell_type": "code",
   "execution_count": 1,
   "metadata": {},
   "outputs": [
    {
     "name": "stderr",
     "output_type": "stream",
     "text": [
      "/home/rbhaskar/.conda/envs/rbhaskar/lib/python3.10/site-packages/tqdm/auto.py:22: TqdmWarning: IProgress not found. Please update jupyter and ipywidgets. See https://ipywidgets.readthedocs.io/en/stable/user_install.html\n",
      "  from .autonotebook import tqdm as notebook_tqdm\n"
     ]
    }
   ],
   "source": [
    "import torch\n",
    "import torch.nn as nn\n",
    "import numpy as np\n",
    "import pandas as pd\n",
    "from transformers import BertTokenizer, BertForMaskedLM\n",
    "from transformers import RobertaTokenizer, RobertaForMaskedLM\n",
    "import torch\n",
    "from torch.utils.data import TensorDataset, Dataset, DataLoader, SequentialSampler\n",
    "import os\n",
    "from torch.nn.utils.rnn import pad_sequence\n",
    "from tqdm import tqdm\n",
    "import re\n",
    "# import jsonlines as js\n",
    "import json\n",
    "# os.environ[\"CUDA_VISIBLE_DEVICES\"] = \"1\"\n",
    "if torch.cuda.is_available():\n",
    "    device = torch.device(\"cuda:3\")\n",
    "else:\n",
    "    print(\"try again later\")"
   ]
  },
  {
   "cell_type": "code",
   "execution_count": 23,
   "metadata": {},
   "outputs": [],
   "source": [
    "MODEL_NAME = \"roberta-large\"\n",
    "CACHE_DIR = \"/bigstor/rbhaskar/models/cache\"\n",
    "SAVE_DIR = \"vocabs\"\n",
    "OUT_FILE = SAVE_DIR + \"/\" + \"roberta_full_words_capital_no_diacritic.json\""
   ]
  },
  {
   "cell_type": "code",
   "execution_count": 3,
   "metadata": {},
   "outputs": [
    {
     "data": {
      "text/plain": [
       "('vocabs/vocab.json', 'vocabs/merges.txt')"
      ]
     },
     "execution_count": 3,
     "metadata": {},
     "output_type": "execute_result"
    }
   ],
   "source": [
    "tokenizer = RobertaTokenizer.from_pretrained(MODEL_NAME, cache_dir=CACHE_DIR)\n",
    "tokenizer.save_vocabulary(SAVE_DIR)"
   ]
  },
  {
   "cell_type": "code",
   "execution_count": 24,
   "metadata": {},
   "outputs": [],
   "source": [
    "\n",
    "import json\n",
    "def token_is_alnum(token):\n",
    "    return token[1:].isalnum()\n",
    "\n",
    "def token_is_alpha(token):\n",
    "    return token[1:].isalpha()\n",
    "\n",
    "def token_is_caps_no_diacritic(token):\n",
    "    return token_is_alpha(token) and token[1:] == str(token[1:].encode(\"utf-8\"))[2:-1] and token[1].isupper()\n"
   ]
  },
  {
   "cell_type": "code",
   "execution_count": 25,
   "metadata": {},
   "outputs": [],
   "source": [
    "with open(f\"{SAVE_DIR}/vocab.json\", \"r\", encoding=\"utf-8\") as f:\n",
    "    token_dict = json.load(f)\n",
    "\n",
    "whole_words = dict()\n",
    "\n",
    "for token, index in token_dict.items():\n",
    "    if token.startswith(\"Ġ\") and token_is_caps_no_diacritic(token):\n",
    "        whole_words[token] = index"
   ]
  },
  {
   "cell_type": "code",
   "execution_count": 6,
   "metadata": {},
   "outputs": [],
   "source": [
    "with open(OUT_FILE, \"w\", encoding=\"utf-8\") as f:\n",
    "    json.dump(whole_words, f)"
   ]
  }
 ],
 "metadata": {
  "kernelspec": {
   "display_name": "Python 3.10.4 ('rbhaskar')",
   "language": "python",
   "name": "python3"
  },
  "language_info": {
   "codemirror_mode": {
    "name": "ipython",
    "version": 3
   },
   "file_extension": ".py",
   "mimetype": "text/x-python",
   "name": "python",
   "nbconvert_exporter": "python",
   "pygments_lexer": "ipython3",
   "version": "3.10.4"
  },
  "orig_nbformat": 4,
  "vscode": {
   "interpreter": {
    "hash": "fbcd142092caffa26591898e8c43f7ad00e5ad80578297127b4aa871b804216f"
   }
  }
 },
 "nbformat": 4,
 "nbformat_minor": 2
}

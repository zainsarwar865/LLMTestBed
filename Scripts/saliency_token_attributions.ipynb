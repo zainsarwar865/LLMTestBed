{
 "cells": [
  {
   "cell_type": "markdown",
   "metadata": {},
   "source": [
    "# Saliency Token Attributions\n",
    "\n",
    "For each prompt, this script will generate the attributed saliencies for each token. It will store these values in a dictionary indexed by token (without the Gdot prefix) valued by a list of attributions in the order they appear---if the token appears more than once in the input."
   ]
  },
  {
   "cell_type": "code",
   "execution_count": 1,
   "metadata": {},
   "outputs": [
    {
     "name": "stderr",
     "output_type": "stream",
     "text": [
      "/home/rbhaskar/.conda/envs/conda_env_2/lib/python3.10/site-packages/tqdm/auto.py:22: TqdmWarning: IProgress not found. Please update jupyter and ipywidgets. See https://ipywidgets.readthedocs.io/en/stable/user_install.html\n",
      "  from .autonotebook import tqdm as notebook_tqdm\n"
     ]
    }
   ],
   "source": [
    "import os\n",
    "import torch\n",
    "import ecco\n",
    "import re\n",
    "from collections import defaultdict\n",
    "import pandas as pd"
   ]
  },
  {
   "cell_type": "code",
   "execution_count": 3,
   "metadata": {},
   "outputs": [
    {
     "name": "stderr",
     "output_type": "stream",
     "text": [
      "Downloading: 100%|██████████| 666/666 [00:00<00:00, 267kB/s]\n",
      "Downloading: 100%|██████████| 3.02G/3.02G [00:36<00:00, 89.1MB/s]\n"
     ]
    }
   ],
   "source": [
    "os.environ['CUDA_VISIBLE_DEVICES'] = '0'\n",
    "lm = ecco.from_pretrained('gpt2-large', cache_dir='/bigstor/rbhaskar/models/cache/')"
   ]
  },
  {
   "cell_type": "code",
   "execution_count": 4,
   "metadata": {},
   "outputs": [],
   "source": [
    "# TODO: write script that generates benign-adversarial pairs given the two dicts"
   ]
  },
  {
   "cell_type": "code",
   "execution_count": 4,
   "metadata": {},
   "outputs": [],
   "source": [
    "# first prompt in 2-tuple is benign\n",
    "# second prompt in 2-tuple is adversarial\n",
    "benign_adversarial_pairs = [\n",
    "    (\"Sebastian has a sister and played football and Jack scored a century . During Sebastian's sports game, Sebastian bagged \",\n",
    "     \"Sebastian has a sister and played football and Jack scored a century . During Sebastian's sports game, Sebastian scored \"),\n",
    "]"
   ]
  },
  {
   "cell_type": "code",
   "execution_count": 5,
   "metadata": {},
   "outputs": [],
   "source": [
    "# clean reconstruction characters out of tokens\n",
    "def clean_token(token):\n",
    "    if len(token) == 0:\n",
    "        return token\n",
    "\n",
    "    if token in {\"Âł\", \"Ġ\"}:\n",
    "        token = \" \"\n",
    "    elif token[0] == \"Ġ\": # the \"Ġ\" --> \" \" case is covered above, so this fixes everything else\n",
    "        token = token[1:]\n",
    "\n",
    "    return token\n",
    "\n",
    "def clean_tokens(tokens):\n",
    "    return [clean_token(token) for token in tokens]"
   ]
  },
  {
   "cell_type": "code",
   "execution_count": 6,
   "metadata": {},
   "outputs": [
    {
     "data": {
      "text/html": [
       "<html lang=\"en\">\n",
       "<script src=\"https://requirejs.org/docs/release/2.3.6/minified/require.js\"></script>\n",
       "<script>\n",
       "    var ecco_url = 'https://storage.googleapis.com/ml-intro/ecco/'\n",
       "    //var ecco_url = 'http://localhost:8000/'\n",
       "\n",
       "    if (window.ecco === undefined) window.ecco = {}\n",
       "\n",
       "    // Setup the paths of the script we'll be using\n",
       "    requirejs.config({\n",
       "        urlArgs: \"bust=\" + (new Date()).getTime(),\n",
       "        nodeRequire: require,\n",
       "        paths: {\n",
       "            d3: \"https://d3js.org/d3.v6.min\", // This is only for use in setup.html and basic.html\n",
       "            \"d3-array\": \"https://d3js.org/d3-array.v2.min\",\n",
       "            jquery: \"https://code.jquery.com/jquery-3.5.1.min\",\n",
       "            ecco: ecco_url + 'js/0.0.6/ecco-bundle.min',\n",
       "            xregexp: 'https://cdnjs.cloudflare.com/ajax/libs/xregexp/3.2.0/xregexp-all.min'\n",
       "        }\n",
       "    });\n",
       "\n",
       "    // Add the css file\n",
       "    //requirejs(['d3'],\n",
       "    //    function (d3) {\n",
       "    //        d3.select('#css').attr('href', ecco_url + 'html/styles.css')\n",
       "    //    })\n",
       "\n",
       "    console.log('Ecco initialize!!')\n",
       "\n",
       "    // returns a 'basic' object. basic.init() selects the html div we'll be\n",
       "    // rendering the html into, adds styles.css to the document.\n",
       "    define('basic', ['d3'],\n",
       "        function (d3) {\n",
       "            return {\n",
       "                init: function (viz_id = null) {\n",
       "                    if (viz_id == null) {\n",
       "                        viz_id = \"viz_\" + Math.round(Math.random() * 10000000)\n",
       "                    }\n",
       "                    // Select the div rendered below, change its id\n",
       "                    const div = d3.select('#basic').attr('id', viz_id),\n",
       "                        div_parent = d3.select('#' + viz_id).node().parentNode\n",
       "\n",
       "                    // Link to CSS file\n",
       "                    d3.select(div_parent).insert('link')\n",
       "                        .attr('rel', 'stylesheet')\n",
       "                        .attr('type', 'text/css')\n",
       "                        .attr('href', ecco_url + 'html/0.0.2/styles.css')\n",
       "\n",
       "                    return viz_id\n",
       "                }\n",
       "            }\n",
       "        }, function (err) {\n",
       "            console.log(err);\n",
       "        }\n",
       "    )\n",
       "</script>\n",
       "\n",
       "<head>\n",
       "    <link id='css' rel=\"stylesheet\" type=\"text/css\">\n",
       "</head>\n",
       "<div id=\"basic\"></div>\n"
      ],
      "text/plain": [
       "<IPython.core.display.HTML object>"
      ]
     },
     "metadata": {},
     "output_type": "display_data"
    },
    {
     "data": {
      "application/javascript": "\n         requirejs( ['basic', 'ecco'], function(basic, ecco){\n            basic.init('viz_66998') // Python needs to know the viz id. Used for each output token.\n            window.ecco['viz_66998'] = new ecco.renderOutputSequence({\n                    parentDiv: 'viz_66998',\n                    data: {\"tokens\": [{\"token\": \"S\", \"is_partial\": true, \"position\": 0, \"token_id\": 50, \"type\": \"input\"}, {\"token\": \"eb\", \"is_partial\": true, \"position\": 1, \"token_id\": 1765, \"type\": \"input\"}, {\"token\": \"ast\", \"is_partial\": true, \"position\": 2, \"token_id\": 459, \"type\": \"input\"}, {\"token\": \"ian\", \"is_partial\": true, \"position\": 3, \"token_id\": 666, \"type\": \"input\"}, {\"token\": \"has\", \"is_partial\": false, \"position\": 4, \"token_id\": 468, \"type\": \"input\"}, {\"token\": \"a\", \"is_partial\": false, \"position\": 5, \"token_id\": 257, \"type\": \"input\"}, {\"token\": \"sister\", \"is_partial\": false, \"position\": 6, \"token_id\": 6621, \"type\": \"input\"}, {\"token\": \"and\", \"is_partial\": false, \"position\": 7, \"token_id\": 290, \"type\": \"input\"}, {\"token\": \"played\", \"is_partial\": false, \"position\": 8, \"token_id\": 2826, \"type\": \"input\"}, {\"token\": \"football\", \"is_partial\": false, \"position\": 9, \"token_id\": 4346, \"type\": \"input\"}, {\"token\": \"and\", \"is_partial\": false, \"position\": 10, \"token_id\": 290, \"type\": \"input\"}, {\"token\": \"Jack\", \"is_partial\": false, \"position\": 11, \"token_id\": 3619, \"type\": \"input\"}, {\"token\": \"scored\", \"is_partial\": false, \"position\": 12, \"token_id\": 7781, \"type\": \"input\"}, {\"token\": \"a\", \"is_partial\": false, \"position\": 13, \"token_id\": 257, \"type\": \"input\"}, {\"token\": \"century\", \"is_partial\": false, \"position\": 14, \"token_id\": 4289, \"type\": \"input\"}, {\"token\": \".\", \"is_partial\": false, \"position\": 15, \"token_id\": 764, \"type\": \"input\"}, {\"token\": \"During\", \"is_partial\": false, \"position\": 16, \"token_id\": 5856, \"type\": \"input\"}, {\"token\": \"Sebastian\", \"is_partial\": false, \"position\": 17, \"token_id\": 26190, \"type\": \"input\"}, {\"token\": \"'s\", \"is_partial\": true, \"position\": 18, \"token_id\": 338, \"type\": \"input\"}, {\"token\": \"sports\", \"is_partial\": false, \"position\": 19, \"token_id\": 5701, \"type\": \"input\"}, {\"token\": \"game\", \"is_partial\": false, \"position\": 20, \"token_id\": 983, \"type\": \"input\"}, {\"token\": \",\", \"is_partial\": true, \"position\": 21, \"token_id\": 11, \"type\": \"input\"}, {\"token\": \"Sebastian\", \"is_partial\": false, \"position\": 22, \"token_id\": 26190, \"type\": \"input\"}, {\"token\": \"bag\", \"is_partial\": false, \"position\": 23, \"token_id\": 6131, \"type\": \"input\"}, {\"token\": \"ged\", \"is_partial\": true, \"position\": 24, \"token_id\": 2004, \"type\": \"input\"}, {\"token\": \"\", \"is_partial\": false, \"position\": 25, \"token_id\": 220, \"type\": \"input\"}]},\n                    tokenization_config: {\"token_prefix\": \"\\u0120\", \"partial_token_prefix\": \"\"}\n            \n            })\n         }, function (err) {\n            console.log(err);\n        })\n        ",
      "text/plain": [
       "<IPython.core.display.Javascript object>"
      ]
     },
     "metadata": {},
     "output_type": "display_data"
    },
    {
     "name": "stderr",
     "output_type": "stream",
     "text": [
      "Setting `pad_token_id` to `eos_token_id`:50256 for open-end generation.\n"
     ]
    },
    {
     "data": {
      "application/javascript": "\n        // We don't really need these require scripts. But this is to avert\n        //this code from running before display_input_sequence which DOES require external files\n        requirejs(['basic', 'ecco'], function(basic, ecco){\n                console.log('addToken viz_id', 'viz_66998');\n                window.ecco['viz_66998'].addToken({\"token\": \"\\u00a0\", \"is_partial\": true, \"token_id\": 1849, \"position\": 26, \"type\": \"output\"})\n                window.ecco['viz_66998'].redraw()\n        })\n        ",
      "text/plain": [
       "<IPython.core.display.Javascript object>"
      ]
     },
     "metadata": {},
     "output_type": "display_data"
    },
    {
     "data": {
      "application/javascript": "\n        // We don't really need these require scripts. But this is to avert\n        //this code from running before display_input_sequence which DOES require external files\n        requirejs(['basic', 'ecco'], function(basic, ecco){\n                console.log('addToken viz_id', 'viz_66998');\n                window.ecco['viz_66998'].addToken({\"token\": \"a\", \"is_partial\": true, \"token_id\": 64, \"position\": 27, \"type\": \"output\"})\n                window.ecco['viz_66998'].redraw()\n        })\n        ",
      "text/plain": [
       "<IPython.core.display.Javascript object>"
      ]
     },
     "metadata": {},
     "output_type": "display_data"
    },
    {
     "data": {
      "application/javascript": "\n        // We don't really need these require scripts. But this is to avert\n        //this code from running before display_input_sequence which DOES require external files\n        requirejs(['basic', 'ecco'], function(basic, ecco){\n                console.log('addToken viz_id', 'viz_66998');\n                window.ecco['viz_66998'].addToken({\"token\": \"goal\", \"is_partial\": false, \"token_id\": 3061, \"position\": 28, \"type\": \"output\"})\n                window.ecco['viz_66998'].redraw()\n        })\n        ",
      "text/plain": [
       "<IPython.core.display.Javascript object>"
      ]
     },
     "metadata": {},
     "output_type": "display_data"
    },
    {
     "data": {
      "text/html": [
       "<html lang=\"en\">\n",
       "<script src=\"https://requirejs.org/docs/release/2.3.6/minified/require.js\"></script>\n",
       "<script>\n",
       "    var ecco_url = 'https://storage.googleapis.com/ml-intro/ecco/'\n",
       "    //var ecco_url = 'http://localhost:8000/'\n",
       "\n",
       "    if (window.ecco === undefined) window.ecco = {}\n",
       "\n",
       "    // Setup the paths of the script we'll be using\n",
       "    requirejs.config({\n",
       "        urlArgs: \"bust=\" + (new Date()).getTime(),\n",
       "        nodeRequire: require,\n",
       "        paths: {\n",
       "            d3: \"https://d3js.org/d3.v6.min\", // This is only for use in setup.html and basic.html\n",
       "            \"d3-array\": \"https://d3js.org/d3-array.v2.min\",\n",
       "            jquery: \"https://code.jquery.com/jquery-3.5.1.min\",\n",
       "            ecco: ecco_url + 'js/0.0.6/ecco-bundle.min',\n",
       "            xregexp: 'https://cdnjs.cloudflare.com/ajax/libs/xregexp/3.2.0/xregexp-all.min'\n",
       "        }\n",
       "    });\n",
       "\n",
       "    // Add the css file\n",
       "    //requirejs(['d3'],\n",
       "    //    function (d3) {\n",
       "    //        d3.select('#css').attr('href', ecco_url + 'html/styles.css')\n",
       "    //    })\n",
       "\n",
       "    console.log('Ecco initialize!!')\n",
       "\n",
       "    // returns a 'basic' object. basic.init() selects the html div we'll be\n",
       "    // rendering the html into, adds styles.css to the document.\n",
       "    define('basic', ['d3'],\n",
       "        function (d3) {\n",
       "            return {\n",
       "                init: function (viz_id = null) {\n",
       "                    if (viz_id == null) {\n",
       "                        viz_id = \"viz_\" + Math.round(Math.random() * 10000000)\n",
       "                    }\n",
       "                    // Select the div rendered below, change its id\n",
       "                    const div = d3.select('#basic').attr('id', viz_id),\n",
       "                        div_parent = d3.select('#' + viz_id).node().parentNode\n",
       "\n",
       "                    // Link to CSS file\n",
       "                    d3.select(div_parent).insert('link')\n",
       "                        .attr('rel', 'stylesheet')\n",
       "                        .attr('type', 'text/css')\n",
       "                        .attr('href', ecco_url + 'html/0.0.2/styles.css')\n",
       "\n",
       "                    return viz_id\n",
       "                }\n",
       "            }\n",
       "        }, function (err) {\n",
       "            console.log(err);\n",
       "        }\n",
       "    )\n",
       "</script>\n",
       "\n",
       "<head>\n",
       "    <link id='css' rel=\"stylesheet\" type=\"text/css\">\n",
       "</head>\n",
       "<div id=\"basic\"></div>\n"
      ],
      "text/plain": [
       "<IPython.core.display.HTML object>"
      ]
     },
     "metadata": {},
     "output_type": "display_data"
    },
    {
     "data": {
      "application/javascript": "\n         requirejs( ['basic', 'ecco'], function(basic, ecco){\n            basic.init('viz_366325') // Python needs to know the viz id. Used for each output token.\n            window.ecco['viz_366325'] = new ecco.renderOutputSequence({\n                    parentDiv: 'viz_366325',\n                    data: {\"tokens\": [{\"token\": \"S\", \"is_partial\": true, \"position\": 0, \"token_id\": 50, \"type\": \"input\"}, {\"token\": \"eb\", \"is_partial\": true, \"position\": 1, \"token_id\": 1765, \"type\": \"input\"}, {\"token\": \"ast\", \"is_partial\": true, \"position\": 2, \"token_id\": 459, \"type\": \"input\"}, {\"token\": \"ian\", \"is_partial\": true, \"position\": 3, \"token_id\": 666, \"type\": \"input\"}, {\"token\": \"has\", \"is_partial\": false, \"position\": 4, \"token_id\": 468, \"type\": \"input\"}, {\"token\": \"a\", \"is_partial\": false, \"position\": 5, \"token_id\": 257, \"type\": \"input\"}, {\"token\": \"sister\", \"is_partial\": false, \"position\": 6, \"token_id\": 6621, \"type\": \"input\"}, {\"token\": \"and\", \"is_partial\": false, \"position\": 7, \"token_id\": 290, \"type\": \"input\"}, {\"token\": \"played\", \"is_partial\": false, \"position\": 8, \"token_id\": 2826, \"type\": \"input\"}, {\"token\": \"football\", \"is_partial\": false, \"position\": 9, \"token_id\": 4346, \"type\": \"input\"}, {\"token\": \"and\", \"is_partial\": false, \"position\": 10, \"token_id\": 290, \"type\": \"input\"}, {\"token\": \"Jack\", \"is_partial\": false, \"position\": 11, \"token_id\": 3619, \"type\": \"input\"}, {\"token\": \"scored\", \"is_partial\": false, \"position\": 12, \"token_id\": 7781, \"type\": \"input\"}, {\"token\": \"a\", \"is_partial\": false, \"position\": 13, \"token_id\": 257, \"type\": \"input\"}, {\"token\": \"century\", \"is_partial\": false, \"position\": 14, \"token_id\": 4289, \"type\": \"input\"}, {\"token\": \".\", \"is_partial\": false, \"position\": 15, \"token_id\": 764, \"type\": \"input\"}, {\"token\": \"During\", \"is_partial\": false, \"position\": 16, \"token_id\": 5856, \"type\": \"input\"}, {\"token\": \"Sebastian\", \"is_partial\": false, \"position\": 17, \"token_id\": 26190, \"type\": \"input\"}, {\"token\": \"'s\", \"is_partial\": true, \"position\": 18, \"token_id\": 338, \"type\": \"input\"}, {\"token\": \"sports\", \"is_partial\": false, \"position\": 19, \"token_id\": 5701, \"type\": \"input\"}, {\"token\": \"game\", \"is_partial\": false, \"position\": 20, \"token_id\": 983, \"type\": \"input\"}, {\"token\": \",\", \"is_partial\": true, \"position\": 21, \"token_id\": 11, \"type\": \"input\"}, {\"token\": \"Sebastian\", \"is_partial\": false, \"position\": 22, \"token_id\": 26190, \"type\": \"input\"}, {\"token\": \"scored\", \"is_partial\": false, \"position\": 23, \"token_id\": 7781, \"type\": \"input\"}, {\"token\": \"\", \"is_partial\": false, \"position\": 24, \"token_id\": 220, \"type\": \"input\"}]},\n                    tokenization_config: {\"token_prefix\": \"\\u0120\", \"partial_token_prefix\": \"\"}\n            \n            })\n         }, function (err) {\n            console.log(err);\n        })\n        ",
      "text/plain": [
       "<IPython.core.display.Javascript object>"
      ]
     },
     "metadata": {},
     "output_type": "display_data"
    },
    {
     "name": "stderr",
     "output_type": "stream",
     "text": [
      "Setting `pad_token_id` to `eos_token_id`:50256 for open-end generation.\n"
     ]
    },
    {
     "data": {
      "application/javascript": "\n        // We don't really need these require scripts. But this is to avert\n        //this code from running before display_input_sequence which DOES require external files\n        requirejs(['basic', 'ecco'], function(basic, ecco){\n                console.log('addToken viz_id', 'viz_366325');\n                window.ecco['viz_366325'].addToken({\"token\": \"\\u00a0\", \"is_partial\": true, \"token_id\": 1849, \"position\": 25, \"type\": \"output\"})\n                window.ecco['viz_366325'].redraw()\n        })\n        ",
      "text/plain": [
       "<IPython.core.display.Javascript object>"
      ]
     },
     "metadata": {},
     "output_type": "display_data"
    },
    {
     "data": {
      "application/javascript": "\n        // We don't really need these require scripts. But this is to avert\n        //this code from running before display_input_sequence which DOES require external files\n        requirejs(['basic', 'ecco'], function(basic, ecco){\n                console.log('addToken viz_id', 'viz_366325');\n                window.ecco['viz_366325'].addToken({\"token\": \"a\", \"is_partial\": true, \"token_id\": 64, \"position\": 26, \"type\": \"output\"})\n                window.ecco['viz_366325'].redraw()\n        })\n        ",
      "text/plain": [
       "<IPython.core.display.Javascript object>"
      ]
     },
     "metadata": {},
     "output_type": "display_data"
    },
    {
     "data": {
      "application/javascript": "\n        // We don't really need these require scripts. But this is to avert\n        //this code from running before display_input_sequence which DOES require external files\n        requirejs(['basic', 'ecco'], function(basic, ecco){\n                console.log('addToken viz_id', 'viz_366325');\n                window.ecco['viz_366325'].addToken({\"token\": \"century\", \"is_partial\": false, \"token_id\": 4289, \"position\": 27, \"type\": \"output\"})\n                window.ecco['viz_366325'].redraw()\n        })\n        ",
      "text/plain": [
       "<IPython.core.display.Javascript object>"
      ]
     },
     "metadata": {},
     "output_type": "display_data"
    }
   ],
   "source": [
    "num_generated_tokens = 3\n",
    "attributions_ig = []\n",
    "attributions_gxi = []\n",
    "output_from_pairs = []\n",
    "\n",
    "for benign, adversarial in benign_adversarial_pairs:\n",
    "    # temporary, appended to list as tuple at end of loop\n",
    "    outputs = [] \n",
    "    temp_attr_ig = []\n",
    "    temp_attr_gxi = []\n",
    "    for text in [benign, adversarial]:\n",
    "        \n",
    "        output = lm.generate(text, generate=num_generated_tokens, do_sample=False, attribution=['ig', 'grad_x_input'])\n",
    "        ig_attributions = output.attribution[\"ig\"]\n",
    "        gxi_attributions = output.attribution[\"grad_x_input\"]\n",
    "\n",
    "        len_input = len(ig_attributions[0])\n",
    "        output_tokens = clean_tokens(output.tokens[0][len_input: len(output.tokens[0])])\n",
    "        input_tokens = clean_tokens(output.tokens[0][:len_input])\n",
    "        outputs.append(\" \".join(output_tokens))\n",
    "\n",
    "        for type, attributions in zip([\"ig\", \"gxi\"], [ig_attributions, gxi_attributions]):\n",
    "            new_token_attributions = {}\n",
    "\n",
    "            for i, out_token in enumerate(output_tokens):\n",
    "                attr_dict = defaultdict(list)\n",
    "\n",
    "                for j, in_token in enumerate(input_tokens):\n",
    "                    attr_dict[in_token].append(attributions[i][j])\n",
    "                # end for j, in_token\n",
    "\n",
    "                new_token_attributions[out_token] = dict(attr_dict)\n",
    "            # end for i, out_token\n",
    "\n",
    "            if type == \"ig\":\n",
    "                temp_attr_ig.append(new_token_attributions)\n",
    "            elif type == \"gxi\":\n",
    "                temp_attr_gxi.append(new_token_attributions)\n",
    "        # end for type, attributions\n",
    "\n",
    "    # end for text\n",
    "    output_from_pairs.append(tuple(outputs))\n",
    "    attributions_ig.append(tuple(temp_attr_ig))\n",
    "    attributions_gxi.append(tuple(temp_attr_gxi))\n",
    "#end for benign, adversarial\n",
    "        \n",
    "    "
   ]
  },
  {
   "cell_type": "code",
   "execution_count": 11,
   "metadata": {},
   "outputs": [],
   "source": [
    "def construct(token_list, token, working_list = []):\n",
    "    \"\"\"\n",
    "    recursively constructs words from tokens\n",
    "    \"\"\"\n",
    "    for t in token_list:\n",
    "        if token.startswith(t):\n",
    "            newlist = working_list.copy()\n",
    "            newlist.append(t)\n",
    "            if len(t) == len(token):\n",
    "                return newlist\n",
    "            else:\n",
    "                return construct(token_list, token[len(t):], working_list=newlist)\n",
    "    return None\n",
    "\n",
    "def _get_attr_tokenized(attributions, in_token, out_token):\n",
    "    return attributions[out_token][in_token]\n",
    "\n",
    "def generate_attribution_matrix(attributions, in_tokens, out_tokens):\n",
    "    \"\"\"\n",
    "    generates matrix showing saliencies\n",
    "    input tokens on the rows and output tokens on the columns\n",
    "    \"\"\"\n",
    "    # List of tuples\n",
    "    attribution_table = []\n",
    "    for in_token in in_tokens:\n",
    "        row = []\n",
    "        for out_token in out_tokens:\n",
    "            row.append(_get_attr_tokenized(attributions, in_token, out_token))\n",
    "        attribution_table.append(tuple(row))\n",
    "\n",
    "    return pd.DataFrame(attribution_table, columns=out_tokens, index=in_tokens)\n",
    "\n",
    "def get_attr_of_input(attributions, in_token, out_token):\n",
    "    \"\"\"\n",
    "    attributions : dict keyed by output tokens\n",
    "    in_token : str\n",
    "    out_token : str\n",
    "    \"\"\"\n",
    "\n",
    "    if out_token in attributions.keys():\n",
    "        out_tokens = [out_token]\n",
    "    elif (construction := construct(attributions.keys(), out_token)) is not None:\n",
    "        in_tokens = construction\n",
    "    else:\n",
    "        return None\n",
    "    \n",
    "    if in_token in attributions[out_tokens[0]]:\n",
    "        in_tokens = [in_token]\n",
    "    elif (construction := construct(attributions[out_tokens[0]].keys(), in_token)) is not None:\n",
    "        in_tokens = construction\n",
    "    else:\n",
    "        return None\n",
    "\n",
    "    return generate_attribution_matrix(attributions, in_tokens, out_tokens)\n",
    "    # return in_tokens, out_tokens\n",
    "\n",
    "    # return attributions[out_token][in_token]"
   ]
  },
  {
   "cell_type": "code",
   "execution_count": 8,
   "metadata": {},
   "outputs": [
    {
     "data": {
      "text/plain": [
       "['bag', 'ged']"
      ]
     },
     "execution_count": 8,
     "metadata": {},
     "output_type": "execute_result"
    }
   ],
   "source": [
    "construct(attributions_ig[0][0][\" \"], \"bagged\")"
   ]
  },
  {
   "cell_type": "code",
   "execution_count": 12,
   "metadata": {},
   "outputs": [
    {
     "name": "stdout",
     "output_type": "stream",
     "text": [
      "  a goal\n",
      "                       goal\n",
      "bag    [0.0432170415505701]\n",
      "ged  [0.017419809582593163]\n",
      "                        goal\n",
      "scored  [0.0450001573294738]\n",
      "                                           century\n",
      "scored  [0.05390304364669366, 0.02892932742545027]\n"
     ]
    }
   ],
   "source": [
    "# 0 is benign, 1 is adversarial\n",
    "idx = 0\n",
    "BENIGN = 0\n",
    "ADVERSARIAL = 1\n",
    "\n",
    "print(output_from_pairs[idx][BENIGN])\n",
    "print(get_attr_of_input(attributions_ig[idx][BENIGN], \"bagged\", \"goal\"))\n",
    "print(get_attr_of_input(attributions_ig[idx][BENIGN], \"scored\", \"goal\"))\n",
    "print(get_attr_of_input(attributions_ig[idx][ADVERSARIAL], \"scored\", \"century\"))"
   ]
  }
 ],
 "metadata": {
  "kernelspec": {
   "display_name": "Python 3.10.4 ('conda_env_2')",
   "language": "python",
   "name": "python3"
  },
  "language_info": {
   "codemirror_mode": {
    "name": "ipython",
    "version": 3
   },
   "file_extension": ".py",
   "mimetype": "text/x-python",
   "name": "python",
   "nbconvert_exporter": "python",
   "pygments_lexer": "ipython3",
   "version": "3.10.4"
  },
  "orig_nbformat": 4,
  "vscode": {
   "interpreter": {
    "hash": "ae1d87ecb394cc026e5808a214c9324b446c57bada17f72dd782d3c06c033c16"
   }
  }
 },
 "nbformat": 4,
 "nbformat_minor": 2
}

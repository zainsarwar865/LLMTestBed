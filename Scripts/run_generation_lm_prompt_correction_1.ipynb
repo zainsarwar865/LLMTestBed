{
 "cells": [
  {
   "cell_type": "code",
   "execution_count": 1,
   "metadata": {},
   "outputs": [],
   "source": [
    "import torch\n",
    "import torch.nn as nn\n",
    "import numpy as np\n",
    "import pandas as pd\n",
    "from transformers import GPT2Tokenizer, GPT2LMHeadModel\n",
    "import os\n",
    "import pickle\n",
    "\n",
    "\n"
   ]
  },
  {
   "cell_type": "code",
   "execution_count": 2,
   "metadata": {},
   "outputs": [],
   "source": [
    "import os\n",
    "os.environ['CUDA_VISIBLE_DEVICES'] = '3'"
   ]
  },
  {
   "cell_type": "code",
   "execution_count": 3,
   "metadata": {},
   "outputs": [],
   "source": [
    "if torch.cuda.is_available():\n",
    "    device = \"cuda:0\""
   ]
  },
  {
   "cell_type": "code",
   "execution_count": 4,
   "metadata": {},
   "outputs": [],
   "source": [
    "#model = GPT2LMHeadModel.from_pretrained('gpt2-xl', cache_dir='/bigstor/zsarwar/models/cache/')\n",
    "tokenizer = GPT2Tokenizer.from_pretrained('gpt2-large', cache_dir='/bigstor/zsarwar/models/cache/')\n"
   ]
  },
  {
   "cell_type": "code",
   "execution_count": 10,
   "metadata": {},
   "outputs": [
    {
     "data": {
      "text/plain": [
       "27"
      ]
     },
     "execution_count": 10,
     "metadata": {},
     "output_type": "execute_result"
    }
   ],
   "source": [
    "len(tokenizer(\"Joe has a sister, played basketball and now lives in China and Jack lives in Santiago. The capital of Joe's country of residence is\")['input_ids'])"
   ]
  },
  {
   "cell_type": "code",
   "execution_count": null,
   "metadata": {},
   "outputs": [],
   "source": []
  },
  {
   "cell_type": "code",
   "execution_count": 6,
   "metadata": {},
   "outputs": [],
   "source": [
    "model = model.to(device)"
   ]
  },
  {
   "cell_type": "code",
   "execution_count": 7,
   "metadata": {},
   "outputs": [],
   "source": [
    "# Loading a pickle object\n",
    "input_dataset = \"/home/zsarwar/NLP/NLP_Repo/NLP_Project/Results/Incorrect/GPT2-XL/predictions_small_complete_data_For_MultipleEntityObjectDistractorAccuracyGPT2XL.pickle\"\n",
    "with open(input_dataset, 'rb') as in_file:\n",
    "    s_l = pickle.load(in_file)\n",
    "\n",
    "curr_file = \"\""
   ]
  },
  {
   "cell_type": "code",
   "execution_count": 8,
   "metadata": {},
   "outputs": [],
   "source": [
    "#This is for if you are continuing predictions from the above dataset\n",
    "#Don't run cell below if you run this\n",
    "#Loading currently saved prediction \n",
    "#Current saved pickle file for all prompts already corrected\n",
    "curr_file = \"/home/zsarwar/NLP/NLP_Repo/NLP_Project/Results/Corrected/GPT2-XL/predictions_small_complete_data_For_MultipleEntityObjectDistractorAccuracyGPT2XL.pickle\"\n",
    "\n",
    "with open(curr_file,'rb') as c_file:\n",
    "    curr_ds = pickle.load(c_file)\n",
    "\n",
    "\n",
    "# This is if you are starting work on this dataset\n",
    "\n",
    "all_sents = curr_ds['all_sents']\n",
    "all_preds = curr_ds['all_preds']\n",
    "all_true_labels = curr_ds['all_true_labels']\n",
    "all_pred_labels_correct = curr_ds['all_pred_labels_correct']\n",
    "\n",
    "current_index = len(all_sents)"
   ]
  },
  {
   "cell_type": "code",
   "execution_count": 8,
   "metadata": {},
   "outputs": [],
   "source": [
    "# This is if you are starting work on this dataset\n",
    "#Don't run cell above if you run this\n",
    "all_sents = []\n",
    "all_preds = []\n",
    "all_true_labels = []\n",
    "all_pred_labels_correct = []\n",
    "all_curr_pred_label_val = []\n",
    "current_index = 0"
   ]
  },
  {
   "cell_type": "code",
   "execution_count": 8,
   "metadata": {},
   "outputs": [],
   "source": [
    "# Start of a 'loop'"
   ]
  },
  {
   "cell_type": "code",
   "execution_count": 8,
   "metadata": {},
   "outputs": [],
   "source": [
    "pred_correct = False"
   ]
  },
  {
   "cell_type": "code",
   "execution_count": 9,
   "metadata": {},
   "outputs": [],
   "source": [
    "curr_sent = s_l['sentences'][current_index]"
   ]
  },
  {
   "cell_type": "code",
   "execution_count": 10,
   "metadata": {},
   "outputs": [
    {
     "data": {
      "text/plain": [
       "\"Sebastian has a sister , played basketball and now lives in France and has travelled to Helsinki , Jakarta and Warsaw . The capital of Sebastian's country is\""
      ]
     },
     "execution_count": 10,
     "metadata": {},
     "output_type": "execute_result"
    }
   ],
   "source": [
    "curr_sent"
   ]
  },
  {
   "cell_type": "code",
   "execution_count": 11,
   "metadata": {},
   "outputs": [
    {
     "data": {
      "text/plain": [
       "' Warsaw, where he is a student at the University of'"
      ]
     },
     "execution_count": 11,
     "metadata": {},
     "output_type": "execute_result"
    }
   ],
   "source": [
    "curr_pred = s_l['predictions'][current_index]\n",
    "curr_pred"
   ]
  },
  {
   "cell_type": "code",
   "execution_count": 12,
   "metadata": {},
   "outputs": [
    {
     "data": {
      "text/plain": [
       "'paris'"
      ]
     },
     "execution_count": 12,
     "metadata": {},
     "output_type": "execute_result"
    }
   ],
   "source": [
    "curr_label = s_l['labels'][current_index]\n",
    "all_true_labels.append(curr_label)\n",
    "curr_label"
   ]
  },
  {
   "cell_type": "code",
   "execution_count": null,
   "metadata": {},
   "outputs": [],
   "source": []
  },
  {
   "cell_type": "code",
   "execution_count": 40,
   "metadata": {},
   "outputs": [
    {
     "name": "stderr",
     "output_type": "stream",
     "text": [
      "The attention mask and the pad token id were not set. As a consequence, you may observe unexpected behavior. Please pass your input's `attention_mask` to obtain reliable results.\n",
      "Setting `pad_token_id` to `eos_token_id`:50256 for open-end generation.\n"
     ]
    },
    {
     "data": {
      "text/plain": [
       "' Paris.\\n\\nThe show is set in Paris'"
      ]
     },
     "execution_count": 40,
     "metadata": {},
     "output_type": "execute_result"
    }
   ],
   "source": [
    "new_prompt = \"Jack has a sister, played basketball and now lives in Indonesia and Jake lives in Paris. The capital of the country Jack lives in is\"\n",
    "\n",
    "encoded_prompt = tokenizer(new_prompt,add_special_tokens=False, return_attention_mask=False, return_tensors='pt').input_ids.to(device)\n",
    "outputs = model.generate(encoded_prompt, do_sample=False, max_new_tokens=10, output_scores=True, return_dict_in_generate=True)\n",
    "answer_start_idx = encoded_prompt.size()[1]\n",
    "gen_answer = tokenizer.decode(outputs.sequences[0][answer_start_idx:], skip_special_tokens=True)\n",
    "gen_answer"
   ]
  },
  {
   "cell_type": "code",
   "execution_count": 16,
   "metadata": {},
   "outputs": [
    {
     "name": "stdout",
     "output_type": "stream",
     "text": [
      "Correct prediction\n"
     ]
    }
   ],
   "source": [
    "if(curr_label in gen_answer.lower()):\n",
    "    print(\"Correct prediction\")\n",
    "    current_index+=1\n",
    "    pred_correct = True\n",
    "    \n",
    "else:\n",
    "    print(\"Incorrect prediction\")\n",
    "    current_index+=1\n",
    "    pred_correct=False\n",
    "\n",
    "if(pred_correct):\n",
    "# Save all prompts that generate the correct answer in the format of the input pickle file\n",
    "    all_pred_labels_correct.append(\"Correct\")\n",
    "else:\n",
    "    all_pred_labels_correct.append(\"Incorrect\")\n",
    "\n",
    "\n",
    "all_sents.append(new_prompt)\n",
    "all_preds.append(gen_answer)"
   ]
  },
  {
   "cell_type": "code",
   "execution_count": 17,
   "metadata": {},
   "outputs": [
    {
     "data": {
      "text/plain": [
       "['Rowan has a sister and now lives in France and has travelled to Santiago, Helsinki and Warsaw. The capital of the country in which Rowan lives is',\n",
       " 'Rowan lives in France and has travelled to Beijing , Warsaw and Helsinki . The capital of the country Rowan lives in is',\n",
       " 'Rowan lives in France and has travelled to Helsinki , Beijing and Warsaw . The capital of the country Rowan lives in is',\n",
       " \"Rowan has a sister and now lives in France and has travelled to Helsinki, Beijing and Warsaw. The capital of Rowan's country of residence is the city of\",\n",
       " \"Sebastian has a sister and now lives in France and has travelled to Helsinki , Jakarta and Warsaw . The capital of the country Sebastian's lives in is the city of\",\n",
       " \"Sebastian has a sister, played basketball and now lives in France and has travelled to Helsinki, Jakarta and Warsaw . The capital of Sebastian's country is\"]"
      ]
     },
     "execution_count": 17,
     "metadata": {},
     "output_type": "execute_result"
    }
   ],
   "source": [
    "all_sents\n"
   ]
  },
  {
   "cell_type": "code",
   "execution_count": 18,
   "metadata": {},
   "outputs": [
    {
     "data": {
      "text/plain": [
       "[\" called Paris.\\n\\nRowan's mother, who is in\",\n",
       " ' Paris.\\n\\nShe has been a member of the Chinese Communist',\n",
       " ' Paris.\\n\\nThe first time I met Rowan was in',\n",
       " \" Paris.\\n\\nRowan's father, who is a retired teacher, is a retired police officer\",\n",
       " ' Warsaw.\\n\\nSebastian is a very good friend of the author and has been for',\n",
       " ' Paris.\\n\\nSebastian is a big fan of the band \"The Killers\"']"
      ]
     },
     "execution_count": 18,
     "metadata": {},
     "output_type": "execute_result"
    }
   ],
   "source": [
    "\n",
    "all_preds "
   ]
  },
  {
   "cell_type": "code",
   "execution_count": 19,
   "metadata": {},
   "outputs": [
    {
     "data": {
      "text/plain": [
       "['paris', 'paris', 'paris', 'paris', 'paris', 'paris', 'paris', 'paris']"
      ]
     },
     "execution_count": 19,
     "metadata": {},
     "output_type": "execute_result"
    }
   ],
   "source": [
    "all_true_labels"
   ]
  },
  {
   "cell_type": "code",
   "execution_count": 20,
   "metadata": {},
   "outputs": [
    {
     "data": {
      "text/plain": [
       "['Rowan has a sister and now lives in France and has travelled to Santiago, Helsinki and Warsaw. The capital of the country in which Rowan lives is',\n",
       " 'Rowan lives in France and has travelled to Beijing , Warsaw and Helsinki . The capital of the country Rowan lives in is',\n",
       " 'Rowan lives in France and has travelled to Helsinki , Beijing and Warsaw . The capital of the country Rowan lives in is',\n",
       " \"Rowan has a sister and now lives in France and has travelled to Helsinki, Beijing and Warsaw. The capital of Rowan's country of residence is the city of\",\n",
       " \"Sebastian has a sister and now lives in France and has travelled to Helsinki , Jakarta and Warsaw . The capital of the country Sebastian's lives in is the city of\",\n",
       " \"Sebastian has a sister, played basketball and now lives in France and has travelled to Helsinki, Jakarta and Warsaw . The capital of Sebastian's country is\"]"
      ]
     },
     "execution_count": 20,
     "metadata": {},
     "output_type": "execute_result"
    }
   ],
   "source": [
    "all_sents"
   ]
  },
  {
   "cell_type": "code",
   "execution_count": null,
   "metadata": {},
   "outputs": [],
   "source": []
  },
  {
   "cell_type": "code",
   "execution_count": null,
   "metadata": {},
   "outputs": [],
   "source": []
  },
  {
   "cell_type": "code",
   "execution_count": null,
   "metadata": {},
   "outputs": [],
   "source": []
  },
  {
   "cell_type": "code",
   "execution_count": 21,
   "metadata": {},
   "outputs": [],
   "source": [
    "# Stop and save your current progress"
   ]
  },
  {
   "cell_type": "code",
   "execution_count": 22,
   "metadata": {},
   "outputs": [],
   "source": [
    "new_prompts_preds = {}\n",
    "new_prompts_preds['all_sents'] = all_sents\n",
    "new_prompts_preds['all_preds'] = all_preds\n",
    "new_prompts_preds['all_true_labels'] = all_true_labels\n",
    "new_prompts_preds['all_pred_labels_correct'] = all_pred_labels_correct"
   ]
  },
  {
   "cell_type": "code",
   "execution_count": 23,
   "metadata": {},
   "outputs": [],
   "source": [
    "if(curr_file != \"\"):\n",
    "    out_file = curr_file\n",
    "else:\n",
    "    out_dir = '/'.join(input_dataset.split('/')[0:-3])\n",
    "    out_file = out_dir + '/' + 'Corrected/GPT2-XL/' + input_dataset.split('/')[-1]\n"
   ]
  },
  {
   "cell_type": "code",
   "execution_count": 24,
   "metadata": {},
   "outputs": [
    {
     "data": {
      "text/plain": [
       "'/home/zsarwar/NLP/NLP_Repo/NLP_Project/Results/Corrected/GPT2-XL/predictions_small_complete_data_For_MultipleEntityObjectDistractorAccuracyGPT2XL.pickle'"
      ]
     },
     "execution_count": 24,
     "metadata": {},
     "output_type": "execute_result"
    }
   ],
   "source": [
    "out_file"
   ]
  },
  {
   "cell_type": "code",
   "execution_count": 25,
   "metadata": {},
   "outputs": [],
   "source": [
    "with open(out_file, 'wb') as o_file:\n",
    "    pickle.dump(new_prompts_preds, o_file)"
   ]
  },
  {
   "cell_type": "code",
   "execution_count": null,
   "metadata": {},
   "outputs": [],
   "source": []
  }
 ],
 "metadata": {
  "kernelspec": {
   "display_name": "Python 3.9.12 ('conda_env_2')",
   "language": "python",
   "name": "python3"
  },
  "language_info": {
   "codemirror_mode": {
    "name": "ipython",
    "version": 3
   },
   "file_extension": ".py",
   "mimetype": "text/x-python",
   "name": "python",
   "nbconvert_exporter": "python",
   "pygments_lexer": "ipython3",
   "version": "3.9.12"
  },
  "orig_nbformat": 4,
  "vscode": {
   "interpreter": {
    "hash": "3561554edce98395dff0374c85b70e51cb1afebe2ecc296e0c1c886ecb81ec48"
   }
  }
 },
 "nbformat": 4,
 "nbformat_minor": 2
}

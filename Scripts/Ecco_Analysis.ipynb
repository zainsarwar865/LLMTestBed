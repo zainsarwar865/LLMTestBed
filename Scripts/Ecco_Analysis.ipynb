{
 "cells": [
  {
   "cell_type": "markdown",
   "metadata": {},
   "source": [
    "# Primary Attributions\n",
    "\n",
    "This notebook contains visualizations for primary attribution methods, by that means, methods that evaluate the contribution of each input feature to the output of a model.\n",
    "\n",
    "Now we are currently supporting:\n",
    "- Gradient saliency\n",
    "- Input X Gradient saliency\n",
    "- Integrated Gradients\n",
    "- DeepLift\n",
    "- DeepLife with SHAP\n",
    "- Guided Backpropagation\n",
    "- Guided GradCam\n",
    "- Deconvolution\n",
    "- Layer-wise Relevance Propagation"
   ]
  },
  {
   "cell_type": "code",
   "execution_count": 1,
   "metadata": {},
   "outputs": [
    {
     "data": {
      "text/plain": [
       "'\\nJoe works as an optician and Sebastian works as a fisherman . For his job , Sebastian sells [MASK] .\\tfish\\nJoe drives a car and now works as an optician and Sebastian works as a fisherman . For his job , Sebastian sells [MASK] .\\tfish\\nJoe drives a car , sits by the lake and now works as an optician and Sebastian works as a fisherman . For his job , Sebastian sells [MASK] .\\tfish\\nJoe drives a car , sits by the lake , slept late last week and now works as an optician and Sebastian works as a fisherman . For his job , Sebastian sells [MASK] .\\tfish\\nJake works as an optician and Joe works as a painter . For his job , Joe sells [MASK] .\\tpaintings\\n'"
      ]
     },
     "execution_count": 1,
     "metadata": {},
     "output_type": "execute_result"
    }
   ],
   "source": [
    "# Examples\n",
    "\"\"\"\n",
    "Daniel works as a florist . For his job , Daniel sells [MASK] .\tflowers\n",
    "Sebastian works as an optician . For his job , Sebastian sells [MASK] .\tglasses\n",
    "Joe works as a baker . For his job , Joe sells [MASK] .\tbread\n",
    "Jack works as a painter . For his job , Jack sells [MASK] .\tpaintings\n",
    "Daniel now works as a florist . For his job , Daniel sells [MASK] .\tflowers\n",
    "Daniel has a sister amd now works as a florist . For his job , Daniel sells [MASK] .\tflowers\n",
    "Daniel has a sister , played basketball , sang in a choir , and now works as a florist . For his job , Daniel sells [MASK] .\tflowers\n",
    "Sebastian works as an optician . For his job , Sebastian sells [MASK] .\tglasses\n",
    "Sebastian has a sister and now works as an optician . For his job , Sebastian sells [MASK] .\tglasses\n",
    "Sebastian has a sister , played basketball , and now works as an optician . For his job , Sebastian sells [MASK] .\tglasses\n",
    "Sebastian has a sister , played basketball , sang in a choir , and now works as an optician . For his job , Sebastian sells [MASK] .\tglasses\n",
    "Daniel works as a butcher . For his job , Daniel sells [MASK] .\tmeat\n",
    "Daniel has a sister and now works as a butcher . For his job , Daniel sells [MASK] .\tmeat\n",
    "Daniel has a sister , played basketball , and now works as a butcher . For his job , Daniel sells [MASK] .\tmeat\n",
    "Daniel has a sister , played basketball , sang in a choir , and now works as a butcher . For his job , Daniel sells [MASK] .\tmeat\n",
    "Joe works as a baker . For his job , Joe sells [MASK] .\tbread\n",
    "Joe has a sister and now works as a baker . For his job , Joe sells [MASK] .\tbread\n",
    "\n",
    "\"\"\"\n",
    "\n",
    "\n",
    "\"\"\"\n",
    "Joe works as an optician and Sebastian works as a fisherman . For his job , Sebastian sells [MASK] .\tfish\n",
    "Joe drives a car and now works as an optician and Sebastian works as a fisherman . For his job , Sebastian sells [MASK] .\tfish\n",
    "Joe drives a car , sits by the lake and now works as an optician and Sebastian works as a fisherman . For his job , Sebastian sells [MASK] .\tfish\n",
    "Joe drives a car , sits by the lake , slept late last week and now works as an optician and Sebastian works as a fisherman . For his job , Sebastian sells [MASK] .\tfish\n",
    "Jake works as an optician and Joe works as a painter . For his job , Joe sells [MASK] .\tpaintings\n",
    "\"\"\""
   ]
  },
  {
   "cell_type": "code",
   "execution_count": 2,
   "metadata": {},
   "outputs": [
    {
     "data": {
      "text/plain": [
       "\"\\n# Multiple entities\\n\\nSebastian lives in France. The capital of Sebastian's country is\\nSebastian lives in France, Rowan lives in Indonesia, and Daniel lives in Chile. The capital of Sebastian's country is\\nSebastian lives in France, Rowan lives in Jakarta, and Daniel lives in Santiago. The capital of Sebastian's country is \\nSebastian lives in France, Rowan drives a car, and Daniel writes poetry. The capital of Sebastian's country is\\n\\n\\n# Single entities\\n\\nSebastian lives in France, and has visited Indonesia and Chile. The capital of Sebastian's country is\\nSebastian lives in France, and has visited Jakarta and Santiago. The capital of Sebastian's country is\\nSebastian lives in France, drives a car, and writes poetry. The capital of Sebastian's country is\\n\\n\\n\""
      ]
     },
     "execution_count": 2,
     "metadata": {},
     "output_type": "execute_result"
    }
   ],
   "source": [
    "# Exmaples from the paper\n",
    "\"\"\"\n",
    "# Multiple entities\n",
    "\n",
    "Sebastian lives in France. The capital of Sebastian's country is\n",
    "Sebastian lives in France, Rowan lives in Indonesia, and Daniel lives in Chile. The capital of Sebastian's country is\n",
    "Sebastian lives in France, Rowan lives in Jakarta, and Daniel lives in Santiago. The capital of Sebastian's country is \n",
    "Sebastian lives in France, Rowan drives a car, and Daniel writes poetry. The capital of Sebastian's country is\n",
    "\n",
    "\n",
    "# Single entities\n",
    "\n",
    "Sebastian lives in France, and has visited Indonesia and Chile. The capital of Sebastian's country is\n",
    "Sebastian lives in France, and has visited Jakarta and Santiago. The capital of Sebastian's country is\n",
    "Sebastian lives in France, drives a car, and writes poetry. The capital of Sebastian's country is\n",
    "\n",
    "\n",
    "\"\"\""
   ]
  },
  {
   "cell_type": "code",
   "execution_count": 1,
   "metadata": {},
   "outputs": [],
   "source": [
    "import os\n",
    "import torch\n",
    "os.environ['CUDA_VISIBLE_DEVICES'] = '2'"
   ]
  },
  {
   "cell_type": "code",
   "execution_count": 2,
   "metadata": {
    "colab": {
     "base_uri": "https://localhost:8080/",
     "height": 215,
     "referenced_widgets": [
      "66ee7dd681184981a67e2b9dd5fdd6f0",
      "0e6405015df340b3bdc58694ebd4ecf4",
      "1198ffa7ad12484f9ac4048835321335",
      "819c4c5a5b3349bcade558a02106c0c4",
      "9254b1b515654fe9be6ffc08c2b15e4b",
      "ea23401f422c4201a2ccd2a45c426d52",
      "e0fcf661019f4e3da00175887b431ccc",
      "5e4aa51d413b4004bee30cce914d193e",
      "5fd6963056bf4687a15c941d3be3494b",
      "9a961b8a92334bedaeda460e4c92befc",
      "5a022265356840a5a3fb60ec1ab69d9f",
      "01e1163950684dc6b7fa868e7b9315a4",
      "6b92f7b5d29e4fa786f03c9a6267cec4",
      "a9682d37555846aeb124b69cf38092c3",
      "ff801625f32e452e84c2bcefccabbad3",
      "14dd95b6e25b462e87175be869146d05",
      "2d5ded1ce3034928b9675c598f5144e6",
      "03de4b4c35ce4b3a87f0b06743707c65",
      "31a4e3758a474c3da4a49bd5c4c396a4",
      "deaba8a37b4a40e2a5e42c8e4044f5ef",
      "41e537de9f8c4912a59ec4dc30e405f5",
      "a573b926127f471d90552617dbd355ac",
      "7d93ca3793fb43ba824f743aa9a7c208",
      "dde55076d6544256b821e4364e787a7f",
      "b54a170e8e20428dbd08dcbececa6174",
      "a7f991e0d30b4a2bbdf4efe3085b60ec",
      "59c41cdb09dc43448f8cf3b3edacc9f6",
      "a33793da690a401f84cfc27fe66b58d3",
      "6f42cc0bd0414b09994f8ca293b31db3",
      "ff151fd817e84f939614c8001ea02384",
      "bc6eb47a66bc4fbe88efa7878e1fd02e",
      "cdc358ab0d7b4cb3b911102f5b5ea48f"
     ]
    },
    "id": "zzcMoKUkV3aH",
    "outputId": "e88438a9-112f-4dfe-9897-88a589e42218"
   },
   "outputs": [],
   "source": [
    "import ecco\n",
    "lm = ecco.from_pretrained('gpt2-large')"
   ]
  },
  {
   "cell_type": "code",
   "execution_count": 8,
   "metadata": {
    "colab": {
     "base_uri": "https://localhost:8080/",
     "height": 334
    },
    "id": "T9bZBZLq-93C",
    "outputId": "e6f3398b-5e9e-456d-d5a4-3331764fea9c"
   },
   "outputs": [
    {
     "data": {
      "text/html": [
       "<html lang=\"en\">\n",
       "<script src=\"https://requirejs.org/docs/release/2.3.6/minified/require.js\"></script>\n",
       "<script>\n",
       "    var ecco_url = 'https://storage.googleapis.com/ml-intro/ecco/'\n",
       "    //var ecco_url = 'http://localhost:8000/'\n",
       "\n",
       "    if (window.ecco === undefined) window.ecco = {}\n",
       "\n",
       "    // Setup the paths of the script we'll be using\n",
       "    requirejs.config({\n",
       "        urlArgs: \"bust=\" + (new Date()).getTime(),\n",
       "        nodeRequire: require,\n",
       "        paths: {\n",
       "            d3: \"https://d3js.org/d3.v6.min\", // This is only for use in setup.html and basic.html\n",
       "            \"d3-array\": \"https://d3js.org/d3-array.v2.min\",\n",
       "            jquery: \"https://code.jquery.com/jquery-3.5.1.min\",\n",
       "            ecco: ecco_url + 'js/0.0.6/ecco-bundle.min',\n",
       "            xregexp: 'https://cdnjs.cloudflare.com/ajax/libs/xregexp/3.2.0/xregexp-all.min'\n",
       "        }\n",
       "    });\n",
       "\n",
       "    // Add the css file\n",
       "    //requirejs(['d3'],\n",
       "    //    function (d3) {\n",
       "    //        d3.select('#css').attr('href', ecco_url + 'html/styles.css')\n",
       "    //    })\n",
       "\n",
       "    console.log('Ecco initialize!!')\n",
       "\n",
       "    // returns a 'basic' object. basic.init() selects the html div we'll be\n",
       "    // rendering the html into, adds styles.css to the document.\n",
       "    define('basic', ['d3'],\n",
       "        function (d3) {\n",
       "            return {\n",
       "                init: function (viz_id = null) {\n",
       "                    if (viz_id == null) {\n",
       "                        viz_id = \"viz_\" + Math.round(Math.random() * 10000000)\n",
       "                    }\n",
       "                    // Select the div rendered below, change its id\n",
       "                    const div = d3.select('#basic').attr('id', viz_id),\n",
       "                        div_parent = d3.select('#' + viz_id).node().parentNode\n",
       "\n",
       "                    // Link to CSS file\n",
       "                    d3.select(div_parent).insert('link')\n",
       "                        .attr('rel', 'stylesheet')\n",
       "                        .attr('type', 'text/css')\n",
       "                        .attr('href', ecco_url + 'html/0.0.2/styles.css')\n",
       "\n",
       "                    return viz_id\n",
       "                }\n",
       "            }\n",
       "        }, function (err) {\n",
       "            console.log(err);\n",
       "        }\n",
       "    )\n",
       "</script>\n",
       "\n",
       "<head>\n",
       "    <link id='css' rel=\"stylesheet\" type=\"text/css\">\n",
       "</head>\n",
       "<div id=\"basic\"></div>\n"
      ],
      "text/plain": [
       "<IPython.core.display.HTML object>"
      ]
     },
     "metadata": {},
     "output_type": "display_data"
    },
    {
     "data": {
      "application/javascript": "\n         requirejs( ['basic', 'ecco'], function(basic, ecco){\n            basic.init('viz_625376') // Python needs to know the viz id. Used for each output token.\n            window.ecco['viz_625376'] = new ecco.renderOutputSequence({\n                    parentDiv: 'viz_625376',\n                    data: {\"tokens\": [{\"token\": \"Joe\", \"is_partial\": true, \"position\": 0, \"token_id\": 19585, \"type\": \"input\"}, {\"token\": \"has\", \"is_partial\": false, \"position\": 1, \"token_id\": 468, \"type\": \"input\"}, {\"token\": \"a\", \"is_partial\": false, \"position\": 2, \"token_id\": 257, \"type\": \"input\"}, {\"token\": \"sister\", \"is_partial\": false, \"position\": 3, \"token_id\": 6621, \"type\": \"input\"}, {\"token\": \",\", \"is_partial\": false, \"position\": 4, \"token_id\": 837, \"type\": \"input\"}, {\"token\": \"played\", \"is_partial\": false, \"position\": 5, \"token_id\": 2826, \"type\": \"input\"}, {\"token\": \"basketball\", \"is_partial\": false, \"position\": 6, \"token_id\": 9669, \"type\": \"input\"}, {\"token\": \"and\", \"is_partial\": false, \"position\": 7, \"token_id\": 290, \"type\": \"input\"}, {\"token\": \"now\", \"is_partial\": false, \"position\": 8, \"token_id\": 783, \"type\": \"input\"}, {\"token\": \"lives\", \"is_partial\": false, \"position\": 9, \"token_id\": 3160, \"type\": \"input\"}, {\"token\": \"in\", \"is_partial\": false, \"position\": 10, \"token_id\": 287, \"type\": \"input\"}, {\"token\": \"France\", \"is_partial\": false, \"position\": 11, \"token_id\": 4881, \"type\": \"input\"}, {\"token\": \"and\", \"is_partial\": false, \"position\": 12, \"token_id\": 290, \"type\": \"input\"}, {\"token\": \"has\", \"is_partial\": false, \"position\": 13, \"token_id\": 468, \"type\": \"input\"}, {\"token\": \"travelled\", \"is_partial\": false, \"position\": 14, \"token_id\": 21650, \"type\": \"input\"}, {\"token\": \"to\", \"is_partial\": false, \"position\": 15, \"token_id\": 284, \"type\": \"input\"}, {\"token\": \"Warsaw\", \"is_partial\": false, \"position\": 16, \"token_id\": 32955, \"type\": \"input\"}, {\"token\": \",\", \"is_partial\": false, \"position\": 17, \"token_id\": 837, \"type\": \"input\"}, {\"token\": \"Santiago\", \"is_partial\": false, \"position\": 18, \"token_id\": 34802, \"type\": \"input\"}, {\"token\": \"and\", \"is_partial\": false, \"position\": 19, \"token_id\": 290, \"type\": \"input\"}, {\"token\": \"Helsinki\", \"is_partial\": false, \"position\": 20, \"token_id\": 47688, \"type\": \"input\"}, {\"token\": \".\", \"is_partial\": false, \"position\": 21, \"token_id\": 764, \"type\": \"input\"}, {\"token\": \"The\", \"is_partial\": false, \"position\": 22, \"token_id\": 383, \"type\": \"input\"}, {\"token\": \"capital\", \"is_partial\": false, \"position\": 23, \"token_id\": 3139, \"type\": \"input\"}, {\"token\": \"of\", \"is_partial\": false, \"position\": 24, \"token_id\": 286, \"type\": \"input\"}, {\"token\": \"Joe\", \"is_partial\": false, \"position\": 25, \"token_id\": 5689, \"type\": \"input\"}, {\"token\": \"'s\", \"is_partial\": true, \"position\": 26, \"token_id\": 338, \"type\": \"input\"}, {\"token\": \"country\", \"is_partial\": false, \"position\": 27, \"token_id\": 1499, \"type\": \"input\"}, {\"token\": \"of\", \"is_partial\": false, \"position\": 28, \"token_id\": 286, \"type\": \"input\"}, {\"token\": \"is\", \"is_partial\": false, \"position\": 29, \"token_id\": 318, \"type\": \"input\"}]},\n                    tokenization_config: {\"token_prefix\": \"\\u0120\", \"partial_token_prefix\": \"\"}\n            \n            })\n         }, function (err) {\n            console.log(err);\n        })\n        ",
      "text/plain": [
       "<IPython.core.display.Javascript object>"
      ]
     },
     "metadata": {},
     "output_type": "display_data"
    },
    {
     "name": "stderr",
     "output_type": "stream",
     "text": [
      "Setting `pad_token_id` to `eos_token_id`:50256 for open-end generation.\n"
     ]
    },
    {
     "data": {
      "application/javascript": "\n        // We don't really need these require scripts. But this is to avert\n        //this code from running before display_input_sequence which DOES require external files\n        requirejs(['basic', 'ecco'], function(basic, ecco){\n                console.log('addToken viz_id', 'viz_625376');\n                window.ecco['viz_625376'].addToken({\"token\": \"called\", \"is_partial\": false, \"token_id\": 1444, \"position\": 30, \"type\": \"output\"})\n                window.ecco['viz_625376'].redraw()\n        })\n        ",
      "text/plain": [
       "<IPython.core.display.Javascript object>"
      ]
     },
     "metadata": {},
     "output_type": "display_data"
    },
    {
     "data": {
      "application/javascript": "\n        // We don't really need these require scripts. But this is to avert\n        //this code from running before display_input_sequence which DOES require external files\n        requirejs(['basic', 'ecco'], function(basic, ecco){\n                console.log('addToken viz_id', 'viz_625376');\n                window.ecco['viz_625376'].addToken({\"token\": \"Warsaw\", \"is_partial\": false, \"token_id\": 32955, \"position\": 31, \"type\": \"output\"})\n                window.ecco['viz_625376'].redraw()\n        })\n        ",
      "text/plain": [
       "<IPython.core.display.Javascript object>"
      ]
     },
     "metadata": {},
     "output_type": "display_data"
    },
    {
     "data": {
      "application/javascript": "\n        // We don't really need these require scripts. But this is to avert\n        //this code from running before display_input_sequence which DOES require external files\n        requirejs(['basic', 'ecco'], function(basic, ecco){\n                console.log('addToken viz_id', 'viz_625376');\n                window.ecco['viz_625376'].addToken({\"token\": \".\", \"is_partial\": false, \"token_id\": 764, \"position\": 32, \"type\": \"output\"})\n                window.ecco['viz_625376'].redraw()\n        })\n        ",
      "text/plain": [
       "<IPython.core.display.Javascript object>"
      ]
     },
     "metadata": {},
     "output_type": "display_data"
    }
   ],
   "source": [
    "text= \"Joe has a sister , played basketball and now lives in France and has travelled to Warsaw , Santiago and Helsinki . The capital of Joe's country of is\"\n",
    "\n",
    "output = lm.generate(text, generate=3, do_sample=False, attribution=['ig', 'grad_x_input'])"
   ]
  },
  {
   "cell_type": "code",
   "execution_count": 4,
   "metadata": {},
   "outputs": [
    {
     "data": {
      "text/html": [
       "<html lang=\"en\">\n",
       "<script src=\"https://requirejs.org/docs/release/2.3.6/minified/require.js\"></script>\n",
       "<script>\n",
       "    var ecco_url = 'https://storage.googleapis.com/ml-intro/ecco/'\n",
       "    //var ecco_url = 'http://localhost:8000/'\n",
       "\n",
       "    if (window.ecco === undefined) window.ecco = {}\n",
       "\n",
       "    // Setup the paths of the script we'll be using\n",
       "    requirejs.config({\n",
       "        urlArgs: \"bust=\" + (new Date()).getTime(),\n",
       "        nodeRequire: require,\n",
       "        paths: {\n",
       "            d3: \"https://d3js.org/d3.v6.min\", // This is only for use in setup.html and basic.html\n",
       "            \"d3-array\": \"https://d3js.org/d3-array.v2.min\",\n",
       "            jquery: \"https://code.jquery.com/jquery-3.5.1.min\",\n",
       "            ecco: ecco_url + 'js/0.0.6/ecco-bundle.min',\n",
       "            xregexp: 'https://cdnjs.cloudflare.com/ajax/libs/xregexp/3.2.0/xregexp-all.min'\n",
       "        }\n",
       "    });\n",
       "\n",
       "    // Add the css file\n",
       "    //requirejs(['d3'],\n",
       "    //    function (d3) {\n",
       "    //        d3.select('#css').attr('href', ecco_url + 'html/styles.css')\n",
       "    //    })\n",
       "\n",
       "    console.log('Ecco initialize!!')\n",
       "\n",
       "    // returns a 'basic' object. basic.init() selects the html div we'll be\n",
       "    // rendering the html into, adds styles.css to the document.\n",
       "    define('basic', ['d3'],\n",
       "        function (d3) {\n",
       "            return {\n",
       "                init: function (viz_id = null) {\n",
       "                    if (viz_id == null) {\n",
       "                        viz_id = \"viz_\" + Math.round(Math.random() * 10000000)\n",
       "                    }\n",
       "                    // Select the div rendered below, change its id\n",
       "                    const div = d3.select('#basic').attr('id', viz_id),\n",
       "                        div_parent = d3.select('#' + viz_id).node().parentNode\n",
       "\n",
       "                    // Link to CSS file\n",
       "                    d3.select(div_parent).insert('link')\n",
       "                        .attr('rel', 'stylesheet')\n",
       "                        .attr('type', 'text/css')\n",
       "                        .attr('href', ecco_url + 'html/0.0.2/styles.css')\n",
       "\n",
       "                    return viz_id\n",
       "                }\n",
       "            }\n",
       "        }, function (err) {\n",
       "            console.log(err);\n",
       "        }\n",
       "    )\n",
       "</script>\n",
       "\n",
       "<head>\n",
       "    <link id='css' rel=\"stylesheet\" type=\"text/css\">\n",
       "</head>\n",
       "<div id=\"basic\"></div>\n"
      ],
      "text/plain": [
       "<IPython.core.display.HTML object>"
      ]
     },
     "metadata": {},
     "output_type": "display_data"
    },
    {
     "data": {
      "application/javascript": "\n             requirejs(['basic', 'ecco'], function(basic, ecco){\n                const viz_id = basic.init()\n                console.log(viz_id)\n                window.ecco[viz_id] = ecco.interactiveTokens({\n                    parentDiv: viz_id,\n                    data: {\"tokens\": [{\"token\": \"Joe\", \"token_id\": 19585, \"is_partial\": true, \"type\": \"input\", \"value\": \"0.04306504614500944\", \"position\": 0}, {\"token\": \"has\", \"token_id\": 468, \"is_partial\": false, \"type\": \"input\", \"value\": \"0.014555733516520866\", \"position\": 1}, {\"token\": \"a\", \"token_id\": 257, \"is_partial\": false, \"type\": \"input\", \"value\": \"0.011171689066593236\", \"position\": 2}, {\"token\": \"sister\", \"token_id\": 6621, \"is_partial\": false, \"type\": \"input\", \"value\": \"0.03163117271724789\", \"position\": 3}, {\"token\": \",\", \"token_id\": 837, \"is_partial\": false, \"type\": \"input\", \"value\": \"0.022174059903824057\", \"position\": 4}, {\"token\": \"played\", \"token_id\": 2826, \"is_partial\": false, \"type\": \"input\", \"value\": \"0.02143520529493895\", \"position\": 5}, {\"token\": \"basketball\", \"token_id\": 9669, \"is_partial\": false, \"type\": \"input\", \"value\": \"0.03644492096135835\", \"position\": 6}, {\"token\": \"and\", \"token_id\": 290, \"is_partial\": false, \"type\": \"input\", \"value\": \"0.0074408250956265075\", \"position\": 7}, {\"token\": \"now\", \"token_id\": 783, \"is_partial\": false, \"type\": \"input\", \"value\": \"0.013616749254033245\", \"position\": 8}, {\"token\": \"lives\", \"token_id\": 3160, \"is_partial\": false, \"type\": \"input\", \"value\": \"0.022082939445958377\", \"position\": 9}, {\"token\": \"in\", \"token_id\": 287, \"is_partial\": false, \"type\": \"input\", \"value\": \"0.007826157932991107\", \"position\": 10}, {\"token\": \"France\", \"token_id\": 4881, \"is_partial\": false, \"type\": \"input\", \"value\": \"0.032547272201561374\", \"position\": 11}, {\"token\": \"and\", \"token_id\": 290, \"is_partial\": false, \"type\": \"input\", \"value\": \"0.010041463731771444\", \"position\": 12}, {\"token\": \"has\", \"token_id\": 468, \"is_partial\": false, \"type\": \"input\", \"value\": \"0.011200908482919679\", \"position\": 13}, {\"token\": \"travelled\", \"token_id\": 21650, \"is_partial\": false, \"type\": \"input\", \"value\": \"0.037956906628622195\", \"position\": 14}, {\"token\": \"to\", \"token_id\": 284, \"is_partial\": false, \"type\": \"input\", \"value\": \"0.011413888759847193\", \"position\": 15}, {\"token\": \"Warsaw\", \"token_id\": 32955, \"is_partial\": false, \"type\": \"input\", \"value\": \"0.2315115783531209\", \"position\": 16}, {\"token\": \",\", \"token_id\": 837, \"is_partial\": false, \"type\": \"input\", \"value\": \"0.016662963145174958\", \"position\": 17}, {\"token\": \"Santiago\", \"token_id\": 34802, \"is_partial\": false, \"type\": \"input\", \"value\": \"0.05582866129668857\", \"position\": 18}, {\"token\": \"and\", \"token_id\": 290, \"is_partial\": false, \"type\": \"input\", \"value\": \"0.007166530025392632\", \"position\": 19}, {\"token\": \"Helsinki\", \"token_id\": 47688, \"is_partial\": false, \"type\": \"input\", \"value\": \"0.10465970886848572\", \"position\": 20}, {\"token\": \".\", \"token_id\": 764, \"is_partial\": false, \"type\": \"input\", \"value\": \"0.027842879143073578\", \"position\": 21}, {\"token\": \"The\", \"token_id\": 383, \"is_partial\": false, \"type\": \"input\", \"value\": \"0.01012916827706266\", \"position\": 22}, {\"token\": \"capital\", \"token_id\": 3139, \"is_partial\": false, \"type\": \"input\", \"value\": \"0.0862846809017771\", \"position\": 23}, {\"token\": \"of\", \"token_id\": 286, \"is_partial\": false, \"type\": \"input\", \"value\": \"0.0054025535424610995\", \"position\": 24}, {\"token\": \"Joe\", \"token_id\": 5689, \"is_partial\": false, \"type\": \"input\", \"value\": \"0.024220002171176397\", \"position\": 25}, {\"token\": \"'s\", \"token_id\": 338, \"is_partial\": true, \"type\": \"input\", \"value\": \"0.006290756144570868\", \"position\": 26}, {\"token\": \"country\", \"token_id\": 1499, \"is_partial\": false, \"type\": \"input\", \"value\": \"0.08112228652926133\", \"position\": 27}, {\"token\": \"is\", \"token_id\": 318, \"is_partial\": false, \"type\": \"input\", \"value\": \"0.008273292462930112\", \"position\": 28}, {\"token\": \"Warsaw\", \"token_id\": 32955, \"is_partial\": false, \"type\": \"output\", \"value\": \"0\", \"position\": 29}, {\"token\": \",\", \"token_id\": 837, \"is_partial\": false, \"type\": \"output\", \"value\": \"0\", \"position\": 30}, {\"token\": \"where\", \"token_id\": 810, \"is_partial\": false, \"type\": \"output\", \"value\": \"0\", \"position\": 31}], \"attributions\": [[0.04306504614500944, 0.014555733516520866, 0.011171689066593236, 0.03163117271724789, 0.022174059903824057, 0.02143520529493895, 0.03644492096135835, 0.0074408250956265075, 0.013616749254033245, 0.022082939445958377, 0.007826157932991107, 0.032547272201561374, 0.010041463731771444, 0.011200908482919679, 0.037956906628622195, 0.011413888759847193, 0.2315115783531209, 0.016662963145174958, 0.05582866129668857, 0.007166530025392632, 0.10465970886848572, 0.027842879143073578, 0.01012916827706266, 0.0862846809017771, 0.0054025535424610995, 0.024220002171176397, 0.006290756144570868, 0.08112228652926133, 0.008273292462930112], [0.04631894774978953, 0.02469526443041288, 0.014327883928875254, 0.041273886006954905, 0.019677057612250377, 0.020109648821008932, 0.0369731699750584, 0.011634172661619948, 0.04565796281191529, 0.07681173055771255, 0.009366810213833392, 0.11115605767398555, 0.010365765237504187, 0.013950451850100161, 0.06866795782989489, 0.009525307734228222, 0.056820081166972805, 0.01999578616379213, 0.035709144247632114, 0.010167133393623514, 0.04005465865571969, 0.023024084318655953, 0.011905921296926674, 0.06448112168863619, 0.0053597048683509145, 0.01651228531131622, 0.009915610837372524, 0.05734660502438046, 0.014269473884609975, 0.07392631404686639], [0.05275089361360299, 0.045652632583806495, 0.02252542054774662, 0.03591623183216757, 0.03822783088620312, 0.02050307930358266, 0.03770861823287474, 0.011609714122671656, 0.021325675609577804, 0.02316045956761668, 0.010288297449517887, 0.025171032338823934, 0.012054280886230919, 0.012801610967203596, 0.0289804764309684, 0.009666865097912465, 0.05023832099202921, 0.03942677773511089, 0.03865288578584997, 0.011361065508974434, 0.05008482525467162, 0.02206209567146884, 0.01522393625307383, 0.03775253529326468, 0.01175456860600869, 0.025647466389456742, 0.014144645670386969, 0.02519230122409692, 0.023503595508585474, 0.05062648042195939, 0.17598538021455482]]},\n                    tokenization_config: {\"token_prefix\": \"\\u0120\", \"partial_token_prefix\": \"\"}\n             })\n\n             }, function (err) {\n                console.log(err);\n            })",
      "text/plain": [
       "<IPython.core.display.Javascript object>"
      ]
     },
     "metadata": {},
     "output_type": "display_data"
    }
   ],
   "source": [
    "output.primary_attributions(attr_method='ig', style=\"detailed\")\n"
   ]
  },
  {
   "cell_type": "code",
   "execution_count": 6,
   "metadata": {},
   "outputs": [
    {
     "data": {
      "text/html": [
       "<html lang=\"en\">\n",
       "<script src=\"https://requirejs.org/docs/release/2.3.6/minified/require.js\"></script>\n",
       "<script>\n",
       "    var ecco_url = 'https://storage.googleapis.com/ml-intro/ecco/'\n",
       "    //var ecco_url = 'http://localhost:8000/'\n",
       "\n",
       "    if (window.ecco === undefined) window.ecco = {}\n",
       "\n",
       "    // Setup the paths of the script we'll be using\n",
       "    requirejs.config({\n",
       "        urlArgs: \"bust=\" + (new Date()).getTime(),\n",
       "        nodeRequire: require,\n",
       "        paths: {\n",
       "            d3: \"https://d3js.org/d3.v6.min\", // This is only for use in setup.html and basic.html\n",
       "            \"d3-array\": \"https://d3js.org/d3-array.v2.min\",\n",
       "            jquery: \"https://code.jquery.com/jquery-3.5.1.min\",\n",
       "            ecco: ecco_url + 'js/0.0.6/ecco-bundle.min',\n",
       "            xregexp: 'https://cdnjs.cloudflare.com/ajax/libs/xregexp/3.2.0/xregexp-all.min'\n",
       "        }\n",
       "    });\n",
       "\n",
       "    // Add the css file\n",
       "    //requirejs(['d3'],\n",
       "    //    function (d3) {\n",
       "    //        d3.select('#css').attr('href', ecco_url + 'html/styles.css')\n",
       "    //    })\n",
       "\n",
       "    console.log('Ecco initialize!!')\n",
       "\n",
       "    // returns a 'basic' object. basic.init() selects the html div we'll be\n",
       "    // rendering the html into, adds styles.css to the document.\n",
       "    define('basic', ['d3'],\n",
       "        function (d3) {\n",
       "            return {\n",
       "                init: function (viz_id = null) {\n",
       "                    if (viz_id == null) {\n",
       "                        viz_id = \"viz_\" + Math.round(Math.random() * 10000000)\n",
       "                    }\n",
       "                    // Select the div rendered below, change its id\n",
       "                    const div = d3.select('#basic').attr('id', viz_id),\n",
       "                        div_parent = d3.select('#' + viz_id).node().parentNode\n",
       "\n",
       "                    // Link to CSS file\n",
       "                    d3.select(div_parent).insert('link')\n",
       "                        .attr('rel', 'stylesheet')\n",
       "                        .attr('type', 'text/css')\n",
       "                        .attr('href', ecco_url + 'html/0.0.2/styles.css')\n",
       "\n",
       "                    return viz_id\n",
       "                }\n",
       "            }\n",
       "        }, function (err) {\n",
       "            console.log(err);\n",
       "        }\n",
       "    )\n",
       "</script>\n",
       "\n",
       "<head>\n",
       "    <link id='css' rel=\"stylesheet\" type=\"text/css\">\n",
       "</head>\n",
       "<div id=\"basic\"></div>\n"
      ],
      "text/plain": [
       "<IPython.core.display.HTML object>"
      ]
     },
     "metadata": {},
     "output_type": "display_data"
    },
    {
     "data": {
      "application/javascript": "\n             requirejs(['basic', 'ecco'], function(basic, ecco){\n                const viz_id = basic.init()\n                console.log(viz_id)\n                window.ecco[viz_id] = ecco.interactiveTokens({\n                    parentDiv: viz_id,\n                    data: {\"tokens\": [{\"token\": \"Joe\", \"token_id\": 19585, \"is_partial\": true, \"type\": \"input\", \"value\": \"0.0462682126745909\", \"position\": 0}, {\"token\": \"has\", \"token_id\": 468, \"is_partial\": false, \"type\": \"input\", \"value\": \"0.014545812019098716\", \"position\": 1}, {\"token\": \"a\", \"token_id\": 257, \"is_partial\": false, \"type\": \"input\", \"value\": \"0.010410937540149944\", \"position\": 2}, {\"token\": \"sister\", \"token_id\": 6621, \"is_partial\": false, \"type\": \"input\", \"value\": \"0.03227501256171717\", \"position\": 3}, {\"token\": \",\", \"token_id\": 837, \"is_partial\": false, \"type\": \"input\", \"value\": \"0.018965222175626874\", \"position\": 4}, {\"token\": \"played\", \"token_id\": 2826, \"is_partial\": false, \"type\": \"input\", \"value\": \"0.020983300239498452\", \"position\": 5}, {\"token\": \"basketball\", \"token_id\": 9669, \"is_partial\": false, \"type\": \"input\", \"value\": \"0.03035375780719002\", \"position\": 6}, {\"token\": \"and\", \"token_id\": 290, \"is_partial\": false, \"type\": \"input\", \"value\": \"0.007390562556444044\", \"position\": 7}, {\"token\": \"now\", \"token_id\": 783, \"is_partial\": false, \"type\": \"input\", \"value\": \"0.013677951180326066\", \"position\": 8}, {\"token\": \"lives\", \"token_id\": 3160, \"is_partial\": false, \"type\": \"input\", \"value\": \"0.02615066232280218\", \"position\": 9}, {\"token\": \"in\", \"token_id\": 287, \"is_partial\": false, \"type\": \"input\", \"value\": \"0.010157957271083587\", \"position\": 10}, {\"token\": \"France\", \"token_id\": 4881, \"is_partial\": false, \"type\": \"input\", \"value\": \"0.04259014120852956\", \"position\": 11}, {\"token\": \"and\", \"token_id\": 290, \"is_partial\": false, \"type\": \"input\", \"value\": \"0.007460679037585251\", \"position\": 12}, {\"token\": \"has\", \"token_id\": 468, \"is_partial\": false, \"type\": \"input\", \"value\": \"0.008984199245041034\", \"position\": 13}, {\"token\": \"travelled\", \"token_id\": 21650, \"is_partial\": false, \"type\": \"input\", \"value\": \"0.02968256555083052\", \"position\": 14}, {\"token\": \"to\", \"token_id\": 284, \"is_partial\": false, \"type\": \"input\", \"value\": \"0.006559994605368891\", \"position\": 15}, {\"token\": \"Warsaw\", \"token_id\": 32955, \"is_partial\": false, \"type\": \"input\", \"value\": \"0.08456418981788354\", \"position\": 16}, {\"token\": \",\", \"token_id\": 837, \"is_partial\": false, \"type\": \"input\", \"value\": \"0.01570323681891592\", \"position\": 17}, {\"token\": \"Santiago\", \"token_id\": 34802, \"is_partial\": false, \"type\": \"input\", \"value\": \"0.0362681394591425\", \"position\": 18}, {\"token\": \"and\", \"token_id\": 290, \"is_partial\": false, \"type\": \"input\", \"value\": \"0.008184941338813685\", \"position\": 19}, {\"token\": \"Helsinki\", \"token_id\": 47688, \"is_partial\": false, \"type\": \"input\", \"value\": \"0.06682347858138572\", \"position\": 20}, {\"token\": \".\", \"token_id\": 764, \"is_partial\": false, \"type\": \"input\", \"value\": \"0.027960747349210096\", \"position\": 21}, {\"token\": \"The\", \"token_id\": 383, \"is_partial\": false, \"type\": \"input\", \"value\": \"0.01288176409331448\", \"position\": 22}, {\"token\": \"capital\", \"token_id\": 3139, \"is_partial\": false, \"type\": \"input\", \"value\": \"0.0966888032976453\", \"position\": 23}, {\"token\": \"of\", \"token_id\": 286, \"is_partial\": false, \"type\": \"input\", \"value\": \"0.007516290077296897\", \"position\": 24}, {\"token\": \"Joe\", \"token_id\": 5689, \"is_partial\": false, \"type\": \"input\", \"value\": \"0.023172904660246383\", \"position\": 25}, {\"token\": \"'s\", \"token_id\": 338, \"is_partial\": true, \"type\": \"input\", \"value\": \"0.01273385694810022\", \"position\": 26}, {\"token\": \"country\", \"token_id\": 1499, \"is_partial\": false, \"type\": \"input\", \"value\": \"0.22641641216990374\", \"position\": 27}, {\"token\": \"of\", \"token_id\": 286, \"is_partial\": false, \"type\": \"input\", \"value\": \"0.004118006866345404\", \"position\": 28}, {\"token\": \"residence\", \"token_id\": 11566, \"is_partial\": false, \"type\": \"input\", \"value\": \"0.045138313129895434\", \"position\": 29}, {\"token\": \"is\", \"token_id\": 318, \"is_partial\": false, \"type\": \"input\", \"value\": \"0.005371947396017563\", \"position\": 30}, {\"token\": \"Paris\", \"token_id\": 6342, \"is_partial\": false, \"type\": \"output\", \"value\": \"0\", \"position\": 31}, {\"token\": \".\", \"token_id\": 764, \"is_partial\": false, \"type\": \"output\", \"value\": \"0\", \"position\": 32}, {\"token\": \"\\n\", \"token_id\": 198, \"is_partial\": true, \"type\": \"output\", \"value\": \"0\", \"position\": 33}], \"attributions\": [[0.0462682126745909, 0.014545812019098716, 0.010410937540149944, 0.03227501256171717, 0.018965222175626874, 0.020983300239498452, 0.03035375780719002, 0.007390562556444044, 0.013677951180326066, 0.02615066232280218, 0.010157957271083587, 0.04259014120852956, 0.007460679037585251, 0.008984199245041034, 0.02968256555083052, 0.006559994605368891, 0.08456418981788354, 0.01570323681891592, 0.0362681394591425, 0.008184941338813685, 0.06682347858138572, 0.027960747349210096, 0.01288176409331448, 0.0966888032976453, 0.007516290077296897, 0.023172904660246383, 0.01273385694810022, 0.22641641216990374, 0.004118006866345404, 0.045138313129895434, 0.005371947396017563], [0.058699465597101846, 0.04846388564600516, 0.0213863983413993, 0.03248861379503074, 0.02538144800028993, 0.02080739449830468, 0.027166622658257894, 0.011895308420239819, 0.032121414519992245, 0.028211683441964442, 0.009841581622646353, 0.055931708052048584, 0.01308520166581037, 0.013215972796187516, 0.024939040386150056, 0.013346275392680407, 0.03587885584425936, 0.02126453339110623, 0.0368619088808927, 0.014612528127785684, 0.045374988784569664, 0.03884221902656851, 0.01689839894960455, 0.09965574532105544, 0.012044510680603845, 0.021036544072612094, 0.015238382234767166, 0.03807726408725717, 0.022318748768592335, 0.040641444533349065, 0.07345419352554987, 0.030817718937317], [0.04826143127287881, 0.02441519551805176, 0.013709259651664515, 0.032671600796833164, 0.02209279506629653, 0.01948099390051494, 0.022146512207580352, 0.009027737625818738, 0.014254172301564168, 0.020526737910189934, 0.0087469333106087, 0.05558083887300445, 0.010466818411047678, 0.021116921000577958, 0.047563499755991105, 0.010554668068312019, 0.03463856174454164, 0.01698135207524751, 0.02966061075740634, 0.012388251535323023, 0.04339954500960288, 0.04418089080212492, 0.015912482588645357, 0.09745376427415285, 0.023468688116383897, 0.04308214223986482, 0.029902472447903342, 0.033191457999770704, 0.016734893965644267, 0.028888139727937377, 0.041146954882524206, 0.02771252300230258, 0.08064115315968945]]},\n                    tokenization_config: {\"token_prefix\": \"\\u0120\", \"partial_token_prefix\": \"\"}\n             })\n\n             }, function (err) {\n                console.log(err);\n            })",
      "text/plain": [
       "<IPython.core.display.Javascript object>"
      ]
     },
     "metadata": {},
     "output_type": "display_data"
    }
   ],
   "source": [
    "output.primary_attributions(attr_method='ig', style=\"detailed\")"
   ]
  },
  {
   "cell_type": "code",
   "execution_count": null,
   "metadata": {},
   "outputs": [],
   "source": []
  },
  {
   "cell_type": "code",
   "execution_count": 7,
   "metadata": {},
   "outputs": [
    {
     "data": {
      "text/html": [
       "<html lang=\"en\">\n",
       "<script src=\"https://requirejs.org/docs/release/2.3.6/minified/require.js\"></script>\n",
       "<script>\n",
       "    var ecco_url = 'https://storage.googleapis.com/ml-intro/ecco/'\n",
       "    //var ecco_url = 'http://localhost:8000/'\n",
       "\n",
       "    if (window.ecco === undefined) window.ecco = {}\n",
       "\n",
       "    // Setup the paths of the script we'll be using\n",
       "    requirejs.config({\n",
       "        urlArgs: \"bust=\" + (new Date()).getTime(),\n",
       "        nodeRequire: require,\n",
       "        paths: {\n",
       "            d3: \"https://d3js.org/d3.v6.min\", // This is only for use in setup.html and basic.html\n",
       "            \"d3-array\": \"https://d3js.org/d3-array.v2.min\",\n",
       "            jquery: \"https://code.jquery.com/jquery-3.5.1.min\",\n",
       "            ecco: ecco_url + 'js/0.0.6/ecco-bundle.min',\n",
       "            xregexp: 'https://cdnjs.cloudflare.com/ajax/libs/xregexp/3.2.0/xregexp-all.min'\n",
       "        }\n",
       "    });\n",
       "\n",
       "    // Add the css file\n",
       "    //requirejs(['d3'],\n",
       "    //    function (d3) {\n",
       "    //        d3.select('#css').attr('href', ecco_url + 'html/styles.css')\n",
       "    //    })\n",
       "\n",
       "    console.log('Ecco initialize!!')\n",
       "\n",
       "    // returns a 'basic' object. basic.init() selects the html div we'll be\n",
       "    // rendering the html into, adds styles.css to the document.\n",
       "    define('basic', ['d3'],\n",
       "        function (d3) {\n",
       "            return {\n",
       "                init: function (viz_id = null) {\n",
       "                    if (viz_id == null) {\n",
       "                        viz_id = \"viz_\" + Math.round(Math.random() * 10000000)\n",
       "                    }\n",
       "                    // Select the div rendered below, change its id\n",
       "                    const div = d3.select('#basic').attr('id', viz_id),\n",
       "                        div_parent = d3.select('#' + viz_id).node().parentNode\n",
       "\n",
       "                    // Link to CSS file\n",
       "                    d3.select(div_parent).insert('link')\n",
       "                        .attr('rel', 'stylesheet')\n",
       "                        .attr('type', 'text/css')\n",
       "                        .attr('href', ecco_url + 'html/0.0.2/styles.css')\n",
       "\n",
       "                    return viz_id\n",
       "                }\n",
       "            }\n",
       "        }, function (err) {\n",
       "            console.log(err);\n",
       "        }\n",
       "    )\n",
       "</script>\n",
       "\n",
       "<head>\n",
       "    <link id='css' rel=\"stylesheet\" type=\"text/css\">\n",
       "</head>\n",
       "<div id=\"basic\"></div>\n"
      ],
      "text/plain": [
       "<IPython.core.display.HTML object>"
      ]
     },
     "metadata": {},
     "output_type": "display_data"
    },
    {
     "data": {
      "application/javascript": "\n             requirejs(['basic', 'ecco'], function(basic, ecco){\n                const viz_id = basic.init()\n                console.log(viz_id)\n                window.ecco[viz_id] = ecco.interactiveTokens({\n                    parentDiv: viz_id,\n                    data: {\"tokens\": [{\"token\": \"Joe\", \"token_id\": 19585, \"is_partial\": true, \"type\": \"input\", \"value\": \"0.05873362\", \"position\": 0}, {\"token\": \"has\", \"token_id\": 468, \"is_partial\": false, \"type\": \"input\", \"value\": \"0.019290756\", \"position\": 1}, {\"token\": \"a\", \"token_id\": 257, \"is_partial\": false, \"type\": \"input\", \"value\": \"0.013920915\", \"position\": 2}, {\"token\": \"sister\", \"token_id\": 6621, \"is_partial\": false, \"type\": \"input\", \"value\": \"0.048709497\", \"position\": 3}, {\"token\": \",\", \"token_id\": 837, \"is_partial\": false, \"type\": \"input\", \"value\": \"0.027151521\", \"position\": 4}, {\"token\": \"played\", \"token_id\": 2826, \"is_partial\": false, \"type\": \"input\", \"value\": \"0.034598004\", \"position\": 5}, {\"token\": \"basketball\", \"token_id\": 9669, \"is_partial\": false, \"type\": \"input\", \"value\": \"0.053759914\", \"position\": 6}, {\"token\": \"and\", \"token_id\": 290, \"is_partial\": false, \"type\": \"input\", \"value\": \"0.010276135\", \"position\": 7}, {\"token\": \"now\", \"token_id\": 783, \"is_partial\": false, \"type\": \"input\", \"value\": \"0.024816992\", \"position\": 8}, {\"token\": \"lives\", \"token_id\": 3160, \"is_partial\": false, \"type\": \"input\", \"value\": \"0.037976306\", \"position\": 9}, {\"token\": \"in\", \"token_id\": 287, \"is_partial\": false, \"type\": \"input\", \"value\": \"0.01048559\", \"position\": 10}, {\"token\": \"France\", \"token_id\": 4881, \"is_partial\": false, \"type\": \"input\", \"value\": \"0.06042041\", \"position\": 11}, {\"token\": \"and\", \"token_id\": 290, \"is_partial\": false, \"type\": \"input\", \"value\": \"0.009370992\", \"position\": 12}, {\"token\": \"has\", \"token_id\": 468, \"is_partial\": false, \"type\": \"input\", \"value\": \"0.010461285\", \"position\": 13}, {\"token\": \"travelled\", \"token_id\": 21650, \"is_partial\": false, \"type\": \"input\", \"value\": \"0.05246456\", \"position\": 14}, {\"token\": \"to\", \"token_id\": 284, \"is_partial\": false, \"type\": \"input\", \"value\": \"0.007971826\", \"position\": 15}, {\"token\": \"Warsaw\", \"token_id\": 32955, \"is_partial\": false, \"type\": \"input\", \"value\": \"0.11380898\", \"position\": 16}, {\"token\": \",\", \"token_id\": 837, \"is_partial\": false, \"type\": \"input\", \"value\": \"0.023097444\", \"position\": 17}, {\"token\": \"Santiago\", \"token_id\": 34802, \"is_partial\": false, \"type\": \"input\", \"value\": \"0.047576204\", \"position\": 18}, {\"token\": \"and\", \"token_id\": 290, \"is_partial\": false, \"type\": \"input\", \"value\": \"0.011753576\", \"position\": 19}, {\"token\": \"Helsinki\", \"token_id\": 47688, \"is_partial\": false, \"type\": \"input\", \"value\": \"0.09027682\", \"position\": 20}, {\"token\": \".\", \"token_id\": 764, \"is_partial\": false, \"type\": \"input\", \"value\": \"0.02860089\", \"position\": 21}, {\"token\": \"The\", \"token_id\": 383, \"is_partial\": false, \"type\": \"input\", \"value\": \"0.011351082\", \"position\": 22}, {\"token\": \"capital\", \"token_id\": 3139, \"is_partial\": false, \"type\": \"input\", \"value\": \"0.05361774\", \"position\": 23}, {\"token\": \"of\", \"token_id\": 286, \"is_partial\": false, \"type\": \"input\", \"value\": \"0.006830564\", \"position\": 24}, {\"token\": \"Joe\", \"token_id\": 5689, \"is_partial\": false, \"type\": \"input\", \"value\": \"0.025583794\", \"position\": 25}, {\"token\": \"'s\", \"token_id\": 338, \"is_partial\": true, \"type\": \"input\", \"value\": \"0.0066999323\", \"position\": 26}, {\"token\": \"country\", \"token_id\": 1499, \"is_partial\": false, \"type\": \"input\", \"value\": \"0.022124302\", \"position\": 27}, {\"token\": \"of\", \"token_id\": 286, \"is_partial\": false, \"type\": \"input\", \"value\": \"0.006242082\", \"position\": 28}, {\"token\": \"residence\", \"token_id\": 11566, \"is_partial\": false, \"type\": \"input\", \"value\": \"0.06278164\", \"position\": 29}, {\"token\": \"is\", \"token_id\": 318, \"is_partial\": false, \"type\": \"input\", \"value\": \"0.009246672\", \"position\": 30}, {\"token\": \"Paris\", \"token_id\": 6342, \"is_partial\": false, \"type\": \"output\", \"value\": \"0\", \"position\": 31}, {\"token\": \".\", \"token_id\": 764, \"is_partial\": false, \"type\": \"output\", \"value\": \"0\", \"position\": 32}, {\"token\": \"\\n\", \"token_id\": 198, \"is_partial\": true, \"type\": \"output\", \"value\": \"0\", \"position\": 33}], \"attributions\": [[0.05873361974954605, 0.019290756434202194, 0.013920915313065052, 0.04870949685573578, 0.027151521295309067, 0.03459800407290459, 0.05375991389155388, 0.010276135057210922, 0.02481699176132679, 0.037976305931806564, 0.010485590435564518, 0.060420408844947815, 0.009370991960167885, 0.010461284779012203, 0.052464559674263, 0.007971826009452343, 0.11380898207426071, 0.0230974443256855, 0.04757620394229889, 0.011753575876355171, 0.0902768224477768, 0.028600890189409256, 0.011351081542670727, 0.05361773818731308, 0.006830563768744469, 0.025583794340491295, 0.006699932273477316, 0.02212430164217949, 0.006242081988602877, 0.06278163939714432, 0.009246671572327614], [0.08495686203241348, 0.022972101345658302, 0.01512532401829958, 0.04380616918206215, 0.03255988284945488, 0.027973083779215813, 0.049840979278087616, 0.009345168247818947, 0.0185588039457798, 0.030067885294556618, 0.009134537540376186, 0.04797964543104172, 0.013491515070199966, 0.012481573969125748, 0.0511348694562912, 0.010132859461009502, 0.06468309462070465, 0.03211479261517525, 0.051400646567344666, 0.010988480411469936, 0.058078620582818985, 0.04805250093340874, 0.01040086429566145, 0.03614406660199165, 0.007158074993640184, 0.021901819854974747, 0.006400092504918575, 0.016774335876107216, 0.004369204398244619, 0.06305646151304245, 0.0067704482935369015, 0.08214528113603592], [0.09331821650266647, 0.026087576523423195, 0.018068920820951462, 0.05653170868754387, 0.0406528078019619, 0.03893614187836647, 0.05332284793257713, 0.009188074618577957, 0.02019113302230835, 0.03336121886968613, 0.007295401766896248, 0.023158790543675423, 0.01016984786838293, 0.01135337632149458, 0.04603993147611618, 0.009032616391777992, 0.047841209918260574, 0.03717680275440216, 0.04077088460326195, 0.011362348683178425, 0.05581555888056755, 0.04008997976779938, 0.01545734889805317, 0.0405830442905426, 0.010423552244901657, 0.029049638658761978, 0.009405835531651974, 0.017858678475022316, 0.011125938966870308, 0.0349537692964077, 0.009762614034116268, 0.026268979534506798, 0.06534522026777267]]},\n                    tokenization_config: {\"token_prefix\": \"\\u0120\", \"partial_token_prefix\": \"\"}\n             })\n\n             }, function (err) {\n                console.log(err);\n            })",
      "text/plain": [
       "<IPython.core.display.Javascript object>"
      ]
     },
     "metadata": {},
     "output_type": "display_data"
    }
   ],
   "source": [
    "output.primary_attributions(attr_method='grad_x_input', style=\"detailed\")"
   ]
  },
  {
   "cell_type": "code",
   "execution_count": 9,
   "metadata": {},
   "outputs": [
    {
     "data": {
      "text/html": [
       "<html lang=\"en\">\n",
       "<script src=\"https://requirejs.org/docs/release/2.3.6/minified/require.js\"></script>\n",
       "<script>\n",
       "    var ecco_url = 'https://storage.googleapis.com/ml-intro/ecco/'\n",
       "    //var ecco_url = 'http://localhost:8000/'\n",
       "\n",
       "    if (window.ecco === undefined) window.ecco = {}\n",
       "\n",
       "    // Setup the paths of the script we'll be using\n",
       "    requirejs.config({\n",
       "        urlArgs: \"bust=\" + (new Date()).getTime(),\n",
       "        nodeRequire: require,\n",
       "        paths: {\n",
       "            d3: \"https://d3js.org/d3.v6.min\", // This is only for use in setup.html and basic.html\n",
       "            \"d3-array\": \"https://d3js.org/d3-array.v2.min\",\n",
       "            jquery: \"https://code.jquery.com/jquery-3.5.1.min\",\n",
       "            ecco: ecco_url + 'js/0.0.6/ecco-bundle.min',\n",
       "            xregexp: 'https://cdnjs.cloudflare.com/ajax/libs/xregexp/3.2.0/xregexp-all.min'\n",
       "        }\n",
       "    });\n",
       "\n",
       "    // Add the css file\n",
       "    //requirejs(['d3'],\n",
       "    //    function (d3) {\n",
       "    //        d3.select('#css').attr('href', ecco_url + 'html/styles.css')\n",
       "    //    })\n",
       "\n",
       "    console.log('Ecco initialize!!')\n",
       "\n",
       "    // returns a 'basic' object. basic.init() selects the html div we'll be\n",
       "    // rendering the html into, adds styles.css to the document.\n",
       "    define('basic', ['d3'],\n",
       "        function (d3) {\n",
       "            return {\n",
       "                init: function (viz_id = null) {\n",
       "                    if (viz_id == null) {\n",
       "                        viz_id = \"viz_\" + Math.round(Math.random() * 10000000)\n",
       "                    }\n",
       "                    // Select the div rendered below, change its id\n",
       "                    const div = d3.select('#basic').attr('id', viz_id),\n",
       "                        div_parent = d3.select('#' + viz_id).node().parentNode\n",
       "\n",
       "                    // Link to CSS file\n",
       "                    d3.select(div_parent).insert('link')\n",
       "                        .attr('rel', 'stylesheet')\n",
       "                        .attr('type', 'text/css')\n",
       "                        .attr('href', ecco_url + 'html/0.0.2/styles.css')\n",
       "\n",
       "                    return viz_id\n",
       "                }\n",
       "            }\n",
       "        }, function (err) {\n",
       "            console.log(err);\n",
       "        }\n",
       "    )\n",
       "</script>\n",
       "\n",
       "<head>\n",
       "    <link id='css' rel=\"stylesheet\" type=\"text/css\">\n",
       "</head>\n",
       "<div id=\"basic\"></div>\n"
      ],
      "text/plain": [
       "<IPython.core.display.HTML object>"
      ]
     },
     "metadata": {},
     "output_type": "display_data"
    },
    {
     "data": {
      "application/javascript": "\n             requirejs(['basic', 'ecco'], function(basic, ecco){\n                const viz_id = basic.init()\n                console.log(viz_id)\n                window.ecco[viz_id] = ecco.interactiveTokens({\n                    parentDiv: viz_id,\n                    data: {\"tokens\": [{\"token\": \"Joe\", \"token_id\": 19585, \"is_partial\": true, \"type\": \"input\", \"value\": \"0.069996476\", \"position\": 0}, {\"token\": \"has\", \"token_id\": 468, \"is_partial\": false, \"type\": \"input\", \"value\": \"0.026047569\", \"position\": 1}, {\"token\": \"a\", \"token_id\": 257, \"is_partial\": false, \"type\": \"input\", \"value\": \"0.014607365\", \"position\": 2}, {\"token\": \"sister\", \"token_id\": 6621, \"is_partial\": false, \"type\": \"input\", \"value\": \"0.04799437\", \"position\": 3}, {\"token\": \",\", \"token_id\": 837, \"is_partial\": false, \"type\": \"input\", \"value\": \"0.02395125\", \"position\": 4}, {\"token\": \"played\", \"token_id\": 2826, \"is_partial\": false, \"type\": \"input\", \"value\": \"0.031777147\", \"position\": 5}, {\"token\": \"basketball\", \"token_id\": 9669, \"is_partial\": false, \"type\": \"input\", \"value\": \"0.053870704\", \"position\": 6}, {\"token\": \"and\", \"token_id\": 290, \"is_partial\": false, \"type\": \"input\", \"value\": \"0.009730313\", \"position\": 7}, {\"token\": \"now\", \"token_id\": 783, \"is_partial\": false, \"type\": \"input\", \"value\": \"0.016825434\", \"position\": 8}, {\"token\": \"lives\", \"token_id\": 3160, \"is_partial\": false, \"type\": \"input\", \"value\": \"0.032987177\", \"position\": 9}, {\"token\": \"in\", \"token_id\": 287, \"is_partial\": false, \"type\": \"input\", \"value\": \"0.008874477\", \"position\": 10}, {\"token\": \"France\", \"token_id\": 4881, \"is_partial\": false, \"type\": \"input\", \"value\": \"0.04750927\", \"position\": 11}, {\"token\": \"and\", \"token_id\": 290, \"is_partial\": false, \"type\": \"input\", \"value\": \"0.010028038\", \"position\": 12}, {\"token\": \"has\", \"token_id\": 468, \"is_partial\": false, \"type\": \"input\", \"value\": \"0.011632449\", \"position\": 13}, {\"token\": \"travelled\", \"token_id\": 21650, \"is_partial\": false, \"type\": \"input\", \"value\": \"0.045736723\", \"position\": 14}, {\"token\": \"to\", \"token_id\": 284, \"is_partial\": false, \"type\": \"input\", \"value\": \"0.008337438\", \"position\": 15}, {\"token\": \"Warsaw\", \"token_id\": 32955, \"is_partial\": false, \"type\": \"input\", \"value\": \"0.116135344\", \"position\": 16}, {\"token\": \",\", \"token_id\": 837, \"is_partial\": false, \"type\": \"input\", \"value\": \"0.019020993\", \"position\": 17}, {\"token\": \"Santiago\", \"token_id\": 34802, \"is_partial\": false, \"type\": \"input\", \"value\": \"0.04995034\", \"position\": 18}, {\"token\": \"and\", \"token_id\": 290, \"is_partial\": false, \"type\": \"input\", \"value\": \"0.011203104\", \"position\": 19}, {\"token\": \"Helsinki\", \"token_id\": 47688, \"is_partial\": false, \"type\": \"input\", \"value\": \"0.07295105\", \"position\": 20}, {\"token\": \".\", \"token_id\": 764, \"is_partial\": false, \"type\": \"input\", \"value\": \"0.024586404\", \"position\": 21}, {\"token\": \"The\", \"token_id\": 383, \"is_partial\": false, \"type\": \"input\", \"value\": \"0.021551618\", \"position\": 22}, {\"token\": \"capital\", \"token_id\": 3139, \"is_partial\": false, \"type\": \"input\", \"value\": \"0.072515786\", \"position\": 23}, {\"token\": \"of\", \"token_id\": 286, \"is_partial\": false, \"type\": \"input\", \"value\": \"0.0124692125\", \"position\": 24}, {\"token\": \"Joe\", \"token_id\": 5689, \"is_partial\": false, \"type\": \"input\", \"value\": \"0.04208653\", \"position\": 25}, {\"token\": \"'s\", \"token_id\": 338, \"is_partial\": true, \"type\": \"input\", \"value\": \"0.014397586\", \"position\": 26}, {\"token\": \"country\", \"token_id\": 1499, \"is_partial\": false, \"type\": \"input\", \"value\": \"0.04780033\", \"position\": 27}, {\"token\": \"of\", \"token_id\": 286, \"is_partial\": false, \"type\": \"input\", \"value\": \"0.014895867\", \"position\": 28}, {\"token\": \"is\", \"token_id\": 318, \"is_partial\": false, \"type\": \"input\", \"value\": \"0.02052964\", \"position\": 29}, {\"token\": \"called\", \"token_id\": 1444, \"is_partial\": false, \"type\": \"output\", \"value\": \"0\", \"position\": 30}, {\"token\": \"Warsaw\", \"token_id\": 32955, \"is_partial\": false, \"type\": \"output\", \"value\": \"0\", \"position\": 31}, {\"token\": \".\", \"token_id\": 764, \"is_partial\": false, \"type\": \"output\", \"value\": \"0\", \"position\": 32}], \"attributions\": [[0.06999647617340088, 0.026047568768262863, 0.014607365243136883, 0.04799437150359154, 0.023951249197125435, 0.03177714720368385, 0.053870704025030136, 0.00973031297326088, 0.01682543382048607, 0.03298717737197876, 0.00887447688728571, 0.047509271651506424, 0.010028038173913956, 0.011632448993623257, 0.04573672264814377, 0.008337438106536865, 0.11613534390926361, 0.019020993262529373, 0.049950338900089264, 0.011203103698790073, 0.0729510486125946, 0.024586403742432594, 0.021551618352532387, 0.07251578569412231, 0.012469212524592876, 0.04208653047680855, 0.01439758576452732, 0.04780032858252525, 0.014895866625010967, 0.020529640838503838], [0.046656835824251175, 0.015006816945970058, 0.010992542840540409, 0.03542871028184891, 0.028773166239261627, 0.026891546323895454, 0.05330146849155426, 0.007493943907320499, 0.016673825681209564, 0.023363519459962845, 0.00733054056763649, 0.036542993038892746, 0.009576070122420788, 0.010361850261688232, 0.045932721346616745, 0.010590056888759136, 0.17994578182697296, 0.01807921938598156, 0.05565972253680229, 0.007280762307345867, 0.10665421187877655, 0.02351362816989422, 0.01580646261572838, 0.06160209700465202, 0.01027628593146801, 0.032370246946811676, 0.010452101938426495, 0.03751475363969803, 0.016198910772800446, 0.019954480230808258, 0.019774671643972397], [0.08577844500541687, 0.023090174421668053, 0.015667444095015526, 0.04833617061376572, 0.033566512167453766, 0.03251369670033455, 0.0609365813434124, 0.010666225105524063, 0.021432356908917427, 0.03353963419795036, 0.009204478934407234, 0.03437992185354233, 0.014412595890462399, 0.013226069509983063, 0.05104587972164154, 0.011691898107528687, 0.07587289065122604, 0.031813956797122955, 0.04574243351817131, 0.010328300297260284, 0.06329203397035599, 0.04345029592514038, 0.012732303701341152, 0.029562506824731827, 0.006396671291440725, 0.020979201421141624, 0.00621363939717412, 0.011768952012062073, 0.0055615780875086784, 0.00578191177919507, 0.023816963657736778, 0.1071983352303505]]},\n                    tokenization_config: {\"token_prefix\": \"\\u0120\", \"partial_token_prefix\": \"\"}\n             })\n\n             }, function (err) {\n                console.log(err);\n            })",
      "text/plain": [
       "<IPython.core.display.Javascript object>"
      ]
     },
     "metadata": {},
     "output_type": "display_data"
    }
   ],
   "source": [
    "output.primary_attributions(attr_method='grad_x_input', style=\"detailed\")"
   ]
  },
  {
   "cell_type": "code",
   "execution_count": null,
   "metadata": {},
   "outputs": [],
   "source": []
  },
  {
   "cell_type": "code",
   "execution_count": null,
   "metadata": {},
   "outputs": [],
   "source": []
  },
  {
   "cell_type": "code",
   "execution_count": null,
   "metadata": {},
   "outputs": [],
   "source": []
  },
  {
   "cell_type": "code",
   "execution_count": 58,
   "metadata": {},
   "outputs": [
    {
     "data": {
      "text/html": [
       "<html lang=\"en\">\n",
       "<script src=\"https://requirejs.org/docs/release/2.3.6/minified/require.js\"></script>\n",
       "<script>\n",
       "    var ecco_url = 'https://storage.googleapis.com/ml-intro/ecco/'\n",
       "    //var ecco_url = 'http://localhost:8000/'\n",
       "\n",
       "    if (window.ecco === undefined) window.ecco = {}\n",
       "\n",
       "    // Setup the paths of the script we'll be using\n",
       "    requirejs.config({\n",
       "        urlArgs: \"bust=\" + (new Date()).getTime(),\n",
       "        nodeRequire: require,\n",
       "        paths: {\n",
       "            d3: \"https://d3js.org/d3.v6.min\", // This is only for use in setup.html and basic.html\n",
       "            \"d3-array\": \"https://d3js.org/d3-array.v2.min\",\n",
       "            jquery: \"https://code.jquery.com/jquery-3.5.1.min\",\n",
       "            ecco: ecco_url + 'js/0.0.6/ecco-bundle.min',\n",
       "            xregexp: 'https://cdnjs.cloudflare.com/ajax/libs/xregexp/3.2.0/xregexp-all.min'\n",
       "        }\n",
       "    });\n",
       "\n",
       "    // Add the css file\n",
       "    //requirejs(['d3'],\n",
       "    //    function (d3) {\n",
       "    //        d3.select('#css').attr('href', ecco_url + 'html/styles.css')\n",
       "    //    })\n",
       "\n",
       "    console.log('Ecco initialize!!')\n",
       "\n",
       "    // returns a 'basic' object. basic.init() selects the html div we'll be\n",
       "    // rendering the html into, adds styles.css to the document.\n",
       "    define('basic', ['d3'],\n",
       "        function (d3) {\n",
       "            return {\n",
       "                init: function (viz_id = null) {\n",
       "                    if (viz_id == null) {\n",
       "                        viz_id = \"viz_\" + Math.round(Math.random() * 10000000)\n",
       "                    }\n",
       "                    // Select the div rendered below, change its id\n",
       "                    const div = d3.select('#basic').attr('id', viz_id),\n",
       "                        div_parent = d3.select('#' + viz_id).node().parentNode\n",
       "\n",
       "                    // Link to CSS file\n",
       "                    d3.select(div_parent).insert('link')\n",
       "                        .attr('rel', 'stylesheet')\n",
       "                        .attr('type', 'text/css')\n",
       "                        .attr('href', ecco_url + 'html/0.0.2/styles.css')\n",
       "\n",
       "                    return viz_id\n",
       "                }\n",
       "            }\n",
       "        }, function (err) {\n",
       "            console.log(err);\n",
       "        }\n",
       "    )\n",
       "</script>\n",
       "\n",
       "<head>\n",
       "    <link id='css' rel=\"stylesheet\" type=\"text/css\">\n",
       "</head>\n",
       "<div id=\"basic\"></div>\n"
      ],
      "text/plain": [
       "<IPython.core.display.HTML object>"
      ]
     },
     "metadata": {},
     "output_type": "display_data"
    },
    {
     "data": {
      "application/javascript": "\n             requirejs(['basic', 'ecco'], function(basic, ecco){\n                const viz_id = basic.init()\n                console.log(viz_id)\n                window.ecco[viz_id] = ecco.interactiveTokens({\n                    parentDiv: viz_id,\n                    data: {\"tokens\": [{\"token\": \"Joe\", \"token_id\": 19585, \"is_partial\": true, \"type\": \"input\", \"value\": \"0.04306504614500944\", \"position\": 0}, {\"token\": \"has\", \"token_id\": 468, \"is_partial\": false, \"type\": \"input\", \"value\": \"0.014555733516520866\", \"position\": 1}, {\"token\": \"a\", \"token_id\": 257, \"is_partial\": false, \"type\": \"input\", \"value\": \"0.011171689066593236\", \"position\": 2}, {\"token\": \"sister\", \"token_id\": 6621, \"is_partial\": false, \"type\": \"input\", \"value\": \"0.03163117271724789\", \"position\": 3}, {\"token\": \",\", \"token_id\": 837, \"is_partial\": false, \"type\": \"input\", \"value\": \"0.022174059903824057\", \"position\": 4}, {\"token\": \"played\", \"token_id\": 2826, \"is_partial\": false, \"type\": \"input\", \"value\": \"0.02143520529493895\", \"position\": 5}, {\"token\": \"basketball\", \"token_id\": 9669, \"is_partial\": false, \"type\": \"input\", \"value\": \"0.03644492096135835\", \"position\": 6}, {\"token\": \"and\", \"token_id\": 290, \"is_partial\": false, \"type\": \"input\", \"value\": \"0.0074408250956265075\", \"position\": 7}, {\"token\": \"now\", \"token_id\": 783, \"is_partial\": false, \"type\": \"input\", \"value\": \"0.013616749254033245\", \"position\": 8}, {\"token\": \"lives\", \"token_id\": 3160, \"is_partial\": false, \"type\": \"input\", \"value\": \"0.022082939445958377\", \"position\": 9}, {\"token\": \"in\", \"token_id\": 287, \"is_partial\": false, \"type\": \"input\", \"value\": \"0.007826157932991107\", \"position\": 10}, {\"token\": \"France\", \"token_id\": 4881, \"is_partial\": false, \"type\": \"input\", \"value\": \"0.032547272201561374\", \"position\": 11}, {\"token\": \"and\", \"token_id\": 290, \"is_partial\": false, \"type\": \"input\", \"value\": \"0.010041463731771444\", \"position\": 12}, {\"token\": \"has\", \"token_id\": 468, \"is_partial\": false, \"type\": \"input\", \"value\": \"0.011200908482919679\", \"position\": 13}, {\"token\": \"travelled\", \"token_id\": 21650, \"is_partial\": false, \"type\": \"input\", \"value\": \"0.037956906628622195\", \"position\": 14}, {\"token\": \"to\", \"token_id\": 284, \"is_partial\": false, \"type\": \"input\", \"value\": \"0.011413888759847193\", \"position\": 15}, {\"token\": \"Warsaw\", \"token_id\": 32955, \"is_partial\": false, \"type\": \"input\", \"value\": \"0.2315115783531209\", \"position\": 16}, {\"token\": \",\", \"token_id\": 837, \"is_partial\": false, \"type\": \"input\", \"value\": \"0.016662963145174958\", \"position\": 17}, {\"token\": \"Santiago\", \"token_id\": 34802, \"is_partial\": false, \"type\": \"input\", \"value\": \"0.05582866129668857\", \"position\": 18}, {\"token\": \"and\", \"token_id\": 290, \"is_partial\": false, \"type\": \"input\", \"value\": \"0.007166530025392632\", \"position\": 19}, {\"token\": \"Helsinki\", \"token_id\": 47688, \"is_partial\": false, \"type\": \"input\", \"value\": \"0.10465970886848572\", \"position\": 20}, {\"token\": \".\", \"token_id\": 764, \"is_partial\": false, \"type\": \"input\", \"value\": \"0.027842879143073578\", \"position\": 21}, {\"token\": \"The\", \"token_id\": 383, \"is_partial\": false, \"type\": \"input\", \"value\": \"0.01012916827706266\", \"position\": 22}, {\"token\": \"capital\", \"token_id\": 3139, \"is_partial\": false, \"type\": \"input\", \"value\": \"0.0862846809017771\", \"position\": 23}, {\"token\": \"of\", \"token_id\": 286, \"is_partial\": false, \"type\": \"input\", \"value\": \"0.0054025535424610995\", \"position\": 24}, {\"token\": \"Joe\", \"token_id\": 5689, \"is_partial\": false, \"type\": \"input\", \"value\": \"0.024220002171176397\", \"position\": 25}, {\"token\": \"'s\", \"token_id\": 338, \"is_partial\": true, \"type\": \"input\", \"value\": \"0.006290756144570868\", \"position\": 26}, {\"token\": \"country\", \"token_id\": 1499, \"is_partial\": false, \"type\": \"input\", \"value\": \"0.08112228652926133\", \"position\": 27}, {\"token\": \"is\", \"token_id\": 318, \"is_partial\": false, \"type\": \"input\", \"value\": \"0.008273292462930112\", \"position\": 28}, {\"token\": \"Warsaw\", \"token_id\": 32955, \"is_partial\": false, \"type\": \"output\", \"value\": \"0\", \"position\": 29}, {\"token\": \",\", \"token_id\": 837, \"is_partial\": false, \"type\": \"output\", \"value\": \"0\", \"position\": 30}, {\"token\": \"where\", \"token_id\": 810, \"is_partial\": false, \"type\": \"output\", \"value\": \"0\", \"position\": 31}], \"attributions\": [[0.04306504614500944, 0.014555733516520866, 0.011171689066593236, 0.03163117271724789, 0.022174059903824057, 0.02143520529493895, 0.03644492096135835, 0.0074408250956265075, 0.013616749254033245, 0.022082939445958377, 0.007826157932991107, 0.032547272201561374, 0.010041463731771444, 0.011200908482919679, 0.037956906628622195, 0.011413888759847193, 0.2315115783531209, 0.016662963145174958, 0.05582866129668857, 0.007166530025392632, 0.10465970886848572, 0.027842879143073578, 0.01012916827706266, 0.0862846809017771, 0.0054025535424610995, 0.024220002171176397, 0.006290756144570868, 0.08112228652926133, 0.008273292462930112], [0.04631894774978953, 0.02469526443041288, 0.014327883928875254, 0.041273886006954905, 0.019677057612250377, 0.020109648821008932, 0.0369731699750584, 0.011634172661619948, 0.04565796281191529, 0.07681173055771255, 0.009366810213833392, 0.11115605767398555, 0.010365765237504187, 0.013950451850100161, 0.06866795782989489, 0.009525307734228222, 0.056820081166972805, 0.01999578616379213, 0.035709144247632114, 0.010167133393623514, 0.04005465865571969, 0.023024084318655953, 0.011905921296926674, 0.06448112168863619, 0.0053597048683509145, 0.01651228531131622, 0.009915610837372524, 0.05734660502438046, 0.014269473884609975, 0.07392631404686639], [0.05275089361360299, 0.045652632583806495, 0.02252542054774662, 0.03591623183216757, 0.03822783088620312, 0.02050307930358266, 0.03770861823287474, 0.011609714122671656, 0.021325675609577804, 0.02316045956761668, 0.010288297449517887, 0.025171032338823934, 0.012054280886230919, 0.012801610967203596, 0.0289804764309684, 0.009666865097912465, 0.05023832099202921, 0.03942677773511089, 0.03865288578584997, 0.011361065508974434, 0.05008482525467162, 0.02206209567146884, 0.01522393625307383, 0.03775253529326468, 0.01175456860600869, 0.025647466389456742, 0.014144645670386969, 0.02519230122409692, 0.023503595508585474, 0.05062648042195939, 0.17598538021455482]]},\n                    tokenization_config: {\"token_prefix\": \"\\u0120\", \"partial_token_prefix\": \"\"}\n             })\n\n             }, function (err) {\n                console.log(err);\n            })",
      "text/plain": [
       "<IPython.core.display.Javascript object>"
      ]
     },
     "metadata": {},
     "output_type": "display_data"
    }
   ],
   "source": [
    "output.primary_attributions(attr_method='ig', style=\"detailed\")"
   ]
  },
  {
   "cell_type": "code",
   "execution_count": 56,
   "metadata": {},
   "outputs": [
    {
     "data": {
      "text/html": [
       "<html lang=\"en\">\n",
       "<script src=\"https://requirejs.org/docs/release/2.3.6/minified/require.js\"></script>\n",
       "<script>\n",
       "    var ecco_url = 'https://storage.googleapis.com/ml-intro/ecco/'\n",
       "    //var ecco_url = 'http://localhost:8000/'\n",
       "\n",
       "    if (window.ecco === undefined) window.ecco = {}\n",
       "\n",
       "    // Setup the paths of the script we'll be using\n",
       "    requirejs.config({\n",
       "        urlArgs: \"bust=\" + (new Date()).getTime(),\n",
       "        nodeRequire: require,\n",
       "        paths: {\n",
       "            d3: \"https://d3js.org/d3.v6.min\", // This is only for use in setup.html and basic.html\n",
       "            \"d3-array\": \"https://d3js.org/d3-array.v2.min\",\n",
       "            jquery: \"https://code.jquery.com/jquery-3.5.1.min\",\n",
       "            ecco: ecco_url + 'js/0.0.6/ecco-bundle.min',\n",
       "            xregexp: 'https://cdnjs.cloudflare.com/ajax/libs/xregexp/3.2.0/xregexp-all.min'\n",
       "        }\n",
       "    });\n",
       "\n",
       "    // Add the css file\n",
       "    //requirejs(['d3'],\n",
       "    //    function (d3) {\n",
       "    //        d3.select('#css').attr('href', ecco_url + 'html/styles.css')\n",
       "    //    })\n",
       "\n",
       "    console.log('Ecco initialize!!')\n",
       "\n",
       "    // returns a 'basic' object. basic.init() selects the html div we'll be\n",
       "    // rendering the html into, adds styles.css to the document.\n",
       "    define('basic', ['d3'],\n",
       "        function (d3) {\n",
       "            return {\n",
       "                init: function (viz_id = null) {\n",
       "                    if (viz_id == null) {\n",
       "                        viz_id = \"viz_\" + Math.round(Math.random() * 10000000)\n",
       "                    }\n",
       "                    // Select the div rendered below, change its id\n",
       "                    const div = d3.select('#basic').attr('id', viz_id),\n",
       "                        div_parent = d3.select('#' + viz_id).node().parentNode\n",
       "\n",
       "                    // Link to CSS file\n",
       "                    d3.select(div_parent).insert('link')\n",
       "                        .attr('rel', 'stylesheet')\n",
       "                        .attr('type', 'text/css')\n",
       "                        .attr('href', ecco_url + 'html/0.0.2/styles.css')\n",
       "\n",
       "                    return viz_id\n",
       "                }\n",
       "            }\n",
       "        }, function (err) {\n",
       "            console.log(err);\n",
       "        }\n",
       "    )\n",
       "</script>\n",
       "\n",
       "<head>\n",
       "    <link id='css' rel=\"stylesheet\" type=\"text/css\">\n",
       "</head>\n",
       "<div id=\"basic\"></div>\n"
      ],
      "text/plain": [
       "<IPython.core.display.HTML object>"
      ]
     },
     "metadata": {},
     "output_type": "display_data"
    },
    {
     "data": {
      "application/javascript": "\n             requirejs(['basic', 'ecco'], function(basic, ecco){\n                const viz_id = basic.init()\n                console.log(viz_id)\n                window.ecco[viz_id] = ecco.interactiveTokens({\n                    parentDiv: viz_id,\n                    data: {\"tokens\": [{\"token\": \"Joe\", \"token_id\": 19585, \"is_partial\": true, \"type\": \"input\", \"value\": \"0.0462682126745909\", \"position\": 0}, {\"token\": \"has\", \"token_id\": 468, \"is_partial\": false, \"type\": \"input\", \"value\": \"0.014545812019098716\", \"position\": 1}, {\"token\": \"a\", \"token_id\": 257, \"is_partial\": false, \"type\": \"input\", \"value\": \"0.010410937540149944\", \"position\": 2}, {\"token\": \"sister\", \"token_id\": 6621, \"is_partial\": false, \"type\": \"input\", \"value\": \"0.03227501256171717\", \"position\": 3}, {\"token\": \",\", \"token_id\": 837, \"is_partial\": false, \"type\": \"input\", \"value\": \"0.018965222175626874\", \"position\": 4}, {\"token\": \"played\", \"token_id\": 2826, \"is_partial\": false, \"type\": \"input\", \"value\": \"0.020983300239498452\", \"position\": 5}, {\"token\": \"basketball\", \"token_id\": 9669, \"is_partial\": false, \"type\": \"input\", \"value\": \"0.03035375780719002\", \"position\": 6}, {\"token\": \"and\", \"token_id\": 290, \"is_partial\": false, \"type\": \"input\", \"value\": \"0.007390562556444044\", \"position\": 7}, {\"token\": \"now\", \"token_id\": 783, \"is_partial\": false, \"type\": \"input\", \"value\": \"0.013677951180326066\", \"position\": 8}, {\"token\": \"lives\", \"token_id\": 3160, \"is_partial\": false, \"type\": \"input\", \"value\": \"0.02615066232280218\", \"position\": 9}, {\"token\": \"in\", \"token_id\": 287, \"is_partial\": false, \"type\": \"input\", \"value\": \"0.010157957271083587\", \"position\": 10}, {\"token\": \"France\", \"token_id\": 4881, \"is_partial\": false, \"type\": \"input\", \"value\": \"0.04259014120852956\", \"position\": 11}, {\"token\": \"and\", \"token_id\": 290, \"is_partial\": false, \"type\": \"input\", \"value\": \"0.007460679037585251\", \"position\": 12}, {\"token\": \"has\", \"token_id\": 468, \"is_partial\": false, \"type\": \"input\", \"value\": \"0.008984199245041034\", \"position\": 13}, {\"token\": \"travelled\", \"token_id\": 21650, \"is_partial\": false, \"type\": \"input\", \"value\": \"0.02968256555083052\", \"position\": 14}, {\"token\": \"to\", \"token_id\": 284, \"is_partial\": false, \"type\": \"input\", \"value\": \"0.006559994605368891\", \"position\": 15}, {\"token\": \"Warsaw\", \"token_id\": 32955, \"is_partial\": false, \"type\": \"input\", \"value\": \"0.08456418981788354\", \"position\": 16}, {\"token\": \",\", \"token_id\": 837, \"is_partial\": false, \"type\": \"input\", \"value\": \"0.01570323681891592\", \"position\": 17}, {\"token\": \"Santiago\", \"token_id\": 34802, \"is_partial\": false, \"type\": \"input\", \"value\": \"0.0362681394591425\", \"position\": 18}, {\"token\": \"and\", \"token_id\": 290, \"is_partial\": false, \"type\": \"input\", \"value\": \"0.008184941338813685\", \"position\": 19}, {\"token\": \"Helsinki\", \"token_id\": 47688, \"is_partial\": false, \"type\": \"input\", \"value\": \"0.06682347858138572\", \"position\": 20}, {\"token\": \".\", \"token_id\": 764, \"is_partial\": false, \"type\": \"input\", \"value\": \"0.027960747349210096\", \"position\": 21}, {\"token\": \"The\", \"token_id\": 383, \"is_partial\": false, \"type\": \"input\", \"value\": \"0.01288176409331448\", \"position\": 22}, {\"token\": \"capital\", \"token_id\": 3139, \"is_partial\": false, \"type\": \"input\", \"value\": \"0.0966888032976453\", \"position\": 23}, {\"token\": \"of\", \"token_id\": 286, \"is_partial\": false, \"type\": \"input\", \"value\": \"0.007516290077296897\", \"position\": 24}, {\"token\": \"Joe\", \"token_id\": 5689, \"is_partial\": false, \"type\": \"input\", \"value\": \"0.023172904660246383\", \"position\": 25}, {\"token\": \"'s\", \"token_id\": 338, \"is_partial\": true, \"type\": \"input\", \"value\": \"0.01273385694810022\", \"position\": 26}, {\"token\": \"country\", \"token_id\": 1499, \"is_partial\": false, \"type\": \"input\", \"value\": \"0.22641641216990374\", \"position\": 27}, {\"token\": \"of\", \"token_id\": 286, \"is_partial\": false, \"type\": \"input\", \"value\": \"0.004118006866345404\", \"position\": 28}, {\"token\": \"residence\", \"token_id\": 11566, \"is_partial\": false, \"type\": \"input\", \"value\": \"0.045138313129895434\", \"position\": 29}, {\"token\": \"is\", \"token_id\": 318, \"is_partial\": false, \"type\": \"input\", \"value\": \"0.005371947396017563\", \"position\": 30}, {\"token\": \"Paris\", \"token_id\": 6342, \"is_partial\": false, \"type\": \"output\", \"value\": \"0\", \"position\": 31}, {\"token\": \".\", \"token_id\": 764, \"is_partial\": false, \"type\": \"output\", \"value\": \"0\", \"position\": 32}, {\"token\": \"\\n\", \"token_id\": 198, \"is_partial\": true, \"type\": \"output\", \"value\": \"0\", \"position\": 33}], \"attributions\": [[0.0462682126745909, 0.014545812019098716, 0.010410937540149944, 0.03227501256171717, 0.018965222175626874, 0.020983300239498452, 0.03035375780719002, 0.007390562556444044, 0.013677951180326066, 0.02615066232280218, 0.010157957271083587, 0.04259014120852956, 0.007460679037585251, 0.008984199245041034, 0.02968256555083052, 0.006559994605368891, 0.08456418981788354, 0.01570323681891592, 0.0362681394591425, 0.008184941338813685, 0.06682347858138572, 0.027960747349210096, 0.01288176409331448, 0.0966888032976453, 0.007516290077296897, 0.023172904660246383, 0.01273385694810022, 0.22641641216990374, 0.004118006866345404, 0.045138313129895434, 0.005371947396017563], [0.058699465597101846, 0.04846388564600516, 0.0213863983413993, 0.03248861379503074, 0.02538144800028993, 0.02080739449830468, 0.027166622658257894, 0.011895308420239819, 0.032121414519992245, 0.028211683441964442, 0.009841581622646353, 0.055931708052048584, 0.01308520166581037, 0.013215972796187516, 0.024939040386150056, 0.013346275392680407, 0.03587885584425936, 0.02126453339110623, 0.0368619088808927, 0.014612528127785684, 0.045374988784569664, 0.03884221902656851, 0.01689839894960455, 0.09965574532105544, 0.012044510680603845, 0.021036544072612094, 0.015238382234767166, 0.03807726408725717, 0.022318748768592335, 0.040641444533349065, 0.07345419352554987, 0.030817718937317], [0.04826143127287881, 0.02441519551805176, 0.013709259651664515, 0.032671600796833164, 0.02209279506629653, 0.01948099390051494, 0.022146512207580352, 0.009027737625818738, 0.014254172301564168, 0.020526737910189934, 0.0087469333106087, 0.05558083887300445, 0.010466818411047678, 0.021116921000577958, 0.047563499755991105, 0.010554668068312019, 0.03463856174454164, 0.01698135207524751, 0.02966061075740634, 0.012388251535323023, 0.04339954500960288, 0.04418089080212492, 0.015912482588645357, 0.09745376427415285, 0.023468688116383897, 0.04308214223986482, 0.029902472447903342, 0.033191457999770704, 0.016734893965644267, 0.028888139727937377, 0.041146954882524206, 0.02771252300230258, 0.08064115315968945]]},\n                    tokenization_config: {\"token_prefix\": \"\\u0120\", \"partial_token_prefix\": \"\"}\n             })\n\n             }, function (err) {\n                console.log(err);\n            })",
      "text/plain": [
       "<IPython.core.display.Javascript object>"
      ]
     },
     "metadata": {},
     "output_type": "display_data"
    }
   ],
   "source": [
    "output.primary_attributions(attr_method='ig', style=\"detailed\")"
   ]
  },
  {
   "cell_type": "code",
   "execution_count": null,
   "metadata": {},
   "outputs": [],
   "source": []
  },
  {
   "cell_type": "code",
   "execution_count": null,
   "metadata": {},
   "outputs": [],
   "source": []
  },
  {
   "cell_type": "code",
   "execution_count": 53,
   "metadata": {},
   "outputs": [
    {
     "data": {
      "text/html": [
       "<html lang=\"en\">\n",
       "<script src=\"https://requirejs.org/docs/release/2.3.6/minified/require.js\"></script>\n",
       "<script>\n",
       "    var ecco_url = 'https://storage.googleapis.com/ml-intro/ecco/'\n",
       "    //var ecco_url = 'http://localhost:8000/'\n",
       "\n",
       "    if (window.ecco === undefined) window.ecco = {}\n",
       "\n",
       "    // Setup the paths of the script we'll be using\n",
       "    requirejs.config({\n",
       "        urlArgs: \"bust=\" + (new Date()).getTime(),\n",
       "        nodeRequire: require,\n",
       "        paths: {\n",
       "            d3: \"https://d3js.org/d3.v6.min\", // This is only for use in setup.html and basic.html\n",
       "            \"d3-array\": \"https://d3js.org/d3-array.v2.min\",\n",
       "            jquery: \"https://code.jquery.com/jquery-3.5.1.min\",\n",
       "            ecco: ecco_url + 'js/0.0.6/ecco-bundle.min',\n",
       "            xregexp: 'https://cdnjs.cloudflare.com/ajax/libs/xregexp/3.2.0/xregexp-all.min'\n",
       "        }\n",
       "    });\n",
       "\n",
       "    // Add the css file\n",
       "    //requirejs(['d3'],\n",
       "    //    function (d3) {\n",
       "    //        d3.select('#css').attr('href', ecco_url + 'html/styles.css')\n",
       "    //    })\n",
       "\n",
       "    console.log('Ecco initialize!!')\n",
       "\n",
       "    // returns a 'basic' object. basic.init() selects the html div we'll be\n",
       "    // rendering the html into, adds styles.css to the document.\n",
       "    define('basic', ['d3'],\n",
       "        function (d3) {\n",
       "            return {\n",
       "                init: function (viz_id = null) {\n",
       "                    if (viz_id == null) {\n",
       "                        viz_id = \"viz_\" + Math.round(Math.random() * 10000000)\n",
       "                    }\n",
       "                    // Select the div rendered below, change its id\n",
       "                    const div = d3.select('#basic').attr('id', viz_id),\n",
       "                        div_parent = d3.select('#' + viz_id).node().parentNode\n",
       "\n",
       "                    // Link to CSS file\n",
       "                    d3.select(div_parent).insert('link')\n",
       "                        .attr('rel', 'stylesheet')\n",
       "                        .attr('type', 'text/css')\n",
       "                        .attr('href', ecco_url + 'html/0.0.2/styles.css')\n",
       "\n",
       "                    return viz_id\n",
       "                }\n",
       "            }\n",
       "        }, function (err) {\n",
       "            console.log(err);\n",
       "        }\n",
       "    )\n",
       "</script>\n",
       "\n",
       "<head>\n",
       "    <link id='css' rel=\"stylesheet\" type=\"text/css\">\n",
       "</head>\n",
       "<div id=\"basic\"></div>\n"
      ],
      "text/plain": [
       "<IPython.core.display.HTML object>"
      ]
     },
     "metadata": {},
     "output_type": "display_data"
    },
    {
     "data": {
      "application/javascript": "\n             requirejs(['basic', 'ecco'], function(basic, ecco){\n                const viz_id = basic.init()\n                console.log(viz_id)\n                window.ecco[viz_id] = ecco.interactiveTokens({\n                    parentDiv: viz_id,\n                    data: {\"tokens\": [{\"token\": \"Joe\", \"token_id\": 19585, \"is_partial\": true, \"type\": \"input\", \"value\": \"0.04290554241409778\", \"position\": 0}, {\"token\": \"has\", \"token_id\": 468, \"is_partial\": false, \"type\": \"input\", \"value\": \"0.015081691712478775\", \"position\": 1}, {\"token\": \"a\", \"token_id\": 257, \"is_partial\": false, \"type\": \"input\", \"value\": \"0.01197224142350163\", \"position\": 2}, {\"token\": \"sister\", \"token_id\": 6621, \"is_partial\": false, \"type\": \"input\", \"value\": \"0.03272507739642839\", \"position\": 3}, {\"token\": \"and\", \"token_id\": 290, \"is_partial\": false, \"type\": \"input\", \"value\": \"0.010024127911922259\", \"position\": 4}, {\"token\": \"now\", \"token_id\": 783, \"is_partial\": false, \"type\": \"input\", \"value\": \"0.016782547695018312\", \"position\": 5}, {\"token\": \"lives\", \"token_id\": 3160, \"is_partial\": false, \"type\": \"input\", \"value\": \"0.028730962351559218\", \"position\": 6}, {\"token\": \"in\", \"token_id\": 287, \"is_partial\": false, \"type\": \"input\", \"value\": \"0.00868503674253863\", \"position\": 7}, {\"token\": \"France\", \"token_id\": 4881, \"is_partial\": false, \"type\": \"input\", \"value\": \"0.033010603478017944\", \"position\": 8}, {\"token\": \"and\", \"token_id\": 290, \"is_partial\": false, \"type\": \"input\", \"value\": \"0.01086755621000177\", \"position\": 9}, {\"token\": \"has\", \"token_id\": 468, \"is_partial\": false, \"type\": \"input\", \"value\": \"0.013017085242675969\", \"position\": 10}, {\"token\": \"travelled\", \"token_id\": 21650, \"is_partial\": false, \"type\": \"input\", \"value\": \"0.03931433469559059\", \"position\": 11}, {\"token\": \"to\", \"token_id\": 284, \"is_partial\": false, \"type\": \"input\", \"value\": \"0.011723428510227866\", \"position\": 12}, {\"token\": \"Warsaw\", \"token_id\": 32955, \"is_partial\": false, \"type\": \"input\", \"value\": \"0.19954532529779814\", \"position\": 13}, {\"token\": \",\", \"token_id\": 837, \"is_partial\": false, \"type\": \"input\", \"value\": \"0.026444356312711192\", \"position\": 14}, {\"token\": \"Santiago\", \"token_id\": 34802, \"is_partial\": false, \"type\": \"input\", \"value\": \"0.05291076032270107\", \"position\": 15}, {\"token\": \"and\", \"token_id\": 290, \"is_partial\": false, \"type\": \"input\", \"value\": \"0.009370782054801016\", \"position\": 16}, {\"token\": \"Helsinki\", \"token_id\": 47688, \"is_partial\": false, \"type\": \"input\", \"value\": \"0.09525956193353226\", \"position\": 17}, {\"token\": \".\", \"token_id\": 764, \"is_partial\": false, \"type\": \"input\", \"value\": \"0.03285789448838227\", \"position\": 18}, {\"token\": \"The\", \"token_id\": 383, \"is_partial\": false, \"type\": \"input\", \"value\": \"0.015614368671699895\", \"position\": 19}, {\"token\": \"capital\", \"token_id\": 3139, \"is_partial\": false, \"type\": \"input\", \"value\": \"0.1234874797596685\", \"position\": 20}, {\"token\": \"of\", \"token_id\": 286, \"is_partial\": false, \"type\": \"input\", \"value\": \"0.007306096951393717\", \"position\": 21}, {\"token\": \"Joe\", \"token_id\": 5689, \"is_partial\": false, \"type\": \"input\", \"value\": \"0.029830658906221663\", \"position\": 22}, {\"token\": \"'s\", \"token_id\": 338, \"is_partial\": true, \"type\": \"input\", \"value\": \"0.007785910616314147\", \"position\": 23}, {\"token\": \"country\", \"token_id\": 1499, \"is_partial\": false, \"type\": \"input\", \"value\": \"0.11704594226394249\", \"position\": 24}, {\"token\": \"is\", \"token_id\": 318, \"is_partial\": false, \"type\": \"input\", \"value\": \"0.007700626636774561\", \"position\": 25}, {\"token\": \"Warsaw\", \"token_id\": 32955, \"is_partial\": false, \"type\": \"output\", \"value\": \"0\", \"position\": 26}, {\"token\": \".\", \"token_id\": 764, \"is_partial\": false, \"type\": \"output\", \"value\": \"0\", \"position\": 27}, {\"token\": \"\\n\", \"token_id\": 198, \"is_partial\": true, \"type\": \"output\", \"value\": \"0\", \"position\": 28}], \"attributions\": [[0.04290554241409778, 0.015081691712478775, 0.01197224142350163, 0.03272507739642839, 0.010024127911922259, 0.016782547695018312, 0.028730962351559218, 0.00868503674253863, 0.033010603478017944, 0.01086755621000177, 0.013017085242675969, 0.03931433469559059, 0.011723428510227866, 0.19954532529779814, 0.026444356312711192, 0.05291076032270107, 0.009370782054801016, 0.09525956193353226, 0.03285789448838227, 0.015614368671699895, 0.1234874797596685, 0.007306096951393717, 0.029830658906221663, 0.007785910616314147, 0.11704594226394249, 0.007700626636774561], [0.06023486859733835, 0.03574580291312151, 0.024969877243014835, 0.10743359882762929, 0.015187280830005662, 0.02748445434459573, 0.04057663054869901, 0.012796714250806678, 0.08221455664416674, 0.010837448432899861, 0.014788660603050561, 0.02728824446746571, 0.01091404701427763, 0.04272596049532355, 0.03526702740559079, 0.029691114689583485, 0.008859748085866112, 0.037822578680131606, 0.019993295244426456, 0.016537919516149805, 0.19705087098563617, 0.006104998880803476, 0.017678245488431273, 0.007752479264631946, 0.051636272000209364, 0.009932453858435896, 0.04847485068770845], [0.06321886834784485, 0.04056136038413678, 0.02514626277223796, 0.051872705542263385, 0.022282389455094885, 0.02965906924334825, 0.033151962836035914, 0.019123762678933346, 0.05133608828130559, 0.02953414664148925, 0.060652305377687094, 0.16225852283979997, 0.00902104428778318, 0.03774584548495405, 0.01563959680248758, 0.028923039268024055, 0.0095586226574946, 0.040902113893262954, 0.01985043241637319, 0.027906550773347395, 0.09024022644498182, 0.005987670409475856, 0.026368266471407664, 0.012781961181780647, 0.015163626603153285, 0.029588262539161598, 0.0207627948974863, 0.02076250146864866]]},\n                    tokenization_config: {\"token_prefix\": \"\\u0120\", \"partial_token_prefix\": \"\"}\n             })\n\n             }, function (err) {\n                console.log(err);\n            })",
      "text/plain": [
       "<IPython.core.display.Javascript object>"
      ]
     },
     "metadata": {},
     "output_type": "display_data"
    }
   ],
   "source": [
    "output.primary_attributions(attr_method='ig', style=\"detailed\")"
   ]
  },
  {
   "cell_type": "code",
   "execution_count": 51,
   "metadata": {},
   "outputs": [
    {
     "data": {
      "text/html": [
       "<html lang=\"en\">\n",
       "<script src=\"https://requirejs.org/docs/release/2.3.6/minified/require.js\"></script>\n",
       "<script>\n",
       "    var ecco_url = 'https://storage.googleapis.com/ml-intro/ecco/'\n",
       "    //var ecco_url = 'http://localhost:8000/'\n",
       "\n",
       "    if (window.ecco === undefined) window.ecco = {}\n",
       "\n",
       "    // Setup the paths of the script we'll be using\n",
       "    requirejs.config({\n",
       "        urlArgs: \"bust=\" + (new Date()).getTime(),\n",
       "        nodeRequire: require,\n",
       "        paths: {\n",
       "            d3: \"https://d3js.org/d3.v6.min\", // This is only for use in setup.html and basic.html\n",
       "            \"d3-array\": \"https://d3js.org/d3-array.v2.min\",\n",
       "            jquery: \"https://code.jquery.com/jquery-3.5.1.min\",\n",
       "            ecco: ecco_url + 'js/0.0.6/ecco-bundle.min',\n",
       "            xregexp: 'https://cdnjs.cloudflare.com/ajax/libs/xregexp/3.2.0/xregexp-all.min'\n",
       "        }\n",
       "    });\n",
       "\n",
       "    // Add the css file\n",
       "    //requirejs(['d3'],\n",
       "    //    function (d3) {\n",
       "    //        d3.select('#css').attr('href', ecco_url + 'html/styles.css')\n",
       "    //    })\n",
       "\n",
       "    console.log('Ecco initialize!!')\n",
       "\n",
       "    // returns a 'basic' object. basic.init() selects the html div we'll be\n",
       "    // rendering the html into, adds styles.css to the document.\n",
       "    define('basic', ['d3'],\n",
       "        function (d3) {\n",
       "            return {\n",
       "                init: function (viz_id = null) {\n",
       "                    if (viz_id == null) {\n",
       "                        viz_id = \"viz_\" + Math.round(Math.random() * 10000000)\n",
       "                    }\n",
       "                    // Select the div rendered below, change its id\n",
       "                    const div = d3.select('#basic').attr('id', viz_id),\n",
       "                        div_parent = d3.select('#' + viz_id).node().parentNode\n",
       "\n",
       "                    // Link to CSS file\n",
       "                    d3.select(div_parent).insert('link')\n",
       "                        .attr('rel', 'stylesheet')\n",
       "                        .attr('type', 'text/css')\n",
       "                        .attr('href', ecco_url + 'html/0.0.2/styles.css')\n",
       "\n",
       "                    return viz_id\n",
       "                }\n",
       "            }\n",
       "        }, function (err) {\n",
       "            console.log(err);\n",
       "        }\n",
       "    )\n",
       "</script>\n",
       "\n",
       "<head>\n",
       "    <link id='css' rel=\"stylesheet\" type=\"text/css\">\n",
       "</head>\n",
       "<div id=\"basic\"></div>\n"
      ],
      "text/plain": [
       "<IPython.core.display.HTML object>"
      ]
     },
     "metadata": {},
     "output_type": "display_data"
    },
    {
     "data": {
      "application/javascript": "\n             requirejs(['basic', 'ecco'], function(basic, ecco){\n                const viz_id = basic.init()\n                console.log(viz_id)\n                window.ecco[viz_id] = ecco.interactiveTokens({\n                    parentDiv: viz_id,\n                    data: {\"tokens\": [{\"token\": \"Joe\", \"token_id\": 19585, \"is_partial\": true, \"type\": \"input\", \"value\": \"0.049339248494992514\", \"position\": 0}, {\"token\": \"has\", \"token_id\": 468, \"is_partial\": false, \"type\": \"input\", \"value\": \"0.01606660378490724\", \"position\": 1}, {\"token\": \"a\", \"token_id\": 257, \"is_partial\": false, \"type\": \"input\", \"value\": \"0.01132346339090977\", \"position\": 2}, {\"token\": \"sister\", \"token_id\": 6621, \"is_partial\": false, \"type\": \"input\", \"value\": \"0.03547278426318274\", \"position\": 3}, {\"token\": \"and\", \"token_id\": 290, \"is_partial\": false, \"type\": \"input\", \"value\": \"0.010397465531806736\", \"position\": 4}, {\"token\": \"now\", \"token_id\": 783, \"is_partial\": false, \"type\": \"input\", \"value\": \"0.01857693297691258\", \"position\": 5}, {\"token\": \"lives\", \"token_id\": 3160, \"is_partial\": false, \"type\": \"input\", \"value\": \"0.027231202815118316\", \"position\": 6}, {\"token\": \"in\", \"token_id\": 287, \"is_partial\": false, \"type\": \"input\", \"value\": \"0.0091777153181398\", \"position\": 7}, {\"token\": \"France\", \"token_id\": 4881, \"is_partial\": false, \"type\": \"input\", \"value\": \"0.05261503432237326\", \"position\": 8}, {\"token\": \"and\", \"token_id\": 290, \"is_partial\": false, \"type\": \"input\", \"value\": \"0.007805627032350462\", \"position\": 9}, {\"token\": \"has\", \"token_id\": 468, \"is_partial\": false, \"type\": \"input\", \"value\": \"0.009677761476330331\", \"position\": 10}, {\"token\": \"travelled\", \"token_id\": 21650, \"is_partial\": false, \"type\": \"input\", \"value\": \"0.03344366960610485\", \"position\": 11}, {\"token\": \"to\", \"token_id\": 284, \"is_partial\": false, \"type\": \"input\", \"value\": \"0.00757303912278364\", \"position\": 12}, {\"token\": \"Warsaw\", \"token_id\": 32955, \"is_partial\": false, \"type\": \"input\", \"value\": \"0.07325301670395265\", \"position\": 13}, {\"token\": \",\", \"token_id\": 837, \"is_partial\": false, \"type\": \"input\", \"value\": \"0.0192415123449049\", \"position\": 14}, {\"token\": \"Santiago\", \"token_id\": 34802, \"is_partial\": false, \"type\": \"input\", \"value\": \"0.03842423736169043\", \"position\": 15}, {\"token\": \"and\", \"token_id\": 290, \"is_partial\": false, \"type\": \"input\", \"value\": \"0.009381981804287625\", \"position\": 16}, {\"token\": \"Helsinki\", \"token_id\": 47688, \"is_partial\": false, \"type\": \"input\", \"value\": \"0.0705065384426645\", \"position\": 17}, {\"token\": \".\", \"token_id\": 764, \"is_partial\": false, \"type\": \"input\", \"value\": \"0.02584466729173786\", \"position\": 18}, {\"token\": \"The\", \"token_id\": 383, \"is_partial\": false, \"type\": \"input\", \"value\": \"0.014989212994354507\", \"position\": 19}, {\"token\": \"capital\", \"token_id\": 3139, \"is_partial\": false, \"type\": \"input\", \"value\": \"0.03939929062431931\", \"position\": 20}, {\"token\": \"of\", \"token_id\": 286, \"is_partial\": false, \"type\": \"input\", \"value\": \"0.010249826524662244\", \"position\": 21}, {\"token\": \"Joe\", \"token_id\": 5689, \"is_partial\": false, \"type\": \"input\", \"value\": \"0.02849405684766858\", \"position\": 22}, {\"token\": \"'s\", \"token_id\": 338, \"is_partial\": true, \"type\": \"input\", \"value\": \"0.016705345675801578\", \"position\": 23}, {\"token\": \"country\", \"token_id\": 1499, \"is_partial\": false, \"type\": \"input\", \"value\": \"0.31468904441557854\", \"position\": 24}, {\"token\": \"of\", \"token_id\": 286, \"is_partial\": false, \"type\": \"input\", \"value\": \"0.003718181797898879\", \"position\": 25}, {\"token\": \"residence\", \"token_id\": 11566, \"is_partial\": false, \"type\": \"input\", \"value\": \"0.041128236300477454\", \"position\": 26}, {\"token\": \"is\", \"token_id\": 318, \"is_partial\": false, \"type\": \"input\", \"value\": \"0.0052743027340887705\", \"position\": 27}, {\"token\": \"Paris\", \"token_id\": 6342, \"is_partial\": false, \"type\": \"output\", \"value\": \"0\", \"position\": 28}, {\"token\": \".\", \"token_id\": 764, \"is_partial\": false, \"type\": \"output\", \"value\": \"0\", \"position\": 29}, {\"token\": \"\\n\", \"token_id\": 198, \"is_partial\": true, \"type\": \"output\", \"value\": \"0\", \"position\": 30}], \"attributions\": [[0.049339248494992514, 0.01606660378490724, 0.01132346339090977, 0.03547278426318274, 0.010397465531806736, 0.01857693297691258, 0.027231202815118316, 0.0091777153181398, 0.05261503432237326, 0.007805627032350462, 0.009677761476330331, 0.03344366960610485, 0.00757303912278364, 0.07325301670395265, 0.0192415123449049, 0.03842423736169043, 0.009381981804287625, 0.0705065384426645, 0.02584466729173786, 0.014989212994354507, 0.03939929062431931, 0.010249826524662244, 0.02849405684766858, 0.016705345675801578, 0.31468904441557854, 0.003718181797898879, 0.041128236300477454, 0.0052743027340887705], [0.06024345317262477, 0.020095532434469855, 0.019584152448721286, 0.07952922596066277, 0.009642253888612543, 0.017593522756911284, 0.039863263451303914, 0.008076846675523002, 0.06888947051856922, 0.00912548889631234, 0.0111825960497264, 0.05258292824603496, 0.011798380771432727, 0.04213265399107255, 0.03879286142772507, 0.03621718314566993, 0.009597127296843236, 0.04426218361961802, 0.038607980869499715, 0.010796478811114119, 0.09606539751123552, 0.0061579210420788285, 0.03340650353273429, 0.010163669267890077, 0.05317383461524951, 0.016030140223819444, 0.09135626185180665, 0.013619942963438336, 0.05141274455929966], [0.057478016311848866, 0.029443680560863307, 0.019017402019585832, 0.034334311997522377, 0.014586370956738062, 0.0274265301036875, 0.03415302264465828, 0.012090876352103251, 0.07548636325023222, 0.012188788820092878, 0.02460965030861855, 0.06245270533284459, 0.00893670384510338, 0.029178107892485844, 0.02233479710747411, 0.027086674312072002, 0.011269883543593371, 0.0381566645101317, 0.03480796930830852, 0.014904199370526358, 0.027986544068596485, 0.012013918069948875, 0.029174145107116543, 0.01571015895091547, 0.026074925351335376, 0.031867928217703775, 0.04009933898331177, 0.023434154618195882, 0.06525610003144329, 0.13844006805294146]]},\n                    tokenization_config: {\"token_prefix\": \"\\u0120\", \"partial_token_prefix\": \"\"}\n             })\n\n             }, function (err) {\n                console.log(err);\n            })",
      "text/plain": [
       "<IPython.core.display.Javascript object>"
      ]
     },
     "metadata": {},
     "output_type": "display_data"
    }
   ],
   "source": [
    "output.primary_attributions(attr_method='ig', style=\"detailed\")"
   ]
  },
  {
   "cell_type": "code",
   "execution_count": null,
   "metadata": {},
   "outputs": [],
   "source": []
  },
  {
   "cell_type": "code",
   "execution_count": null,
   "metadata": {},
   "outputs": [],
   "source": []
  },
  {
   "cell_type": "code",
   "execution_count": 33,
   "metadata": {},
   "outputs": [
    {
     "data": {
      "text/html": [
       "<html lang=\"en\">\n",
       "<script src=\"https://requirejs.org/docs/release/2.3.6/minified/require.js\"></script>\n",
       "<script>\n",
       "    var ecco_url = 'https://storage.googleapis.com/ml-intro/ecco/'\n",
       "    //var ecco_url = 'http://localhost:8000/'\n",
       "\n",
       "    if (window.ecco === undefined) window.ecco = {}\n",
       "\n",
       "    // Setup the paths of the script we'll be using\n",
       "    requirejs.config({\n",
       "        urlArgs: \"bust=\" + (new Date()).getTime(),\n",
       "        nodeRequire: require,\n",
       "        paths: {\n",
       "            d3: \"https://d3js.org/d3.v6.min\", // This is only for use in setup.html and basic.html\n",
       "            \"d3-array\": \"https://d3js.org/d3-array.v2.min\",\n",
       "            jquery: \"https://code.jquery.com/jquery-3.5.1.min\",\n",
       "            ecco: ecco_url + 'js/0.0.6/ecco-bundle.min',\n",
       "            xregexp: 'https://cdnjs.cloudflare.com/ajax/libs/xregexp/3.2.0/xregexp-all.min'\n",
       "        }\n",
       "    });\n",
       "\n",
       "    // Add the css file\n",
       "    //requirejs(['d3'],\n",
       "    //    function (d3) {\n",
       "    //        d3.select('#css').attr('href', ecco_url + 'html/styles.css')\n",
       "    //    })\n",
       "\n",
       "    console.log('Ecco initialize!!')\n",
       "\n",
       "    // returns a 'basic' object. basic.init() selects the html div we'll be\n",
       "    // rendering the html into, adds styles.css to the document.\n",
       "    define('basic', ['d3'],\n",
       "        function (d3) {\n",
       "            return {\n",
       "                init: function (viz_id = null) {\n",
       "                    if (viz_id == null) {\n",
       "                        viz_id = \"viz_\" + Math.round(Math.random() * 10000000)\n",
       "                    }\n",
       "                    // Select the div rendered below, change its id\n",
       "                    const div = d3.select('#basic').attr('id', viz_id),\n",
       "                        div_parent = d3.select('#' + viz_id).node().parentNode\n",
       "\n",
       "                    // Link to CSS file\n",
       "                    d3.select(div_parent).insert('link')\n",
       "                        .attr('rel', 'stylesheet')\n",
       "                        .attr('type', 'text/css')\n",
       "                        .attr('href', ecco_url + 'html/0.0.2/styles.css')\n",
       "\n",
       "                    return viz_id\n",
       "                }\n",
       "            }\n",
       "        }, function (err) {\n",
       "            console.log(err);\n",
       "        }\n",
       "    )\n",
       "</script>\n",
       "\n",
       "<head>\n",
       "    <link id='css' rel=\"stylesheet\" type=\"text/css\">\n",
       "</head>\n",
       "<div id=\"basic\"></div>\n"
      ],
      "text/plain": [
       "<IPython.core.display.HTML object>"
      ]
     },
     "metadata": {},
     "output_type": "display_data"
    },
    {
     "data": {
      "application/javascript": "\n             requirejs(['basic', 'ecco'], function(basic, ecco){\n                const viz_id = basic.init()\n                console.log(viz_id)\n                window.ecco[viz_id] = ecco.interactiveTokens({\n                    parentDiv: viz_id,\n                    data: {\"tokens\": [{\"token\": \"S\", \"token_id\": 50, \"is_partial\": true, \"type\": \"input\", \"value\": \"0.026473068048251003\", \"position\": 0}, {\"token\": \"eb\", \"token_id\": 1765, \"is_partial\": true, \"type\": \"input\", \"value\": \"0.026408152120566512\", \"position\": 1}, {\"token\": \"ast\", \"token_id\": 459, \"is_partial\": true, \"type\": \"input\", \"value\": \"0.02279255086057624\", \"position\": 2}, {\"token\": \"ian\", \"token_id\": 666, \"is_partial\": true, \"type\": \"input\", \"value\": \"0.023463733689125958\", \"position\": 3}, {\"token\": \"has\", \"token_id\": 468, \"is_partial\": false, \"type\": \"input\", \"value\": \"0.011520278660758788\", \"position\": 4}, {\"token\": \"a\", \"token_id\": 257, \"is_partial\": false, \"type\": \"input\", \"value\": \"0.010113854036970196\", \"position\": 5}, {\"token\": \"sister\", \"token_id\": 6621, \"is_partial\": false, \"type\": \"input\", \"value\": \"0.03541501887559954\", \"position\": 6}, {\"token\": \",\", \"token_id\": 837, \"is_partial\": false, \"type\": \"input\", \"value\": \"0.018992300296520156\", \"position\": 7}, {\"token\": \"played\", \"token_id\": 2826, \"is_partial\": false, \"type\": \"input\", \"value\": \"0.021061770701775763\", \"position\": 8}, {\"token\": \"basketball\", \"token_id\": 9669, \"is_partial\": false, \"type\": \"input\", \"value\": \"0.04053637154734813\", \"position\": 9}, {\"token\": \"and\", \"token_id\": 290, \"is_partial\": false, \"type\": \"input\", \"value\": \"0.0086465008992491\", \"position\": 10}, {\"token\": \"now\", \"token_id\": 783, \"is_partial\": false, \"type\": \"input\", \"value\": \"0.0173624277016006\", \"position\": 11}, {\"token\": \"lives\", \"token_id\": 3160, \"is_partial\": false, \"type\": \"input\", \"value\": \"0.025161723055295678\", \"position\": 12}, {\"token\": \"in\", \"token_id\": 287, \"is_partial\": false, \"type\": \"input\", \"value\": \"0.016799680571249996\", \"position\": 13}, {\"token\": \"France\", \"token_id\": 4881, \"is_partial\": false, \"type\": \"input\", \"value\": \"0.05005608505167137\", \"position\": 14}, {\"token\": \"and\", \"token_id\": 290, \"is_partial\": false, \"type\": \"input\", \"value\": \"0.006197321992542314\", \"position\": 15}, {\"token\": \"has\", \"token_id\": 468, \"is_partial\": false, \"type\": \"input\", \"value\": \"0.007406818102888891\", \"position\": 16}, {\"token\": \"travelled\", \"token_id\": 21650, \"is_partial\": false, \"type\": \"input\", \"value\": \"0.02710986453058563\", \"position\": 17}, {\"token\": \"to\", \"token_id\": 284, \"is_partial\": false, \"type\": \"input\", \"value\": \"0.00648897024748167\", \"position\": 18}, {\"token\": \"Helsinki\", \"token_id\": 47688, \"is_partial\": false, \"type\": \"input\", \"value\": \"0.10160793864010668\", \"position\": 19}, {\"token\": \",\", \"token_id\": 837, \"is_partial\": false, \"type\": \"input\", \"value\": \"0.016433447464390863\", \"position\": 20}, {\"token\": \"Jakarta\", \"token_id\": 49251, \"is_partial\": false, \"type\": \"input\", \"value\": \"0.05751637595838049\", \"position\": 21}, {\"token\": \"and\", \"token_id\": 290, \"is_partial\": false, \"type\": \"input\", \"value\": \"0.007268832297597325\", \"position\": 22}, {\"token\": \"Warsaw\", \"token_id\": 32955, \"is_partial\": false, \"type\": \"input\", \"value\": \"0.06316981757320482\", \"position\": 23}, {\"token\": \".\", \"token_id\": 764, \"is_partial\": false, \"type\": \"input\", \"value\": \"0.019828355415516915\", \"position\": 24}, {\"token\": \"The\", \"token_id\": 383, \"is_partial\": false, \"type\": \"input\", \"value\": \"0.01281863233547506\", \"position\": 25}, {\"token\": \"capital\", \"token_id\": 3139, \"is_partial\": false, \"type\": \"input\", \"value\": \"0.058575732102720865\", \"position\": 26}, {\"token\": \"of\", \"token_id\": 286, \"is_partial\": false, \"type\": \"input\", \"value\": \"0.0070255210106057574\", \"position\": 27}, {\"token\": \"Sebastian\", \"token_id\": 26190, \"is_partial\": false, \"type\": \"input\", \"value\": \"0.13165406954017295\", \"position\": 28}, {\"token\": \"'s\", \"token_id\": 338, \"is_partial\": true, \"type\": \"input\", \"value\": \"0.007547500503754012\", \"position\": 29}, {\"token\": \"country\", \"token_id\": 1499, \"is_partial\": false, \"type\": \"input\", \"value\": \"0.04665664969187928\", \"position\": 30}, {\"token\": \"of\", \"token_id\": 286, \"is_partial\": false, \"type\": \"input\", \"value\": \"0.0045470743314845715\", \"position\": 31}, {\"token\": \"residence\", \"token_id\": 11566, \"is_partial\": false, \"type\": \"input\", \"value\": \"0.05461990906678097\", \"position\": 32}, {\"token\": \"is\", \"token_id\": 318, \"is_partial\": false, \"type\": \"input\", \"value\": \"0.008723653077871924\", \"position\": 33}, {\"token\": \"Paris\", \"token_id\": 6342, \"is_partial\": false, \"type\": \"output\", \"value\": \"0\", \"position\": 34}, {\"token\": \".\", \"token_id\": 764, \"is_partial\": false, \"type\": \"output\", \"value\": \"0\", \"position\": 35}, {\"token\": \"\\n\", \"token_id\": 198, \"is_partial\": true, \"type\": \"output\", \"value\": \"0\", \"position\": 36}], \"attributions\": [[0.026473068048251003, 0.026408152120566512, 0.02279255086057624, 0.023463733689125958, 0.011520278660758788, 0.010113854036970196, 0.03541501887559954, 0.018992300296520156, 0.021061770701775763, 0.04053637154734813, 0.0086465008992491, 0.0173624277016006, 0.025161723055295678, 0.016799680571249996, 0.05005608505167137, 0.006197321992542314, 0.007406818102888891, 0.02710986453058563, 0.00648897024748167, 0.10160793864010668, 0.016433447464390863, 0.05751637595838049, 0.007268832297597325, 0.06316981757320482, 0.019828355415516915, 0.01281863233547506, 0.058575732102720865, 0.0070255210106057574, 0.13165406954017295, 0.007547500503754012, 0.04665664969187928, 0.0045470743314845715, 0.05461990906678097, 0.008723653077871924], [0.029303829549820453, 0.04890109098442885, 0.03362369693136879, 0.025154095181869233, 0.013095235134166612, 0.009415525087508436, 0.022559459270567787, 0.016542095910572697, 0.017163251851555445, 0.026681504965317904, 0.009767505927184264, 0.04048582510612411, 0.023733977699472195, 0.008529932209688194, 0.026692172954825493, 0.010433827134818137, 0.012145689511887697, 0.028647795846934766, 0.011618459816237088, 0.04257034618731935, 0.02701443977533398, 0.03782867747921104, 0.011318297063344073, 0.032796935606153266, 0.03217626908228294, 0.06349355076078503, 0.04410327447846396, 0.08305048264979417, 0.01410263722343594, 0.0077586427359301385, 0.1425633286386865, 0.0036974251433016087, 0.01438736847872136, 0.01594425661800699, 0.012699097004881563], [0.03753906508215252, 0.06646000755241259, 0.04683778232916186, 0.02731359408365238, 0.01743670456796735, 0.012635402073682227, 0.03126373375183597, 0.02114145353249764, 0.025306213866259083, 0.04140008180741805, 0.016213862946542756, 0.0226732323968626, 0.03393919086605549, 0.016985894508978666, 0.029054879542932475, 0.017828110974006047, 0.02433600608072797, 0.03212130666874362, 0.021512585575378208, 0.029023303029592076, 0.01777138978686864, 0.030795973124530984, 0.009295526606826377, 0.028209151110509905, 0.025183216789822452, 0.035743538079551565, 0.018384852791442866, 0.011279074584680596, 0.028912226806406607, 0.008945140936192692, 0.052978986194747855, 0.03106528473171336, 0.023851642921279476, 0.011706124222524608, 0.013424806261447203, 0.08143065381459513]]},\n                    tokenization_config: {\"token_prefix\": \"\\u0120\", \"partial_token_prefix\": \"\"}\n             })\n\n             }, function (err) {\n                console.log(err);\n            })",
      "text/plain": [
       "<IPython.core.display.Javascript object>"
      ]
     },
     "metadata": {},
     "output_type": "display_data"
    }
   ],
   "source": [
    "output.primary_attributions(attr_method='ig', style=\"detailed\")"
   ]
  },
  {
   "cell_type": "code",
   "execution_count": 35,
   "metadata": {},
   "outputs": [
    {
     "data": {
      "text/html": [
       "<html lang=\"en\">\n",
       "<script src=\"https://requirejs.org/docs/release/2.3.6/minified/require.js\"></script>\n",
       "<script>\n",
       "    var ecco_url = 'https://storage.googleapis.com/ml-intro/ecco/'\n",
       "    //var ecco_url = 'http://localhost:8000/'\n",
       "\n",
       "    if (window.ecco === undefined) window.ecco = {}\n",
       "\n",
       "    // Setup the paths of the script we'll be using\n",
       "    requirejs.config({\n",
       "        urlArgs: \"bust=\" + (new Date()).getTime(),\n",
       "        nodeRequire: require,\n",
       "        paths: {\n",
       "            d3: \"https://d3js.org/d3.v6.min\", // This is only for use in setup.html and basic.html\n",
       "            \"d3-array\": \"https://d3js.org/d3-array.v2.min\",\n",
       "            jquery: \"https://code.jquery.com/jquery-3.5.1.min\",\n",
       "            ecco: ecco_url + 'js/0.0.6/ecco-bundle.min',\n",
       "            xregexp: 'https://cdnjs.cloudflare.com/ajax/libs/xregexp/3.2.0/xregexp-all.min'\n",
       "        }\n",
       "    });\n",
       "\n",
       "    // Add the css file\n",
       "    //requirejs(['d3'],\n",
       "    //    function (d3) {\n",
       "    //        d3.select('#css').attr('href', ecco_url + 'html/styles.css')\n",
       "    //    })\n",
       "\n",
       "    console.log('Ecco initialize!!')\n",
       "\n",
       "    // returns a 'basic' object. basic.init() selects the html div we'll be\n",
       "    // rendering the html into, adds styles.css to the document.\n",
       "    define('basic', ['d3'],\n",
       "        function (d3) {\n",
       "            return {\n",
       "                init: function (viz_id = null) {\n",
       "                    if (viz_id == null) {\n",
       "                        viz_id = \"viz_\" + Math.round(Math.random() * 10000000)\n",
       "                    }\n",
       "                    // Select the div rendered below, change its id\n",
       "                    const div = d3.select('#basic').attr('id', viz_id),\n",
       "                        div_parent = d3.select('#' + viz_id).node().parentNode\n",
       "\n",
       "                    // Link to CSS file\n",
       "                    d3.select(div_parent).insert('link')\n",
       "                        .attr('rel', 'stylesheet')\n",
       "                        .attr('type', 'text/css')\n",
       "                        .attr('href', ecco_url + 'html/0.0.2/styles.css')\n",
       "\n",
       "                    return viz_id\n",
       "                }\n",
       "            }\n",
       "        }, function (err) {\n",
       "            console.log(err);\n",
       "        }\n",
       "    )\n",
       "</script>\n",
       "\n",
       "<head>\n",
       "    <link id='css' rel=\"stylesheet\" type=\"text/css\">\n",
       "</head>\n",
       "<div id=\"basic\"></div>\n"
      ],
      "text/plain": [
       "<IPython.core.display.HTML object>"
      ]
     },
     "metadata": {},
     "output_type": "display_data"
    },
    {
     "data": {
      "application/javascript": "\n             requirejs(['basic', 'ecco'], function(basic, ecco){\n                const viz_id = basic.init()\n                console.log(viz_id)\n                window.ecco[viz_id] = ecco.interactiveTokens({\n                    parentDiv: viz_id,\n                    data: {\"tokens\": [{\"token\": \"S\", \"token_id\": 50, \"is_partial\": true, \"type\": \"input\", \"value\": \"0.025823349967891485\", \"position\": 0}, {\"token\": \"eb\", \"token_id\": 1765, \"is_partial\": true, \"type\": \"input\", \"value\": \"0.029815069653924352\", \"position\": 1}, {\"token\": \"ast\", \"token_id\": 459, \"is_partial\": true, \"type\": \"input\", \"value\": \"0.022825688564565315\", \"position\": 2}, {\"token\": \"ian\", \"token_id\": 666, \"is_partial\": true, \"type\": \"input\", \"value\": \"0.01981858401187984\", \"position\": 3}, {\"token\": \"has\", \"token_id\": 468, \"is_partial\": false, \"type\": \"input\", \"value\": \"0.01286939006699268\", \"position\": 4}, {\"token\": \"a\", \"token_id\": 257, \"is_partial\": false, \"type\": \"input\", \"value\": \"0.009479543132751048\", \"position\": 5}, {\"token\": \"sister\", \"token_id\": 6621, \"is_partial\": false, \"type\": \"input\", \"value\": \"0.031495140282386806\", \"position\": 6}, {\"token\": \",\", \"token_id\": 837, \"is_partial\": false, \"type\": \"input\", \"value\": \"0.016712201191181747\", \"position\": 7}, {\"token\": \"played\", \"token_id\": 2826, \"is_partial\": false, \"type\": \"input\", \"value\": \"0.019909820095793382\", \"position\": 8}, {\"token\": \"basketball\", \"token_id\": 9669, \"is_partial\": false, \"type\": \"input\", \"value\": \"0.03508234324410128\", \"position\": 9}, {\"token\": \"and\", \"token_id\": 290, \"is_partial\": false, \"type\": \"input\", \"value\": \"0.009672282931475434\", \"position\": 10}, {\"token\": \"now\", \"token_id\": 783, \"is_partial\": false, \"type\": \"input\", \"value\": \"0.019616625181578563\", \"position\": 11}, {\"token\": \"lives\", \"token_id\": 3160, \"is_partial\": false, \"type\": \"input\", \"value\": \"0.028662010043387177\", \"position\": 12}, {\"token\": \"in\", \"token_id\": 287, \"is_partial\": false, \"type\": \"input\", \"value\": \"0.014187990456661156\", \"position\": 13}, {\"token\": \"France\", \"token_id\": 4881, \"is_partial\": false, \"type\": \"input\", \"value\": \"0.056024956374636094\", \"position\": 14}, {\"token\": \"and\", \"token_id\": 290, \"is_partial\": false, \"type\": \"input\", \"value\": \"0.00828410318613278\", \"position\": 15}, {\"token\": \"has\", \"token_id\": 468, \"is_partial\": false, \"type\": \"input\", \"value\": \"0.014765675656753905\", \"position\": 16}, {\"token\": \"travelled\", \"token_id\": 21650, \"is_partial\": false, \"type\": \"input\", \"value\": \"0.05033232786720968\", \"position\": 17}, {\"token\": \"to\", \"token_id\": 284, \"is_partial\": false, \"type\": \"input\", \"value\": \"0.011838649410770855\", \"position\": 18}, {\"token\": \"Helsinki\", \"token_id\": 47688, \"is_partial\": false, \"type\": \"input\", \"value\": \"0.2038388580920566\", \"position\": 19}, {\"token\": \",\", \"token_id\": 837, \"is_partial\": false, \"type\": \"input\", \"value\": \"0.010974405639286389\", \"position\": 20}, {\"token\": \"Jakarta\", \"token_id\": 49251, \"is_partial\": false, \"type\": \"input\", \"value\": \"0.05440259283587075\", \"position\": 21}, {\"token\": \"and\", \"token_id\": 290, \"is_partial\": false, \"type\": \"input\", \"value\": \"0.0053045993037501805\", \"position\": 22}, {\"token\": \"Warsaw\", \"token_id\": 32955, \"is_partial\": false, \"type\": \"input\", \"value\": \"0.10251087561531337\", \"position\": 23}, {\"token\": \".\", \"token_id\": 764, \"is_partial\": false, \"type\": \"input\", \"value\": \"0.016100814193861227\", \"position\": 24}, {\"token\": \"The\", \"token_id\": 383, \"is_partial\": false, \"type\": \"input\", \"value\": \"0.01805741913191015\", \"position\": 25}, {\"token\": \"capital\", \"token_id\": 3139, \"is_partial\": false, \"type\": \"input\", \"value\": \"0.031323628738389675\", \"position\": 26}, {\"token\": \"of\", \"token_id\": 286, \"is_partial\": false, \"type\": \"input\", \"value\": \"0.0055434892179434024\", \"position\": 27}, {\"token\": \"Sebastian\", \"token_id\": 26190, \"is_partial\": false, \"type\": \"input\", \"value\": \"0.07332893025024191\", \"position\": 28}, {\"token\": \"'s\", \"token_id\": 338, \"is_partial\": true, \"type\": \"input\", \"value\": \"0.0057764035793419245\", \"position\": 29}, {\"token\": \"country\", \"token_id\": 1499, \"is_partial\": false, \"type\": \"input\", \"value\": \"0.02818970174390569\", \"position\": 30}, {\"token\": \"is\", \"token_id\": 318, \"is_partial\": false, \"type\": \"input\", \"value\": \"0.00743253033805523\", \"position\": 31}, {\"token\": \"Helsinki\", \"token_id\": 47688, \"is_partial\": false, \"type\": \"output\", \"value\": \"0\", \"position\": 32}, {\"token\": \",\", \"token_id\": 837, \"is_partial\": false, \"type\": \"output\", \"value\": \"0\", \"position\": 33}, {\"token\": \"where\", \"token_id\": 810, \"is_partial\": false, \"type\": \"output\", \"value\": \"0\", \"position\": 34}], \"attributions\": [[0.025823349967891485, 0.029815069653924352, 0.022825688564565315, 0.01981858401187984, 0.01286939006699268, 0.009479543132751048, 0.031495140282386806, 0.016712201191181747, 0.019909820095793382, 0.03508234324410128, 0.009672282931475434, 0.019616625181578563, 0.028662010043387177, 0.014187990456661156, 0.056024956374636094, 0.00828410318613278, 0.014765675656753905, 0.05033232786720968, 0.011838649410770855, 0.2038388580920566, 0.010974405639286389, 0.05440259283587075, 0.0053045993037501805, 0.10251087561531337, 0.016100814193861227, 0.01805741913191015, 0.031323628738389675, 0.0055434892179434024, 0.07332893025024191, 0.0057764035793419245, 0.02818970174390569, 0.00743253033805523], [0.028156983502467477, 0.036015062455268025, 0.02612605021181204, 0.021039243559738904, 0.011271445044903966, 0.00899564737570839, 0.020097443749522503, 0.015992548779188553, 0.018473625775428746, 0.024738211318341273, 0.010052585262859166, 0.022896014946041432, 0.021490399524264944, 0.009157378331094751, 0.019379931121282383, 0.010519144208761051, 0.013491749970663502, 0.031270587970295145, 0.013516425164437637, 0.05752891259530047, 0.026013563967925698, 0.044311537429270645, 0.015385244245530548, 0.04326288895857516, 0.03012617889932778, 0.03571550103624626, 0.055842682346151196, 0.09188330518476044, 0.01792730094361003, 0.011526720770708498, 0.1546188413052198, 0.009963312786780459, 0.04321353125851308], [0.03214801006491007, 0.039777288760162566, 0.02929276044254746, 0.021779134299191535, 0.012481082254528044, 0.00891000500855684, 0.02812286649807255, 0.02399602873742905, 0.02175515100344969, 0.04149670549272846, 0.009905622016556797, 0.032002164464799435, 0.02416138972420077, 0.0072851881888482605, 0.02747770903718647, 0.00862376159920814, 0.01016913366784787, 0.02952146190477068, 0.007606817645865364, 0.08843727524308809, 0.02120571370672033, 0.059317806563810714, 0.009187920753405639, 0.052729990684929326, 0.036750655616039934, 0.01278460973042635, 0.046919061433803005, 0.017667924929757488, 0.060225768939111066, 0.008166641218703674, 0.017114253971398263, 0.011714707482682378, 0.08846311022846899, 0.05280227868679465]]},\n                    tokenization_config: {\"token_prefix\": \"\\u0120\", \"partial_token_prefix\": \"\"}\n             })\n\n             }, function (err) {\n                console.log(err);\n            })",
      "text/plain": [
       "<IPython.core.display.Javascript object>"
      ]
     },
     "metadata": {},
     "output_type": "display_data"
    }
   ],
   "source": [
    "output.primary_attributions(attr_method='ig', style=\"detailed\")"
   ]
  },
  {
   "cell_type": "code",
   "execution_count": null,
   "metadata": {},
   "outputs": [],
   "source": []
  },
  {
   "cell_type": "code",
   "execution_count": null,
   "metadata": {},
   "outputs": [],
   "source": []
  },
  {
   "cell_type": "code",
   "execution_count": null,
   "metadata": {},
   "outputs": [],
   "source": []
  },
  {
   "cell_type": "code",
   "execution_count": null,
   "metadata": {},
   "outputs": [],
   "source": []
  },
  {
   "cell_type": "code",
   "execution_count": 20,
   "metadata": {},
   "outputs": [
    {
     "data": {
      "text/html": [
       "<html lang=\"en\">\n",
       "<script src=\"https://requirejs.org/docs/release/2.3.6/minified/require.js\"></script>\n",
       "<script>\n",
       "    var ecco_url = 'https://storage.googleapis.com/ml-intro/ecco/'\n",
       "    //var ecco_url = 'http://localhost:8000/'\n",
       "\n",
       "    if (window.ecco === undefined) window.ecco = {}\n",
       "\n",
       "    // Setup the paths of the script we'll be using\n",
       "    requirejs.config({\n",
       "        urlArgs: \"bust=\" + (new Date()).getTime(),\n",
       "        nodeRequire: require,\n",
       "        paths: {\n",
       "            d3: \"https://d3js.org/d3.v6.min\", // This is only for use in setup.html and basic.html\n",
       "            \"d3-array\": \"https://d3js.org/d3-array.v2.min\",\n",
       "            jquery: \"https://code.jquery.com/jquery-3.5.1.min\",\n",
       "            ecco: ecco_url + 'js/0.0.6/ecco-bundle.min',\n",
       "            xregexp: 'https://cdnjs.cloudflare.com/ajax/libs/xregexp/3.2.0/xregexp-all.min'\n",
       "        }\n",
       "    });\n",
       "\n",
       "    // Add the css file\n",
       "    //requirejs(['d3'],\n",
       "    //    function (d3) {\n",
       "    //        d3.select('#css').attr('href', ecco_url + 'html/styles.css')\n",
       "    //    })\n",
       "\n",
       "    console.log('Ecco initialize!!')\n",
       "\n",
       "    // returns a 'basic' object. basic.init() selects the html div we'll be\n",
       "    // rendering the html into, adds styles.css to the document.\n",
       "    define('basic', ['d3'],\n",
       "        function (d3) {\n",
       "            return {\n",
       "                init: function (viz_id = null) {\n",
       "                    if (viz_id == null) {\n",
       "                        viz_id = \"viz_\" + Math.round(Math.random() * 10000000)\n",
       "                    }\n",
       "                    // Select the div rendered below, change its id\n",
       "                    const div = d3.select('#basic').attr('id', viz_id),\n",
       "                        div_parent = d3.select('#' + viz_id).node().parentNode\n",
       "\n",
       "                    // Link to CSS file\n",
       "                    d3.select(div_parent).insert('link')\n",
       "                        .attr('rel', 'stylesheet')\n",
       "                        .attr('type', 'text/css')\n",
       "                        .attr('href', ecco_url + 'html/0.0.2/styles.css')\n",
       "\n",
       "                    return viz_id\n",
       "                }\n",
       "            }\n",
       "        }, function (err) {\n",
       "            console.log(err);\n",
       "        }\n",
       "    )\n",
       "</script>\n",
       "\n",
       "<head>\n",
       "    <link id='css' rel=\"stylesheet\" type=\"text/css\">\n",
       "</head>\n",
       "<div id=\"basic\"></div>\n"
      ],
      "text/plain": [
       "<IPython.core.display.HTML object>"
      ]
     },
     "metadata": {},
     "output_type": "display_data"
    },
    {
     "data": {
      "application/javascript": "\n             requirejs(['basic', 'ecco'], function(basic, ecco){\n                const viz_id = basic.init()\n                console.log(viz_id)\n                window.ecco[viz_id] = ecco.interactiveTokens({\n                    parentDiv: viz_id,\n                    data: {\"tokens\": [{\"token\": \"Row\", \"token_id\": 25166, \"is_partial\": true, \"type\": \"input\", \"value\": \"0.1149526342634533\", \"position\": 0}, {\"token\": \"an\", \"token_id\": 272, \"is_partial\": true, \"type\": \"input\", \"value\": \"0.04127811024756382\", \"position\": 1}, {\"token\": \"lives\", \"token_id\": 3160, \"is_partial\": false, \"type\": \"input\", \"value\": \"0.07438861872113185\", \"position\": 2}, {\"token\": \"in\", \"token_id\": 287, \"is_partial\": false, \"type\": \"input\", \"value\": \"0.020250475697569\", \"position\": 3}, {\"token\": \"France\", \"token_id\": 4881, \"is_partial\": false, \"type\": \"input\", \"value\": \"0.06502607673168141\", \"position\": 4}, {\"token\": \"and\", \"token_id\": 290, \"is_partial\": false, \"type\": \"input\", \"value\": \"0.012280534718213094\", \"position\": 5}, {\"token\": \"has\", \"token_id\": 468, \"is_partial\": false, \"type\": \"input\", \"value\": \"0.015376116378494247\", \"position\": 6}, {\"token\": \"travelled\", \"token_id\": 21650, \"is_partial\": false, \"type\": \"input\", \"value\": \"0.042802890799633446\", \"position\": 7}, {\"token\": \"to\", \"token_id\": 284, \"is_partial\": false, \"type\": \"input\", \"value\": \"0.00890368922178476\", \"position\": 8}, {\"token\": \"Jakarta\", \"token_id\": 49251, \"is_partial\": false, \"type\": \"input\", \"value\": \"0.10551336046525144\", \"position\": 9}, {\"token\": \",\", \"token_id\": 11, \"is_partial\": true, \"type\": \"input\", \"value\": \"0.009327692994949274\", \"position\": 10}, {\"token\": \"Beijing\", \"token_id\": 11618, \"is_partial\": false, \"type\": \"input\", \"value\": \"0.0326736834242786\", \"position\": 11}, {\"token\": \"and\", \"token_id\": 290, \"is_partial\": false, \"type\": \"input\", \"value\": \"0.009634241885830024\", \"position\": 12}, {\"token\": \"Santiago\", \"token_id\": 34802, \"is_partial\": false, \"type\": \"input\", \"value\": \"0.0715579736746656\", \"position\": 13}, {\"token\": \".\", \"token_id\": 13, \"is_partial\": true, \"type\": \"input\", \"value\": \"0.01345091592636014\", \"position\": 14}, {\"token\": \"The\", \"token_id\": 383, \"is_partial\": false, \"type\": \"input\", \"value\": \"0.013238314875505522\", \"position\": 15}, {\"token\": \"capital\", \"token_id\": 3139, \"is_partial\": false, \"type\": \"input\", \"value\": \"0.11953502195033922\", \"position\": 16}, {\"token\": \"of\", \"token_id\": 286, \"is_partial\": false, \"type\": \"input\", \"value\": \"0.007682392578615639\", \"position\": 17}, {\"token\": \"Row\", \"token_id\": 11314, \"is_partial\": false, \"type\": \"input\", \"value\": \"0.0426373567644701\", \"position\": 18}, {\"token\": \"an\", \"token_id\": 272, \"is_partial\": true, \"type\": \"input\", \"value\": \"0.013468250943872119\", \"position\": 19}, {\"token\": \"'s\", \"token_id\": 338, \"is_partial\": true, \"type\": \"input\", \"value\": \"0.00887689731830696\", \"position\": 20}, {\"token\": \"country\", \"token_id\": 1499, \"is_partial\": false, \"type\": \"input\", \"value\": \"0.06401050358159097\", \"position\": 21}, {\"token\": \"of\", \"token_id\": 286, \"is_partial\": false, \"type\": \"input\", \"value\": \"0.006612166301722365\", \"position\": 22}, {\"token\": \"residence\", \"token_id\": 11566, \"is_partial\": false, \"type\": \"input\", \"value\": \"0.07787879695735071\", \"position\": 23}, {\"token\": \"is\", \"token_id\": 318, \"is_partial\": false, \"type\": \"input\", \"value\": \"0.008643283577366356\", \"position\": 24}, {\"token\": \"Paris\", \"token_id\": 6342, \"is_partial\": false, \"type\": \"output\", \"value\": \"0\", \"position\": 25}, {\"token\": \".\", \"token_id\": 13, \"is_partial\": true, \"type\": \"output\", \"value\": \"0\", \"position\": 26}, {\"token\": \"\\n\", \"token_id\": 198, \"is_partial\": true, \"type\": \"output\", \"value\": \"0\", \"position\": 27}], \"attributions\": [[0.1149526342634533, 0.04127811024756382, 0.07438861872113185, 0.020250475697569, 0.06502607673168141, 0.012280534718213094, 0.015376116378494247, 0.042802890799633446, 0.00890368922178476, 0.10551336046525144, 0.009327692994949274, 0.0326736834242786, 0.009634241885830024, 0.0715579736746656, 0.01345091592636014, 0.013238314875505522, 0.11953502195033922, 0.007682392578615639, 0.0426373567644701, 0.013468250943872119, 0.00887689731830696, 0.06401050358159097, 0.006612166301722365, 0.07787879695735071, 0.008643283577366356], [0.08597986320503406, 0.06726005637151972, 0.0413536851025097, 0.01581903897612863, 0.034136976427117716, 0.013237853391206165, 0.016604708749767102, 0.04384199257148249, 0.01268205698652257, 0.049211519698835485, 0.015571184930972936, 0.03471195358230582, 0.014038244721455484, 0.06316881986613715, 0.01763123850244218, 0.019854547548780632, 0.0931675905008041, 0.014263297520191271, 0.04067685000089477, 0.01622362055959378, 0.022473717877460095, 0.07577842669823298, 0.02571573818565485, 0.08479816450542224, 0.03931309627441987, 0.042485757245108134], [0.10979033068227, 0.05764526074559972, 0.0692462506007404, 0.014512251492313246, 0.03900978018149772, 0.013830690861774249, 0.015034910772099187, 0.04370143253841417, 0.01172686056914422, 0.04272890330655197, 0.011771186725383097, 0.029462388729886702, 0.013099820747240034, 0.1589541212832918, 0.013213587915673865, 0.021465018244849133, 0.057446843881686145, 0.013577679019147885, 0.04371428567372806, 0.014447354968782451, 0.012859927849708963, 0.02490934415321041, 0.017607435531445, 0.03481006790711873, 0.018169896305150247, 0.045332454620280654, 0.051931914693012]]},\n                    tokenization_config: {\"token_prefix\": \"\\u0120\", \"partial_token_prefix\": \"\"}\n             })\n\n             }, function (err) {\n                console.log(err);\n            })",
      "text/plain": [
       "<IPython.core.display.Javascript object>"
      ]
     },
     "metadata": {},
     "output_type": "display_data"
    }
   ],
   "source": [
    "output.primary_attributions(attr_method='ig', style=\"detailed\")"
   ]
  },
  {
   "cell_type": "code",
   "execution_count": 22,
   "metadata": {},
   "outputs": [
    {
     "data": {
      "text/html": [
       "<html lang=\"en\">\n",
       "<script src=\"https://requirejs.org/docs/release/2.3.6/minified/require.js\"></script>\n",
       "<script>\n",
       "    var ecco_url = 'https://storage.googleapis.com/ml-intro/ecco/'\n",
       "    //var ecco_url = 'http://localhost:8000/'\n",
       "\n",
       "    if (window.ecco === undefined) window.ecco = {}\n",
       "\n",
       "    // Setup the paths of the script we'll be using\n",
       "    requirejs.config({\n",
       "        urlArgs: \"bust=\" + (new Date()).getTime(),\n",
       "        nodeRequire: require,\n",
       "        paths: {\n",
       "            d3: \"https://d3js.org/d3.v6.min\", // This is only for use in setup.html and basic.html\n",
       "            \"d3-array\": \"https://d3js.org/d3-array.v2.min\",\n",
       "            jquery: \"https://code.jquery.com/jquery-3.5.1.min\",\n",
       "            ecco: ecco_url + 'js/0.0.6/ecco-bundle.min',\n",
       "            xregexp: 'https://cdnjs.cloudflare.com/ajax/libs/xregexp/3.2.0/xregexp-all.min'\n",
       "        }\n",
       "    });\n",
       "\n",
       "    // Add the css file\n",
       "    //requirejs(['d3'],\n",
       "    //    function (d3) {\n",
       "    //        d3.select('#css').attr('href', ecco_url + 'html/styles.css')\n",
       "    //    })\n",
       "\n",
       "    console.log('Ecco initialize!!')\n",
       "\n",
       "    // returns a 'basic' object. basic.init() selects the html div we'll be\n",
       "    // rendering the html into, adds styles.css to the document.\n",
       "    define('basic', ['d3'],\n",
       "        function (d3) {\n",
       "            return {\n",
       "                init: function (viz_id = null) {\n",
       "                    if (viz_id == null) {\n",
       "                        viz_id = \"viz_\" + Math.round(Math.random() * 10000000)\n",
       "                    }\n",
       "                    // Select the div rendered below, change its id\n",
       "                    const div = d3.select('#basic').attr('id', viz_id),\n",
       "                        div_parent = d3.select('#' + viz_id).node().parentNode\n",
       "\n",
       "                    // Link to CSS file\n",
       "                    d3.select(div_parent).insert('link')\n",
       "                        .attr('rel', 'stylesheet')\n",
       "                        .attr('type', 'text/css')\n",
       "                        .attr('href', ecco_url + 'html/0.0.2/styles.css')\n",
       "\n",
       "                    return viz_id\n",
       "                }\n",
       "            }\n",
       "        }, function (err) {\n",
       "            console.log(err);\n",
       "        }\n",
       "    )\n",
       "</script>\n",
       "\n",
       "<head>\n",
       "    <link id='css' rel=\"stylesheet\" type=\"text/css\">\n",
       "</head>\n",
       "<div id=\"basic\"></div>\n"
      ],
      "text/plain": [
       "<IPython.core.display.HTML object>"
      ]
     },
     "metadata": {},
     "output_type": "display_data"
    },
    {
     "data": {
      "application/javascript": "\n             requirejs(['basic', 'ecco'], function(basic, ecco){\n                const viz_id = basic.init()\n                console.log(viz_id)\n                window.ecco[viz_id] = ecco.interactiveTokens({\n                    parentDiv: viz_id,\n                    data: {\"tokens\": [{\"token\": \"Row\", \"token_id\": 25166, \"is_partial\": true, \"type\": \"input\", \"value\": \"0.09521508778878325\", \"position\": 0}, {\"token\": \"an\", \"token_id\": 272, \"is_partial\": true, \"type\": \"input\", \"value\": \"0.03174667530736627\", \"position\": 1}, {\"token\": \"lives\", \"token_id\": 3160, \"is_partial\": false, \"type\": \"input\", \"value\": \"0.04656930118461093\", \"position\": 2}, {\"token\": \"in\", \"token_id\": 287, \"is_partial\": false, \"type\": \"input\", \"value\": \"0.017902543034828397\", \"position\": 3}, {\"token\": \"France\", \"token_id\": 4881, \"is_partial\": false, \"type\": \"input\", \"value\": \"0.050919619421566684\", \"position\": 4}, {\"token\": \"and\", \"token_id\": 290, \"is_partial\": false, \"type\": \"input\", \"value\": \"0.012199588196936046\", \"position\": 5}, {\"token\": \"has\", \"token_id\": 468, \"is_partial\": false, \"type\": \"input\", \"value\": \"0.013401471531967565\", \"position\": 6}, {\"token\": \"travelled\", \"token_id\": 21650, \"is_partial\": false, \"type\": \"input\", \"value\": \"0.03792662570857565\", \"position\": 7}, {\"token\": \"to\", \"token_id\": 284, \"is_partial\": false, \"type\": \"input\", \"value\": \"0.010631530938208709\", \"position\": 8}, {\"token\": \"Jakarta\", \"token_id\": 49251, \"is_partial\": false, \"type\": \"input\", \"value\": \"0.22174994685467683\", \"position\": 9}, {\"token\": \",\", \"token_id\": 837, \"is_partial\": false, \"type\": \"input\", \"value\": \"0.018526500075705495\", \"position\": 10}, {\"token\": \"Beijing\", \"token_id\": 11618, \"is_partial\": false, \"type\": \"input\", \"value\": \"0.035025248267619456\", \"position\": 11}, {\"token\": \"and\", \"token_id\": 290, \"is_partial\": false, \"type\": \"input\", \"value\": \"0.008589328587500085\", \"position\": 12}, {\"token\": \"Santiago\", \"token_id\": 34802, \"is_partial\": false, \"type\": \"input\", \"value\": \"0.07105423400277504\", \"position\": 13}, {\"token\": \".\", \"token_id\": 764, \"is_partial\": false, \"type\": \"input\", \"value\": \"0.023288271947599398\", \"position\": 14}, {\"token\": \"The\", \"token_id\": 383, \"is_partial\": false, \"type\": \"input\", \"value\": \"0.012986480430288787\", \"position\": 15}, {\"token\": \"capital\", \"token_id\": 3139, \"is_partial\": false, \"type\": \"input\", \"value\": \"0.16449155831693865\", \"position\": 16}, {\"token\": \"of\", \"token_id\": 286, \"is_partial\": false, \"type\": \"input\", \"value\": \"0.0054606819620417225\", \"position\": 17}, {\"token\": \"Row\", \"token_id\": 11314, \"is_partial\": false, \"type\": \"input\", \"value\": \"0.043517653784481296\", \"position\": 18}, {\"token\": \"an\", \"token_id\": 272, \"is_partial\": true, \"type\": \"input\", \"value\": \"0.011386055673041746\", \"position\": 19}, {\"token\": \"'s\", \"token_id\": 338, \"is_partial\": true, \"type\": \"input\", \"value\": \"0.006688181324292101\", \"position\": 20}, {\"token\": \"country\", \"token_id\": 1499, \"is_partial\": false, \"type\": \"input\", \"value\": \"0.051855012328934885\", \"position\": 21}, {\"token\": \"is\", \"token_id\": 318, \"is_partial\": false, \"type\": \"input\", \"value\": \"0.008868403331261057\", \"position\": 22}, {\"token\": \"Jakarta\", \"token_id\": 49251, \"is_partial\": false, \"type\": \"output\", \"value\": \"0\", \"position\": 23}, {\"token\": \",\", \"token_id\": 11, \"is_partial\": true, \"type\": \"output\", \"value\": \"0\", \"position\": 24}, {\"token\": \"where\", \"token_id\": 810, \"is_partial\": false, \"type\": \"output\", \"value\": \"0\", \"position\": 25}], \"attributions\": [[0.09521508778878325, 0.03174667530736627, 0.04656930118461093, 0.017902543034828397, 0.050919619421566684, 0.012199588196936046, 0.013401471531967565, 0.03792662570857565, 0.010631530938208709, 0.22174994685467683, 0.018526500075705495, 0.035025248267619456, 0.008589328587500085, 0.07105423400277504, 0.023288271947599398, 0.012986480430288787, 0.16449155831693865, 0.0054606819620417225, 0.043517653784481296, 0.011386055673041746, 0.006688181324292101, 0.051855012328934885, 0.008868403331261057], [0.060288327027379504, 0.04531852543977958, 0.035570309643471354, 0.01501744745326377, 0.02966495882081327, 0.012275940346905522, 0.016018529274040783, 0.03529077894584456, 0.011711733207866696, 0.04085288196285593, 0.023840757225382515, 0.030098662593303963, 0.02569143265425677, 0.043369331797026116, 0.027541648294945816, 0.027664115213046875, 0.0780213388992005, 0.014639560906857746, 0.043426599266475865, 0.02192414812743422, 0.05328303372987036, 0.14997702702724042, 0.12836875144676835, 0.030144160695969556], [0.09278985283402057, 0.04809650176745081, 0.053163760743055954, 0.017625279237792002, 0.038643452622144296, 0.016055608680857467, 0.01896014661413864, 0.06332961525451639, 0.011998087555702888, 0.08121860412278781, 0.03350203920100208, 0.03981874479490084, 0.01466868019874468, 0.05313271697630615, 0.03387048694291849, 0.016682152140009197, 0.08546469489954268, 0.00957159484165538, 0.041466334019578735, 0.013258372169479391, 0.01150764681881148, 0.058044892172224714, 0.023892482050487746, 0.08954030238541252, 0.03369795095645912]]},\n                    tokenization_config: {\"token_prefix\": \"\\u0120\", \"partial_token_prefix\": \"\"}\n             })\n\n             }, function (err) {\n                console.log(err);\n            })",
      "text/plain": [
       "<IPython.core.display.Javascript object>"
      ]
     },
     "metadata": {},
     "output_type": "display_data"
    }
   ],
   "source": [
    "output.primary_attributions(attr_method='ig', style=\"detailed\")"
   ]
  },
  {
   "cell_type": "code",
   "execution_count": null,
   "metadata": {},
   "outputs": [],
   "source": []
  },
  {
   "cell_type": "code",
   "execution_count": null,
   "metadata": {},
   "outputs": [],
   "source": []
  },
  {
   "cell_type": "code",
   "execution_count": 26,
   "metadata": {},
   "outputs": [
    {
     "data": {
      "text/html": [
       "<html lang=\"en\">\n",
       "<script src=\"https://requirejs.org/docs/release/2.3.6/minified/require.js\"></script>\n",
       "<script>\n",
       "    var ecco_url = 'https://storage.googleapis.com/ml-intro/ecco/'\n",
       "    //var ecco_url = 'http://localhost:8000/'\n",
       "\n",
       "    if (window.ecco === undefined) window.ecco = {}\n",
       "\n",
       "    // Setup the paths of the script we'll be using\n",
       "    requirejs.config({\n",
       "        urlArgs: \"bust=\" + (new Date()).getTime(),\n",
       "        nodeRequire: require,\n",
       "        paths: {\n",
       "            d3: \"https://d3js.org/d3.v6.min\", // This is only for use in setup.html and basic.html\n",
       "            \"d3-array\": \"https://d3js.org/d3-array.v2.min\",\n",
       "            jquery: \"https://code.jquery.com/jquery-3.5.1.min\",\n",
       "            ecco: ecco_url + 'js/0.0.6/ecco-bundle.min',\n",
       "            xregexp: 'https://cdnjs.cloudflare.com/ajax/libs/xregexp/3.2.0/xregexp-all.min'\n",
       "        }\n",
       "    });\n",
       "\n",
       "    // Add the css file\n",
       "    //requirejs(['d3'],\n",
       "    //    function (d3) {\n",
       "    //        d3.select('#css').attr('href', ecco_url + 'html/styles.css')\n",
       "    //    })\n",
       "\n",
       "    console.log('Ecco initialize!!')\n",
       "\n",
       "    // returns a 'basic' object. basic.init() selects the html div we'll be\n",
       "    // rendering the html into, adds styles.css to the document.\n",
       "    define('basic', ['d3'],\n",
       "        function (d3) {\n",
       "            return {\n",
       "                init: function (viz_id = null) {\n",
       "                    if (viz_id == null) {\n",
       "                        viz_id = \"viz_\" + Math.round(Math.random() * 10000000)\n",
       "                    }\n",
       "                    // Select the div rendered below, change its id\n",
       "                    const div = d3.select('#basic').attr('id', viz_id),\n",
       "                        div_parent = d3.select('#' + viz_id).node().parentNode\n",
       "\n",
       "                    // Link to CSS file\n",
       "                    d3.select(div_parent).insert('link')\n",
       "                        .attr('rel', 'stylesheet')\n",
       "                        .attr('type', 'text/css')\n",
       "                        .attr('href', ecco_url + 'html/0.0.2/styles.css')\n",
       "\n",
       "                    return viz_id\n",
       "                }\n",
       "            }\n",
       "        }, function (err) {\n",
       "            console.log(err);\n",
       "        }\n",
       "    )\n",
       "</script>\n",
       "\n",
       "<head>\n",
       "    <link id='css' rel=\"stylesheet\" type=\"text/css\">\n",
       "</head>\n",
       "<div id=\"basic\"></div>\n"
      ],
      "text/plain": [
       "<IPython.core.display.HTML object>"
      ]
     },
     "metadata": {},
     "output_type": "display_data"
    },
    {
     "data": {
      "application/javascript": "\n             requirejs(['basic', 'ecco'], function(basic, ecco){\n                const viz_id = basic.init()\n                console.log(viz_id)\n                window.ecco[viz_id] = ecco.interactiveTokens({\n                    parentDiv: viz_id,\n                    data: {\"tokens\": [{\"token\": \"Joe\", \"token_id\": 19585, \"is_partial\": true, \"type\": \"input\", \"value\": \"0.0588648381484495\", \"position\": 0}, {\"token\": \"has\", \"token_id\": 468, \"is_partial\": false, \"type\": \"input\", \"value\": \"0.019378622094773066\", \"position\": 1}, {\"token\": \"a\", \"token_id\": 257, \"is_partial\": false, \"type\": \"input\", \"value\": \"0.014175077563605237\", \"position\": 2}, {\"token\": \"sister\", \"token_id\": 6621, \"is_partial\": false, \"type\": \"input\", \"value\": \"0.037971308287337996\", \"position\": 3}, {\"token\": \",\", \"token_id\": 11, \"is_partial\": true, \"type\": \"input\", \"value\": \"0.013084992171387099\", \"position\": 4}, {\"token\": \"played\", \"token_id\": 2826, \"is_partial\": false, \"type\": \"input\", \"value\": \"0.029527218395503006\", \"position\": 5}, {\"token\": \"basketball\", \"token_id\": 9669, \"is_partial\": false, \"type\": \"input\", \"value\": \"0.05723376083228425\", \"position\": 6}, {\"token\": \"and\", \"token_id\": 290, \"is_partial\": false, \"type\": \"input\", \"value\": \"0.011182841591834811\", \"position\": 7}, {\"token\": \"now\", \"token_id\": 783, \"is_partial\": false, \"type\": \"input\", \"value\": \"0.023068956997978517\", \"position\": 8}, {\"token\": \"lives\", \"token_id\": 3160, \"is_partial\": false, \"type\": \"input\", \"value\": \"0.045524406860575316\", \"position\": 9}, {\"token\": \"in\", \"token_id\": 287, \"is_partial\": false, \"type\": \"input\", \"value\": \"0.01160537708461192\", \"position\": 10}, {\"token\": \"China\", \"token_id\": 2807, \"is_partial\": false, \"type\": \"input\", \"value\": \"0.06351034666715895\", \"position\": 11}, {\"token\": \"and\", \"token_id\": 290, \"is_partial\": false, \"type\": \"input\", \"value\": \"0.011529233369890623\", \"position\": 12}, {\"token\": \"Jack\", \"token_id\": 3619, \"is_partial\": false, \"type\": \"input\", \"value\": \"0.028709184174836817\", \"position\": 13}, {\"token\": \"lives\", \"token_id\": 3160, \"is_partial\": false, \"type\": \"input\", \"value\": \"0.027801985404658724\", \"position\": 14}, {\"token\": \"in\", \"token_id\": 287, \"is_partial\": false, \"type\": \"input\", \"value\": \"0.01222168163691014\", \"position\": 15}, {\"token\": \"Santiago\", \"token_id\": 34802, \"is_partial\": false, \"type\": \"input\", \"value\": \"0.15047422770708957\", \"position\": 16}, {\"token\": \".\", \"token_id\": 13, \"is_partial\": true, \"type\": \"input\", \"value\": \"0.021058069825194103\", \"position\": 17}, {\"token\": \"The\", \"token_id\": 383, \"is_partial\": false, \"type\": \"input\", \"value\": \"0.017430698869129926\", \"position\": 18}, {\"token\": \"capital\", \"token_id\": 3139, \"is_partial\": false, \"type\": \"input\", \"value\": \"0.09407624116240676\", \"position\": 19}, {\"token\": \"of\", \"token_id\": 286, \"is_partial\": false, \"type\": \"input\", \"value\": \"0.008205047162965735\", \"position\": 20}, {\"token\": \"Joe\", \"token_id\": 5689, \"is_partial\": false, \"type\": \"input\", \"value\": \"0.04525459576096228\", \"position\": 21}, {\"token\": \"'s\", \"token_id\": 338, \"is_partial\": true, \"type\": \"input\", \"value\": \"0.01095761160953102\", \"position\": 22}, {\"token\": \"country\", \"token_id\": 1499, \"is_partial\": false, \"type\": \"input\", \"value\": \"0.13261931233248644\", \"position\": 23}, {\"token\": \"of\", \"token_id\": 286, \"is_partial\": false, \"type\": \"input\", \"value\": \"0.003977235272096866\", \"position\": 24}, {\"token\": \"residence\", \"token_id\": 11566, \"is_partial\": false, \"type\": \"input\", \"value\": \"0.04160566416601552\", \"position\": 25}, {\"token\": \"is\", \"token_id\": 318, \"is_partial\": false, \"type\": \"input\", \"value\": \"0.008951464850325842\", \"position\": 26}, {\"token\": \"Beijing\", \"token_id\": 11618, \"is_partial\": false, \"type\": \"output\", \"value\": \"0\", \"position\": 27}, {\"token\": \".\", \"token_id\": 13, \"is_partial\": true, \"type\": \"output\", \"value\": \"0\", \"position\": 28}, {\"token\": \"\\n\", \"token_id\": 198, \"is_partial\": true, \"type\": \"output\", \"value\": \"0\", \"position\": 29}], \"attributions\": [[0.0588648381484495, 0.019378622094773066, 0.014175077563605237, 0.037971308287337996, 0.013084992171387099, 0.029527218395503006, 0.05723376083228425, 0.011182841591834811, 0.023068956997978517, 0.045524406860575316, 0.01160537708461192, 0.06351034666715895, 0.011529233369890623, 0.028709184174836817, 0.027801985404658724, 0.01222168163691014, 0.15047422770708957, 0.021058069825194103, 0.017430698869129926, 0.09407624116240676, 0.008205047162965735, 0.04525459576096228, 0.01095761160953102, 0.13261931233248644, 0.003977235272096866, 0.04160566416601552, 0.008951464850325842], [0.08041813478383349, 0.06982105400398783, 0.03409174238188749, 0.05565967632044338, 0.023628010684930086, 0.04332561281604355, 0.08031474393990133, 0.023099726785983658, 0.034155241947598176, 0.0548438570685472, 0.01921098764847993, 0.059430400500083046, 0.021279241110341955, 0.13150791422417477, 0.035077367524486223, 0.0231705822171859, 0.03796202048954737, 0.03616619284671182, 0.008187664680007799, 0.024130169628752883, 0.004011229592170608, 0.01556463554934088, 0.008283596626680259, 0.018359229979765693, 0.015758343771884793, 0.01729535415948974, 0.013397264076801434, 0.01185000464093881], [0.08386835711928685, 0.05774090935311787, 0.025432547498893208, 0.04832698023346495, 0.016094719572449016, 0.025929250374693336, 0.04121142291014635, 0.018768704018283854, 0.023784514767413723, 0.03792122229301555, 0.01796887907368483, 0.04313003250621895, 0.02287241391012143, 0.04766934234806296, 0.02774536831299775, 0.01324728444896508, 0.06327060640895382, 0.029077289276181566, 0.020479864928519134, 0.03985557987355685, 0.014315150661672613, 0.03487403617128639, 0.01724163659919551, 0.029012869837103206, 0.014482362766990529, 0.04202280738671915, 0.029701093149256827, 0.052892127579012696, 0.061062626620735944]]},\n                    tokenization_config: {\"token_prefix\": \"\\u0120\", \"partial_token_prefix\": \"\"}\n             })\n\n             }, function (err) {\n                console.log(err);\n            })",
      "text/plain": [
       "<IPython.core.display.Javascript object>"
      ]
     },
     "metadata": {},
     "output_type": "display_data"
    }
   ],
   "source": [
    "output.primary_attributions(attr_method='ig', style=\"detailed\")"
   ]
  },
  {
   "cell_type": "code",
   "execution_count": 28,
   "metadata": {},
   "outputs": [
    {
     "data": {
      "text/html": [
       "<html lang=\"en\">\n",
       "<script src=\"https://requirejs.org/docs/release/2.3.6/minified/require.js\"></script>\n",
       "<script>\n",
       "    var ecco_url = 'https://storage.googleapis.com/ml-intro/ecco/'\n",
       "    //var ecco_url = 'http://localhost:8000/'\n",
       "\n",
       "    if (window.ecco === undefined) window.ecco = {}\n",
       "\n",
       "    // Setup the paths of the script we'll be using\n",
       "    requirejs.config({\n",
       "        urlArgs: \"bust=\" + (new Date()).getTime(),\n",
       "        nodeRequire: require,\n",
       "        paths: {\n",
       "            d3: \"https://d3js.org/d3.v6.min\", // This is only for use in setup.html and basic.html\n",
       "            \"d3-array\": \"https://d3js.org/d3-array.v2.min\",\n",
       "            jquery: \"https://code.jquery.com/jquery-3.5.1.min\",\n",
       "            ecco: ecco_url + 'js/0.0.6/ecco-bundle.min',\n",
       "            xregexp: 'https://cdnjs.cloudflare.com/ajax/libs/xregexp/3.2.0/xregexp-all.min'\n",
       "        }\n",
       "    });\n",
       "\n",
       "    // Add the css file\n",
       "    //requirejs(['d3'],\n",
       "    //    function (d3) {\n",
       "    //        d3.select('#css').attr('href', ecco_url + 'html/styles.css')\n",
       "    //    })\n",
       "\n",
       "    console.log('Ecco initialize!!')\n",
       "\n",
       "    // returns a 'basic' object. basic.init() selects the html div we'll be\n",
       "    // rendering the html into, adds styles.css to the document.\n",
       "    define('basic', ['d3'],\n",
       "        function (d3) {\n",
       "            return {\n",
       "                init: function (viz_id = null) {\n",
       "                    if (viz_id == null) {\n",
       "                        viz_id = \"viz_\" + Math.round(Math.random() * 10000000)\n",
       "                    }\n",
       "                    // Select the div rendered below, change its id\n",
       "                    const div = d3.select('#basic').attr('id', viz_id),\n",
       "                        div_parent = d3.select('#' + viz_id).node().parentNode\n",
       "\n",
       "                    // Link to CSS file\n",
       "                    d3.select(div_parent).insert('link')\n",
       "                        .attr('rel', 'stylesheet')\n",
       "                        .attr('type', 'text/css')\n",
       "                        .attr('href', ecco_url + 'html/0.0.2/styles.css')\n",
       "\n",
       "                    return viz_id\n",
       "                }\n",
       "            }\n",
       "        }, function (err) {\n",
       "            console.log(err);\n",
       "        }\n",
       "    )\n",
       "</script>\n",
       "\n",
       "<head>\n",
       "    <link id='css' rel=\"stylesheet\" type=\"text/css\">\n",
       "</head>\n",
       "<div id=\"basic\"></div>\n"
      ],
      "text/plain": [
       "<IPython.core.display.HTML object>"
      ]
     },
     "metadata": {},
     "output_type": "display_data"
    },
    {
     "data": {
      "application/javascript": "\n             requirejs(['basic', 'ecco'], function(basic, ecco){\n                const viz_id = basic.init()\n                console.log(viz_id)\n                window.ecco[viz_id] = ecco.interactiveTokens({\n                    parentDiv: viz_id,\n                    data: {\"tokens\": [{\"token\": \"Joe\", \"token_id\": 19585, \"is_partial\": true, \"type\": \"input\", \"value\": \"0.044056574777262436\", \"position\": 0}, {\"token\": \"has\", \"token_id\": 468, \"is_partial\": false, \"type\": \"input\", \"value\": \"0.022007895412759455\", \"position\": 1}, {\"token\": \"a\", \"token_id\": 257, \"is_partial\": false, \"type\": \"input\", \"value\": \"0.012457795901137467\", \"position\": 2}, {\"token\": \"sister\", \"token_id\": 6621, \"is_partial\": false, \"type\": \"input\", \"value\": \"0.02617793943687536\", \"position\": 3}, {\"token\": \",\", \"token_id\": 11, \"is_partial\": true, \"type\": \"input\", \"value\": \"0.009554968003122595\", \"position\": 4}, {\"token\": \"played\", \"token_id\": 2826, \"is_partial\": false, \"type\": \"input\", \"value\": \"0.019475896314207524\", \"position\": 5}, {\"token\": \"basketball\", \"token_id\": 9669, \"is_partial\": false, \"type\": \"input\", \"value\": \"0.04379824363694081\", \"position\": 6}, {\"token\": \"and\", \"token_id\": 290, \"is_partial\": false, \"type\": \"input\", \"value\": \"0.009444053133159375\", \"position\": 7}, {\"token\": \"now\", \"token_id\": 783, \"is_partial\": false, \"type\": \"input\", \"value\": \"0.01456798419272669\", \"position\": 8}, {\"token\": \"lives\", \"token_id\": 3160, \"is_partial\": false, \"type\": \"input\", \"value\": \"0.03313282065508278\", \"position\": 9}, {\"token\": \"in\", \"token_id\": 287, \"is_partial\": false, \"type\": \"input\", \"value\": \"0.009430055693146951\", \"position\": 10}, {\"token\": \"China\", \"token_id\": 2807, \"is_partial\": false, \"type\": \"input\", \"value\": \"0.04336272026360816\", \"position\": 11}, {\"token\": \"and\", \"token_id\": 290, \"is_partial\": false, \"type\": \"input\", \"value\": \"0.009494311407942635\", \"position\": 12}, {\"token\": \"Jack\", \"token_id\": 3619, \"is_partial\": false, \"type\": \"input\", \"value\": \"0.022217520695199923\", \"position\": 13}, {\"token\": \"lives\", \"token_id\": 3160, \"is_partial\": false, \"type\": \"input\", \"value\": \"0.021372363786348422\", \"position\": 14}, {\"token\": \"in\", \"token_id\": 287, \"is_partial\": false, \"type\": \"input\", \"value\": \"0.008858602532116436\", \"position\": 15}, {\"token\": \"Santiago\", \"token_id\": 34802, \"is_partial\": false, \"type\": \"input\", \"value\": \"0.16433840803820898\", \"position\": 16}, {\"token\": \".\", \"token_id\": 764, \"is_partial\": false, \"type\": \"input\", \"value\": \"0.04122736813584464\", \"position\": 17}, {\"token\": \"The\", \"token_id\": 383, \"is_partial\": false, \"type\": \"input\", \"value\": \"0.0172535430687238\", \"position\": 18}, {\"token\": \"capital\", \"token_id\": 3139, \"is_partial\": false, \"type\": \"input\", \"value\": \"0.24182437255351882\", \"position\": 19}, {\"token\": \"of\", \"token_id\": 286, \"is_partial\": false, \"type\": \"input\", \"value\": \"0.01188668520326114\", \"position\": 20}, {\"token\": \"Joe\", \"token_id\": 5689, \"is_partial\": false, \"type\": \"input\", \"value\": \"0.022865205850410956\", \"position\": 21}, {\"token\": \"'s\", \"token_id\": 338, \"is_partial\": true, \"type\": \"input\", \"value\": \"0.014050233182344087\", \"position\": 22}, {\"token\": \"country\", \"token_id\": 1499, \"is_partial\": false, \"type\": \"input\", \"value\": \"0.03951980061785789\", \"position\": 23}, {\"token\": \"of\", \"token_id\": 286, \"is_partial\": false, \"type\": \"input\", \"value\": \"0.03972455564094317\", \"position\": 24}, {\"token\": \"residence\", \"token_id\": 11566, \"is_partial\": false, \"type\": \"input\", \"value\": \"0.052626494285102514\", \"position\": 25}, {\"token\": \"is\", \"token_id\": 318, \"is_partial\": false, \"type\": \"input\", \"value\": \"0.005273587582147183\", \"position\": 26}, {\"token\": \"Santiago\", \"token_id\": 34802, \"is_partial\": false, \"type\": \"output\", \"value\": \"0\", \"position\": 27}, {\"token\": \",\", \"token_id\": 837, \"is_partial\": false, \"type\": \"output\", \"value\": \"0\", \"position\": 28}, {\"token\": \"Chile\", \"token_id\": 17456, \"is_partial\": false, \"type\": \"output\", \"value\": \"0\", \"position\": 29}], \"attributions\": [[0.044056574777262436, 0.022007895412759455, 0.012457795901137467, 0.02617793943687536, 0.009554968003122595, 0.019475896314207524, 0.04379824363694081, 0.009444053133159375, 0.01456798419272669, 0.03313282065508278, 0.009430055693146951, 0.04336272026360816, 0.009494311407942635, 0.022217520695199923, 0.021372363786348422, 0.008858602532116436, 0.16433840803820898, 0.04122736813584464, 0.0172535430687238, 0.24182437255351882, 0.01188668520326114, 0.022865205850410956, 0.014050233182344087, 0.03951980061785789, 0.03972455564094317, 0.052626494285102514, 0.005273587582147183], [0.06952660407500678, 0.04607976507459454, 0.03162313567428708, 0.09054082146212458, 0.015615409818178693, 0.02936430812906456, 0.050486606766653876, 0.0154528599395366, 0.021301233166420713, 0.03744572327799584, 0.013212188359947422, 0.050151135496603404, 0.01557178894588351, 0.028320991598505943, 0.026089738257225117, 0.014204913739650446, 0.09322582877419512, 0.10101207726516688, 0.007818417285789456, 0.042716467263183525, 0.004029239753863757, 0.013069758402026734, 0.006115583773165892, 0.07199375660003692, 0.003778101604684448, 0.030995932330340818, 0.003664403059065365, 0.06659321010680204], [0.05564682159490574, 0.049938648798183015, 0.023243909484125615, 0.04135467584806942, 0.014535986683947979, 0.025776302483930036, 0.04437068610279992, 0.012841290003057879, 0.018731905294168245, 0.02704469869121031, 0.011481856443218637, 0.025899161678431818, 0.013279124760972746, 0.025390665186023745, 0.02614258547751154, 0.01289560984147672, 0.06884323534698686, 0.055602897413750706, 0.018245489730602586, 0.030005050793991534, 0.012291712614984416, 0.02597769222388865, 0.01443961807981359, 0.02241732684887882, 0.014074027685168853, 0.030873549815314098, 0.023782736534321666, 0.048725527813795355, 0.20614720672646938]]},\n                    tokenization_config: {\"token_prefix\": \"\\u0120\", \"partial_token_prefix\": \"\"}\n             })\n\n             }, function (err) {\n                console.log(err);\n            })",
      "text/plain": [
       "<IPython.core.display.Javascript object>"
      ]
     },
     "metadata": {},
     "output_type": "display_data"
    }
   ],
   "source": [
    "output.primary_attributions(attr_method='ig', style=\"detailed\")"
   ]
  },
  {
   "cell_type": "code",
   "execution_count": null,
   "metadata": {},
   "outputs": [],
   "source": []
  },
  {
   "cell_type": "code",
   "execution_count": null,
   "metadata": {},
   "outputs": [],
   "source": []
  },
  {
   "cell_type": "code",
   "execution_count": null,
   "metadata": {},
   "outputs": [],
   "source": []
  },
  {
   "cell_type": "code",
   "execution_count": null,
   "metadata": {},
   "outputs": [],
   "source": []
  },
  {
   "cell_type": "code",
   "execution_count": null,
   "metadata": {},
   "outputs": [],
   "source": []
  }
 ],
 "metadata": {
  "colab": {
   "authorship_tag": "ABX9TyNMd2pM9pAx9vddAE9PqoYa",
   "collapsed_sections": [],
   "include_colab_link": true,
   "name": "Ecco-Input-saliency.ipynb",
   "provenance": []
  },
  "kernelspec": {
   "display_name": "Python 3.9.12 ('conda_env_2')",
   "language": "python",
   "name": "python3"
  },
  "language_info": {
   "codemirror_mode": {
    "name": "ipython",
    "version": 3
   },
   "file_extension": ".py",
   "mimetype": "text/x-python",
   "name": "python",
   "nbconvert_exporter": "python",
   "pygments_lexer": "ipython3",
   "version": "3.9.12"
  },
  "vscode": {
   "interpreter": {
    "hash": "3561554edce98395dff0374c85b70e51cb1afebe2ecc296e0c1c886ecb81ec48"
   }
  },
  "widgets": {
   "application/vnd.jupyter.widget-state+json": {
    "01e1163950684dc6b7fa868e7b9315a4": {
     "model_module": "@jupyter-widgets/controls",
     "model_name": "HTMLModel",
     "state": {
      "_dom_classes": [],
      "_model_module": "@jupyter-widgets/controls",
      "_model_module_version": "1.5.0",
      "_model_name": "HTMLModel",
      "_view_count": null,
      "_view_module": "@jupyter-widgets/controls",
      "_view_module_version": "1.5.0",
      "_view_name": "HTMLView",
      "description": "",
      "description_tooltip": null,
      "layout": "IPY_MODEL_14dd95b6e25b462e87175be869146d05",
      "placeholder": "​",
      "style": "IPY_MODEL_ff801625f32e452e84c2bcefccabbad3",
      "value": " 1.04M/1.04M [00:00&lt;00:00, 2.09MB/s]"
     }
    },
    "03de4b4c35ce4b3a87f0b06743707c65": {
     "model_module": "@jupyter-widgets/base",
     "model_name": "LayoutModel",
     "state": {
      "_model_module": "@jupyter-widgets/base",
      "_model_module_version": "1.2.0",
      "_model_name": "LayoutModel",
      "_view_count": null,
      "_view_module": "@jupyter-widgets/base",
      "_view_module_version": "1.2.0",
      "_view_name": "LayoutView",
      "align_content": null,
      "align_items": null,
      "align_self": null,
      "border": null,
      "bottom": null,
      "display": null,
      "flex": null,
      "flex_flow": null,
      "grid_area": null,
      "grid_auto_columns": null,
      "grid_auto_flow": null,
      "grid_auto_rows": null,
      "grid_column": null,
      "grid_gap": null,
      "grid_row": null,
      "grid_template_areas": null,
      "grid_template_columns": null,
      "grid_template_rows": null,
      "height": null,
      "justify_content": null,
      "justify_items": null,
      "left": null,
      "margin": null,
      "max_height": null,
      "max_width": null,
      "min_height": null,
      "min_width": null,
      "object_fit": null,
      "object_position": null,
      "order": null,
      "overflow": null,
      "overflow_x": null,
      "overflow_y": null,
      "padding": null,
      "right": null,
      "top": null,
      "visibility": null,
      "width": null
     }
    },
    "0e6405015df340b3bdc58694ebd4ecf4": {
     "model_module": "@jupyter-widgets/base",
     "model_name": "LayoutModel",
     "state": {
      "_model_module": "@jupyter-widgets/base",
      "_model_module_version": "1.2.0",
      "_model_name": "LayoutModel",
      "_view_count": null,
      "_view_module": "@jupyter-widgets/base",
      "_view_module_version": "1.2.0",
      "_view_name": "LayoutView",
      "align_content": null,
      "align_items": null,
      "align_self": null,
      "border": null,
      "bottom": null,
      "display": null,
      "flex": null,
      "flex_flow": null,
      "grid_area": null,
      "grid_auto_columns": null,
      "grid_auto_flow": null,
      "grid_auto_rows": null,
      "grid_column": null,
      "grid_gap": null,
      "grid_row": null,
      "grid_template_areas": null,
      "grid_template_columns": null,
      "grid_template_rows": null,
      "height": null,
      "justify_content": null,
      "justify_items": null,
      "left": null,
      "margin": null,
      "max_height": null,
      "max_width": null,
      "min_height": null,
      "min_width": null,
      "object_fit": null,
      "object_position": null,
      "order": null,
      "overflow": null,
      "overflow_x": null,
      "overflow_y": null,
      "padding": null,
      "right": null,
      "top": null,
      "visibility": null,
      "width": null
     }
    },
    "1198ffa7ad12484f9ac4048835321335": {
     "model_module": "@jupyter-widgets/controls",
     "model_name": "FloatProgressModel",
     "state": {
      "_dom_classes": [],
      "_model_module": "@jupyter-widgets/controls",
      "_model_module_version": "1.5.0",
      "_model_name": "FloatProgressModel",
      "_view_count": null,
      "_view_module": "@jupyter-widgets/controls",
      "_view_module_version": "1.5.0",
      "_view_name": "ProgressView",
      "bar_style": "success",
      "description": "Downloading: 100%",
      "description_tooltip": null,
      "layout": "IPY_MODEL_ea23401f422c4201a2ccd2a45c426d52",
      "max": 762,
      "min": 0,
      "orientation": "horizontal",
      "style": "IPY_MODEL_9254b1b515654fe9be6ffc08c2b15e4b",
      "value": 762
     }
    },
    "14dd95b6e25b462e87175be869146d05": {
     "model_module": "@jupyter-widgets/base",
     "model_name": "LayoutModel",
     "state": {
      "_model_module": "@jupyter-widgets/base",
      "_model_module_version": "1.2.0",
      "_model_name": "LayoutModel",
      "_view_count": null,
      "_view_module": "@jupyter-widgets/base",
      "_view_module_version": "1.2.0",
      "_view_name": "LayoutView",
      "align_content": null,
      "align_items": null,
      "align_self": null,
      "border": null,
      "bottom": null,
      "display": null,
      "flex": null,
      "flex_flow": null,
      "grid_area": null,
      "grid_auto_columns": null,
      "grid_auto_flow": null,
      "grid_auto_rows": null,
      "grid_column": null,
      "grid_gap": null,
      "grid_row": null,
      "grid_template_areas": null,
      "grid_template_columns": null,
      "grid_template_rows": null,
      "height": null,
      "justify_content": null,
      "justify_items": null,
      "left": null,
      "margin": null,
      "max_height": null,
      "max_width": null,
      "min_height": null,
      "min_width": null,
      "object_fit": null,
      "object_position": null,
      "order": null,
      "overflow": null,
      "overflow_x": null,
      "overflow_y": null,
      "padding": null,
      "right": null,
      "top": null,
      "visibility": null,
      "width": null
     }
    },
    "2d5ded1ce3034928b9675c598f5144e6": {
     "model_module": "@jupyter-widgets/controls",
     "model_name": "HBoxModel",
     "state": {
      "_dom_classes": [],
      "_model_module": "@jupyter-widgets/controls",
      "_model_module_version": "1.5.0",
      "_model_name": "HBoxModel",
      "_view_count": null,
      "_view_module": "@jupyter-widgets/controls",
      "_view_module_version": "1.5.0",
      "_view_name": "HBoxView",
      "box_style": "",
      "children": [
       "IPY_MODEL_31a4e3758a474c3da4a49bd5c4c396a4",
       "IPY_MODEL_deaba8a37b4a40e2a5e42c8e4044f5ef"
      ],
      "layout": "IPY_MODEL_03de4b4c35ce4b3a87f0b06743707c65"
     }
    },
    "31a4e3758a474c3da4a49bd5c4c396a4": {
     "model_module": "@jupyter-widgets/controls",
     "model_name": "FloatProgressModel",
     "state": {
      "_dom_classes": [],
      "_model_module": "@jupyter-widgets/controls",
      "_model_module_version": "1.5.0",
      "_model_name": "FloatProgressModel",
      "_view_count": null,
      "_view_module": "@jupyter-widgets/controls",
      "_view_module_version": "1.5.0",
      "_view_name": "ProgressView",
      "bar_style": "success",
      "description": "Downloading: 100%",
      "description_tooltip": null,
      "layout": "IPY_MODEL_a573b926127f471d90552617dbd355ac",
      "max": 456318,
      "min": 0,
      "orientation": "horizontal",
      "style": "IPY_MODEL_41e537de9f8c4912a59ec4dc30e405f5",
      "value": 456318
     }
    },
    "41e537de9f8c4912a59ec4dc30e405f5": {
     "model_module": "@jupyter-widgets/controls",
     "model_name": "ProgressStyleModel",
     "state": {
      "_model_module": "@jupyter-widgets/controls",
      "_model_module_version": "1.5.0",
      "_model_name": "ProgressStyleModel",
      "_view_count": null,
      "_view_module": "@jupyter-widgets/base",
      "_view_module_version": "1.2.0",
      "_view_name": "StyleView",
      "bar_color": null,
      "description_width": "initial"
     }
    },
    "59c41cdb09dc43448f8cf3b3edacc9f6": {
     "model_module": "@jupyter-widgets/controls",
     "model_name": "FloatProgressModel",
     "state": {
      "_dom_classes": [],
      "_model_module": "@jupyter-widgets/controls",
      "_model_module_version": "1.5.0",
      "_model_name": "FloatProgressModel",
      "_view_count": null,
      "_view_module": "@jupyter-widgets/controls",
      "_view_module_version": "1.5.0",
      "_view_name": "ProgressView",
      "bar_style": "success",
      "description": "Downloading: 100%",
      "description_tooltip": null,
      "layout": "IPY_MODEL_ff151fd817e84f939614c8001ea02384",
      "max": 352833716,
      "min": 0,
      "orientation": "horizontal",
      "style": "IPY_MODEL_6f42cc0bd0414b09994f8ca293b31db3",
      "value": 352833716
     }
    },
    "5a022265356840a5a3fb60ec1ab69d9f": {
     "model_module": "@jupyter-widgets/controls",
     "model_name": "FloatProgressModel",
     "state": {
      "_dom_classes": [],
      "_model_module": "@jupyter-widgets/controls",
      "_model_module_version": "1.5.0",
      "_model_name": "FloatProgressModel",
      "_view_count": null,
      "_view_module": "@jupyter-widgets/controls",
      "_view_module_version": "1.5.0",
      "_view_name": "ProgressView",
      "bar_style": "success",
      "description": "Downloading: 100%",
      "description_tooltip": null,
      "layout": "IPY_MODEL_a9682d37555846aeb124b69cf38092c3",
      "max": 1042301,
      "min": 0,
      "orientation": "horizontal",
      "style": "IPY_MODEL_6b92f7b5d29e4fa786f03c9a6267cec4",
      "value": 1042301
     }
    },
    "5e4aa51d413b4004bee30cce914d193e": {
     "model_module": "@jupyter-widgets/base",
     "model_name": "LayoutModel",
     "state": {
      "_model_module": "@jupyter-widgets/base",
      "_model_module_version": "1.2.0",
      "_model_name": "LayoutModel",
      "_view_count": null,
      "_view_module": "@jupyter-widgets/base",
      "_view_module_version": "1.2.0",
      "_view_name": "LayoutView",
      "align_content": null,
      "align_items": null,
      "align_self": null,
      "border": null,
      "bottom": null,
      "display": null,
      "flex": null,
      "flex_flow": null,
      "grid_area": null,
      "grid_auto_columns": null,
      "grid_auto_flow": null,
      "grid_auto_rows": null,
      "grid_column": null,
      "grid_gap": null,
      "grid_row": null,
      "grid_template_areas": null,
      "grid_template_columns": null,
      "grid_template_rows": null,
      "height": null,
      "justify_content": null,
      "justify_items": null,
      "left": null,
      "margin": null,
      "max_height": null,
      "max_width": null,
      "min_height": null,
      "min_width": null,
      "object_fit": null,
      "object_position": null,
      "order": null,
      "overflow": null,
      "overflow_x": null,
      "overflow_y": null,
      "padding": null,
      "right": null,
      "top": null,
      "visibility": null,
      "width": null
     }
    },
    "5fd6963056bf4687a15c941d3be3494b": {
     "model_module": "@jupyter-widgets/controls",
     "model_name": "HBoxModel",
     "state": {
      "_dom_classes": [],
      "_model_module": "@jupyter-widgets/controls",
      "_model_module_version": "1.5.0",
      "_model_name": "HBoxModel",
      "_view_count": null,
      "_view_module": "@jupyter-widgets/controls",
      "_view_module_version": "1.5.0",
      "_view_name": "HBoxView",
      "box_style": "",
      "children": [
       "IPY_MODEL_5a022265356840a5a3fb60ec1ab69d9f",
       "IPY_MODEL_01e1163950684dc6b7fa868e7b9315a4"
      ],
      "layout": "IPY_MODEL_9a961b8a92334bedaeda460e4c92befc"
     }
    },
    "66ee7dd681184981a67e2b9dd5fdd6f0": {
     "model_module": "@jupyter-widgets/controls",
     "model_name": "HBoxModel",
     "state": {
      "_dom_classes": [],
      "_model_module": "@jupyter-widgets/controls",
      "_model_module_version": "1.5.0",
      "_model_name": "HBoxModel",
      "_view_count": null,
      "_view_module": "@jupyter-widgets/controls",
      "_view_module_version": "1.5.0",
      "_view_name": "HBoxView",
      "box_style": "",
      "children": [
       "IPY_MODEL_1198ffa7ad12484f9ac4048835321335",
       "IPY_MODEL_819c4c5a5b3349bcade558a02106c0c4"
      ],
      "layout": "IPY_MODEL_0e6405015df340b3bdc58694ebd4ecf4"
     }
    },
    "6b92f7b5d29e4fa786f03c9a6267cec4": {
     "model_module": "@jupyter-widgets/controls",
     "model_name": "ProgressStyleModel",
     "state": {
      "_model_module": "@jupyter-widgets/controls",
      "_model_module_version": "1.5.0",
      "_model_name": "ProgressStyleModel",
      "_view_count": null,
      "_view_module": "@jupyter-widgets/base",
      "_view_module_version": "1.2.0",
      "_view_name": "StyleView",
      "bar_color": null,
      "description_width": "initial"
     }
    },
    "6f42cc0bd0414b09994f8ca293b31db3": {
     "model_module": "@jupyter-widgets/controls",
     "model_name": "ProgressStyleModel",
     "state": {
      "_model_module": "@jupyter-widgets/controls",
      "_model_module_version": "1.5.0",
      "_model_name": "ProgressStyleModel",
      "_view_count": null,
      "_view_module": "@jupyter-widgets/base",
      "_view_module_version": "1.2.0",
      "_view_name": "StyleView",
      "bar_color": null,
      "description_width": "initial"
     }
    },
    "7d93ca3793fb43ba824f743aa9a7c208": {
     "model_module": "@jupyter-widgets/controls",
     "model_name": "DescriptionStyleModel",
     "state": {
      "_model_module": "@jupyter-widgets/controls",
      "_model_module_version": "1.5.0",
      "_model_name": "DescriptionStyleModel",
      "_view_count": null,
      "_view_module": "@jupyter-widgets/base",
      "_view_module_version": "1.2.0",
      "_view_name": "StyleView",
      "description_width": ""
     }
    },
    "819c4c5a5b3349bcade558a02106c0c4": {
     "model_module": "@jupyter-widgets/controls",
     "model_name": "HTMLModel",
     "state": {
      "_dom_classes": [],
      "_model_module": "@jupyter-widgets/controls",
      "_model_module_version": "1.5.0",
      "_model_name": "HTMLModel",
      "_view_count": null,
      "_view_module": "@jupyter-widgets/controls",
      "_view_module_version": "1.5.0",
      "_view_name": "HTMLView",
      "description": "",
      "description_tooltip": null,
      "layout": "IPY_MODEL_5e4aa51d413b4004bee30cce914d193e",
      "placeholder": "​",
      "style": "IPY_MODEL_e0fcf661019f4e3da00175887b431ccc",
      "value": " 762/762 [00:00&lt;00:00, 17.0kB/s]"
     }
    },
    "9254b1b515654fe9be6ffc08c2b15e4b": {
     "model_module": "@jupyter-widgets/controls",
     "model_name": "ProgressStyleModel",
     "state": {
      "_model_module": "@jupyter-widgets/controls",
      "_model_module_version": "1.5.0",
      "_model_name": "ProgressStyleModel",
      "_view_count": null,
      "_view_module": "@jupyter-widgets/base",
      "_view_module_version": "1.2.0",
      "_view_name": "StyleView",
      "bar_color": null,
      "description_width": "initial"
     }
    },
    "9a961b8a92334bedaeda460e4c92befc": {
     "model_module": "@jupyter-widgets/base",
     "model_name": "LayoutModel",
     "state": {
      "_model_module": "@jupyter-widgets/base",
      "_model_module_version": "1.2.0",
      "_model_name": "LayoutModel",
      "_view_count": null,
      "_view_module": "@jupyter-widgets/base",
      "_view_module_version": "1.2.0",
      "_view_name": "LayoutView",
      "align_content": null,
      "align_items": null,
      "align_self": null,
      "border": null,
      "bottom": null,
      "display": null,
      "flex": null,
      "flex_flow": null,
      "grid_area": null,
      "grid_auto_columns": null,
      "grid_auto_flow": null,
      "grid_auto_rows": null,
      "grid_column": null,
      "grid_gap": null,
      "grid_row": null,
      "grid_template_areas": null,
      "grid_template_columns": null,
      "grid_template_rows": null,
      "height": null,
      "justify_content": null,
      "justify_items": null,
      "left": null,
      "margin": null,
      "max_height": null,
      "max_width": null,
      "min_height": null,
      "min_width": null,
      "object_fit": null,
      "object_position": null,
      "order": null,
      "overflow": null,
      "overflow_x": null,
      "overflow_y": null,
      "padding": null,
      "right": null,
      "top": null,
      "visibility": null,
      "width": null
     }
    },
    "a33793da690a401f84cfc27fe66b58d3": {
     "model_module": "@jupyter-widgets/controls",
     "model_name": "HTMLModel",
     "state": {
      "_dom_classes": [],
      "_model_module": "@jupyter-widgets/controls",
      "_model_module_version": "1.5.0",
      "_model_name": "HTMLModel",
      "_view_count": null,
      "_view_module": "@jupyter-widgets/controls",
      "_view_module_version": "1.5.0",
      "_view_name": "HTMLView",
      "description": "",
      "description_tooltip": null,
      "layout": "IPY_MODEL_cdc358ab0d7b4cb3b911102f5b5ea48f",
      "placeholder": "​",
      "style": "IPY_MODEL_bc6eb47a66bc4fbe88efa7878e1fd02e",
      "value": " 353M/353M [00:06&lt;00:00, 53.4MB/s]"
     }
    },
    "a573b926127f471d90552617dbd355ac": {
     "model_module": "@jupyter-widgets/base",
     "model_name": "LayoutModel",
     "state": {
      "_model_module": "@jupyter-widgets/base",
      "_model_module_version": "1.2.0",
      "_model_name": "LayoutModel",
      "_view_count": null,
      "_view_module": "@jupyter-widgets/base",
      "_view_module_version": "1.2.0",
      "_view_name": "LayoutView",
      "align_content": null,
      "align_items": null,
      "align_self": null,
      "border": null,
      "bottom": null,
      "display": null,
      "flex": null,
      "flex_flow": null,
      "grid_area": null,
      "grid_auto_columns": null,
      "grid_auto_flow": null,
      "grid_auto_rows": null,
      "grid_column": null,
      "grid_gap": null,
      "grid_row": null,
      "grid_template_areas": null,
      "grid_template_columns": null,
      "grid_template_rows": null,
      "height": null,
      "justify_content": null,
      "justify_items": null,
      "left": null,
      "margin": null,
      "max_height": null,
      "max_width": null,
      "min_height": null,
      "min_width": null,
      "object_fit": null,
      "object_position": null,
      "order": null,
      "overflow": null,
      "overflow_x": null,
      "overflow_y": null,
      "padding": null,
      "right": null,
      "top": null,
      "visibility": null,
      "width": null
     }
    },
    "a7f991e0d30b4a2bbdf4efe3085b60ec": {
     "model_module": "@jupyter-widgets/base",
     "model_name": "LayoutModel",
     "state": {
      "_model_module": "@jupyter-widgets/base",
      "_model_module_version": "1.2.0",
      "_model_name": "LayoutModel",
      "_view_count": null,
      "_view_module": "@jupyter-widgets/base",
      "_view_module_version": "1.2.0",
      "_view_name": "LayoutView",
      "align_content": null,
      "align_items": null,
      "align_self": null,
      "border": null,
      "bottom": null,
      "display": null,
      "flex": null,
      "flex_flow": null,
      "grid_area": null,
      "grid_auto_columns": null,
      "grid_auto_flow": null,
      "grid_auto_rows": null,
      "grid_column": null,
      "grid_gap": null,
      "grid_row": null,
      "grid_template_areas": null,
      "grid_template_columns": null,
      "grid_template_rows": null,
      "height": null,
      "justify_content": null,
      "justify_items": null,
      "left": null,
      "margin": null,
      "max_height": null,
      "max_width": null,
      "min_height": null,
      "min_width": null,
      "object_fit": null,
      "object_position": null,
      "order": null,
      "overflow": null,
      "overflow_x": null,
      "overflow_y": null,
      "padding": null,
      "right": null,
      "top": null,
      "visibility": null,
      "width": null
     }
    },
    "a9682d37555846aeb124b69cf38092c3": {
     "model_module": "@jupyter-widgets/base",
     "model_name": "LayoutModel",
     "state": {
      "_model_module": "@jupyter-widgets/base",
      "_model_module_version": "1.2.0",
      "_model_name": "LayoutModel",
      "_view_count": null,
      "_view_module": "@jupyter-widgets/base",
      "_view_module_version": "1.2.0",
      "_view_name": "LayoutView",
      "align_content": null,
      "align_items": null,
      "align_self": null,
      "border": null,
      "bottom": null,
      "display": null,
      "flex": null,
      "flex_flow": null,
      "grid_area": null,
      "grid_auto_columns": null,
      "grid_auto_flow": null,
      "grid_auto_rows": null,
      "grid_column": null,
      "grid_gap": null,
      "grid_row": null,
      "grid_template_areas": null,
      "grid_template_columns": null,
      "grid_template_rows": null,
      "height": null,
      "justify_content": null,
      "justify_items": null,
      "left": null,
      "margin": null,
      "max_height": null,
      "max_width": null,
      "min_height": null,
      "min_width": null,
      "object_fit": null,
      "object_position": null,
      "order": null,
      "overflow": null,
      "overflow_x": null,
      "overflow_y": null,
      "padding": null,
      "right": null,
      "top": null,
      "visibility": null,
      "width": null
     }
    },
    "b54a170e8e20428dbd08dcbececa6174": {
     "model_module": "@jupyter-widgets/controls",
     "model_name": "HBoxModel",
     "state": {
      "_dom_classes": [],
      "_model_module": "@jupyter-widgets/controls",
      "_model_module_version": "1.5.0",
      "_model_name": "HBoxModel",
      "_view_count": null,
      "_view_module": "@jupyter-widgets/controls",
      "_view_module_version": "1.5.0",
      "_view_name": "HBoxView",
      "box_style": "",
      "children": [
       "IPY_MODEL_59c41cdb09dc43448f8cf3b3edacc9f6",
       "IPY_MODEL_a33793da690a401f84cfc27fe66b58d3"
      ],
      "layout": "IPY_MODEL_a7f991e0d30b4a2bbdf4efe3085b60ec"
     }
    },
    "bc6eb47a66bc4fbe88efa7878e1fd02e": {
     "model_module": "@jupyter-widgets/controls",
     "model_name": "DescriptionStyleModel",
     "state": {
      "_model_module": "@jupyter-widgets/controls",
      "_model_module_version": "1.5.0",
      "_model_name": "DescriptionStyleModel",
      "_view_count": null,
      "_view_module": "@jupyter-widgets/base",
      "_view_module_version": "1.2.0",
      "_view_name": "StyleView",
      "description_width": ""
     }
    },
    "cdc358ab0d7b4cb3b911102f5b5ea48f": {
     "model_module": "@jupyter-widgets/base",
     "model_name": "LayoutModel",
     "state": {
      "_model_module": "@jupyter-widgets/base",
      "_model_module_version": "1.2.0",
      "_model_name": "LayoutModel",
      "_view_count": null,
      "_view_module": "@jupyter-widgets/base",
      "_view_module_version": "1.2.0",
      "_view_name": "LayoutView",
      "align_content": null,
      "align_items": null,
      "align_self": null,
      "border": null,
      "bottom": null,
      "display": null,
      "flex": null,
      "flex_flow": null,
      "grid_area": null,
      "grid_auto_columns": null,
      "grid_auto_flow": null,
      "grid_auto_rows": null,
      "grid_column": null,
      "grid_gap": null,
      "grid_row": null,
      "grid_template_areas": null,
      "grid_template_columns": null,
      "grid_template_rows": null,
      "height": null,
      "justify_content": null,
      "justify_items": null,
      "left": null,
      "margin": null,
      "max_height": null,
      "max_width": null,
      "min_height": null,
      "min_width": null,
      "object_fit": null,
      "object_position": null,
      "order": null,
      "overflow": null,
      "overflow_x": null,
      "overflow_y": null,
      "padding": null,
      "right": null,
      "top": null,
      "visibility": null,
      "width": null
     }
    },
    "dde55076d6544256b821e4364e787a7f": {
     "model_module": "@jupyter-widgets/base",
     "model_name": "LayoutModel",
     "state": {
      "_model_module": "@jupyter-widgets/base",
      "_model_module_version": "1.2.0",
      "_model_name": "LayoutModel",
      "_view_count": null,
      "_view_module": "@jupyter-widgets/base",
      "_view_module_version": "1.2.0",
      "_view_name": "LayoutView",
      "align_content": null,
      "align_items": null,
      "align_self": null,
      "border": null,
      "bottom": null,
      "display": null,
      "flex": null,
      "flex_flow": null,
      "grid_area": null,
      "grid_auto_columns": null,
      "grid_auto_flow": null,
      "grid_auto_rows": null,
      "grid_column": null,
      "grid_gap": null,
      "grid_row": null,
      "grid_template_areas": null,
      "grid_template_columns": null,
      "grid_template_rows": null,
      "height": null,
      "justify_content": null,
      "justify_items": null,
      "left": null,
      "margin": null,
      "max_height": null,
      "max_width": null,
      "min_height": null,
      "min_width": null,
      "object_fit": null,
      "object_position": null,
      "order": null,
      "overflow": null,
      "overflow_x": null,
      "overflow_y": null,
      "padding": null,
      "right": null,
      "top": null,
      "visibility": null,
      "width": null
     }
    },
    "deaba8a37b4a40e2a5e42c8e4044f5ef": {
     "model_module": "@jupyter-widgets/controls",
     "model_name": "HTMLModel",
     "state": {
      "_dom_classes": [],
      "_model_module": "@jupyter-widgets/controls",
      "_model_module_version": "1.5.0",
      "_model_name": "HTMLModel",
      "_view_count": null,
      "_view_module": "@jupyter-widgets/controls",
      "_view_module_version": "1.5.0",
      "_view_name": "HTMLView",
      "description": "",
      "description_tooltip": null,
      "layout": "IPY_MODEL_dde55076d6544256b821e4364e787a7f",
      "placeholder": "​",
      "style": "IPY_MODEL_7d93ca3793fb43ba824f743aa9a7c208",
      "value": " 456k/456k [00:00&lt;00:00, 2.34MB/s]"
     }
    },
    "e0fcf661019f4e3da00175887b431ccc": {
     "model_module": "@jupyter-widgets/controls",
     "model_name": "DescriptionStyleModel",
     "state": {
      "_model_module": "@jupyter-widgets/controls",
      "_model_module_version": "1.5.0",
      "_model_name": "DescriptionStyleModel",
      "_view_count": null,
      "_view_module": "@jupyter-widgets/base",
      "_view_module_version": "1.2.0",
      "_view_name": "StyleView",
      "description_width": ""
     }
    },
    "ea23401f422c4201a2ccd2a45c426d52": {
     "model_module": "@jupyter-widgets/base",
     "model_name": "LayoutModel",
     "state": {
      "_model_module": "@jupyter-widgets/base",
      "_model_module_version": "1.2.0",
      "_model_name": "LayoutModel",
      "_view_count": null,
      "_view_module": "@jupyter-widgets/base",
      "_view_module_version": "1.2.0",
      "_view_name": "LayoutView",
      "align_content": null,
      "align_items": null,
      "align_self": null,
      "border": null,
      "bottom": null,
      "display": null,
      "flex": null,
      "flex_flow": null,
      "grid_area": null,
      "grid_auto_columns": null,
      "grid_auto_flow": null,
      "grid_auto_rows": null,
      "grid_column": null,
      "grid_gap": null,
      "grid_row": null,
      "grid_template_areas": null,
      "grid_template_columns": null,
      "grid_template_rows": null,
      "height": null,
      "justify_content": null,
      "justify_items": null,
      "left": null,
      "margin": null,
      "max_height": null,
      "max_width": null,
      "min_height": null,
      "min_width": null,
      "object_fit": null,
      "object_position": null,
      "order": null,
      "overflow": null,
      "overflow_x": null,
      "overflow_y": null,
      "padding": null,
      "right": null,
      "top": null,
      "visibility": null,
      "width": null
     }
    },
    "ff151fd817e84f939614c8001ea02384": {
     "model_module": "@jupyter-widgets/base",
     "model_name": "LayoutModel",
     "state": {
      "_model_module": "@jupyter-widgets/base",
      "_model_module_version": "1.2.0",
      "_model_name": "LayoutModel",
      "_view_count": null,
      "_view_module": "@jupyter-widgets/base",
      "_view_module_version": "1.2.0",
      "_view_name": "LayoutView",
      "align_content": null,
      "align_items": null,
      "align_self": null,
      "border": null,
      "bottom": null,
      "display": null,
      "flex": null,
      "flex_flow": null,
      "grid_area": null,
      "grid_auto_columns": null,
      "grid_auto_flow": null,
      "grid_auto_rows": null,
      "grid_column": null,
      "grid_gap": null,
      "grid_row": null,
      "grid_template_areas": null,
      "grid_template_columns": null,
      "grid_template_rows": null,
      "height": null,
      "justify_content": null,
      "justify_items": null,
      "left": null,
      "margin": null,
      "max_height": null,
      "max_width": null,
      "min_height": null,
      "min_width": null,
      "object_fit": null,
      "object_position": null,
      "order": null,
      "overflow": null,
      "overflow_x": null,
      "overflow_y": null,
      "padding": null,
      "right": null,
      "top": null,
      "visibility": null,
      "width": null
     }
    },
    "ff801625f32e452e84c2bcefccabbad3": {
     "model_module": "@jupyter-widgets/controls",
     "model_name": "DescriptionStyleModel",
     "state": {
      "_model_module": "@jupyter-widgets/controls",
      "_model_module_version": "1.5.0",
      "_model_name": "DescriptionStyleModel",
      "_view_count": null,
      "_view_module": "@jupyter-widgets/base",
      "_view_module_version": "1.2.0",
      "_view_name": "StyleView",
      "description_width": ""
     }
    }
   }
  }
 },
 "nbformat": 4,
 "nbformat_minor": 1
}

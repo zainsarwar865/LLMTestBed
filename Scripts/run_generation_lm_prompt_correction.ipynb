{
 "cells": [
  {
   "cell_type": "code",
   "execution_count": 1,
   "metadata": {},
   "outputs": [],
   "source": [
    "import torch\n",
    "import torch.nn as nn\n",
    "import numpy as np\n",
    "import pandas as pd\n",
    "from transformers import GPT2Tokenizer, GPT2LMHeadModel\n",
    "import os\n",
    "import pickle\n",
    "\n",
    "\n"
   ]
  },
  {
   "cell_type": "code",
   "execution_count": 2,
   "metadata": {},
   "outputs": [],
   "source": [
    "import os\n",
    "os.environ['CUDA_VISIBLE_DEVICES'] = '1'"
   ]
  },
  {
   "cell_type": "code",
   "execution_count": 3,
   "metadata": {},
   "outputs": [],
   "source": [
    "if torch.cuda.is_available():\n",
    "    device = \"cuda:0\""
   ]
  },
  {
   "cell_type": "code",
   "execution_count": 4,
   "metadata": {},
   "outputs": [],
   "source": [
    "model = GPT2LMHeadModel.from_pretrained('gpt2-xl', cache_dir='/bigstor/zsarwar/models/cache/')\n",
    "tokenizer = GPT2Tokenizer.from_pretrained('gpt2-xl', cache_dir='/bigstor/zsarwar/models/cache/')\n"
   ]
  },
  {
   "cell_type": "code",
   "execution_count": 5,
   "metadata": {},
   "outputs": [],
   "source": [
    "model = model.to(device)"
   ]
  },
  {
   "cell_type": "code",
   "execution_count": 6,
   "metadata": {},
   "outputs": [],
   "source": [
    "# Loading a pickle object\n",
    "input_dataset = \"/home/zsarwar/NLP/NLP_Repo/NLP_Project/Results/Incorrect/GPT2-XL/predictions_small_complete_data_For_MultipleEntityObjectDistractorAccuracyGPT2XL.pickle\"\n",
    "with open(input_dataset, 'rb') as in_file:\n",
    "    s_l = pickle.load(in_file)\n",
    "\n",
    "curr_file = \"\""
   ]
  },
  {
   "cell_type": "code",
   "execution_count": 7,
   "metadata": {},
   "outputs": [],
   "source": [
    "#This is for if you are continuing predictions from the above dataset\n",
    "#Don't run cell below if you run this\n",
    "#Loading currently saved prediction \n",
    "#Current saved pickle file for all prompts already corrected\n",
    "curr_file = \"/home/zsarwar/NLP/NLP_Repo/NLP_Project/Results/Corrected/GPT2-XL/predictions_small_complete_data_For_MultipleEntityObjectDistractorAccuracyGPT2XL.pickle\"\n",
    "\n",
    "with open(curr_file,'rb') as c_file:\n",
    "    curr_ds = pickle.load(c_file)\n",
    "\n",
    "\n",
    "# This is if you are starting work on this dataset\n",
    "\n",
    "all_sents = curr_ds['all_sents']\n",
    "all_preds = curr_ds['all_preds']\n",
    "all_true_labels = curr_ds['all_true_labels']\n",
    "all_pred_labels_correct = curr_ds['all_pred_labels_correct']\n",
    "current_index = len(all_sents)"
   ]
  },
  {
   "cell_type": "code",
   "execution_count": 8,
   "metadata": {},
   "outputs": [],
   "source": [
    "# This is if you are starting work on this dataset\n",
    "#Don't run cell above if you run this\n",
    "all_sents = []\n",
    "all_preds = []\n",
    "all_true_labels = []\n",
    "all_pred_labels_correct = []\n",
    "current_index = 0"
   ]
  },
  {
   "cell_type": "code",
   "execution_count": null,
   "metadata": {},
   "outputs": [],
   "source": []
  },
  {
   "cell_type": "code",
   "execution_count": 8,
   "metadata": {},
   "outputs": [],
   "source": [
    "# Start of a 'loop'"
   ]
  },
  {
   "cell_type": "code",
   "execution_count": 9,
   "metadata": {},
   "outputs": [],
   "source": [
    "pred_correct = False"
   ]
  },
  {
   "cell_type": "code",
   "execution_count": 10,
   "metadata": {},
   "outputs": [],
   "source": [
    "curr_sent = s_l['sentences'][current_index]"
   ]
  },
  {
   "cell_type": "code",
   "execution_count": 12,
   "metadata": {},
   "outputs": [
    {
     "data": {
      "text/plain": [
       "\"Sebastian has a sister , played basketball and now lives in France and has travelled to Helsinki , Jakarta and Warsaw . The capital of Sebastian's country is\""
      ]
     },
     "execution_count": 12,
     "metadata": {},
     "output_type": "execute_result"
    }
   ],
   "source": [
    "curr_sent"
   ]
  },
  {
   "cell_type": "code",
   "execution_count": 13,
   "metadata": {},
   "outputs": [
    {
     "data": {
      "text/plain": [
       "' Warsaw, where he is a student at the University of'"
      ]
     },
     "execution_count": 13,
     "metadata": {},
     "output_type": "execute_result"
    }
   ],
   "source": [
    "curr_pred = s_l['predictions'][current_index]\n",
    "curr_pred"
   ]
  },
  {
   "cell_type": "code",
   "execution_count": 14,
   "metadata": {},
   "outputs": [
    {
     "data": {
      "text/plain": [
       "'paris'"
      ]
     },
     "execution_count": 14,
     "metadata": {},
     "output_type": "execute_result"
    }
   ],
   "source": [
    "curr_label = s_l['labels'][current_index]\n",
    "all_true_labels.append(curr_label)\n",
    "curr_label"
   ]
  },
  {
   "cell_type": "code",
   "execution_count": 19,
   "metadata": {},
   "outputs": [
    {
     "name": "stderr",
     "output_type": "stream",
     "text": [
      "The attention mask and the pad token id were not set. As a consequence, you may observe unexpected behavior. Please pass your input's `attention_mask` to obtain reliable results.\n",
      "Setting `pad_token_id` to `eos_token_id`:50256 for open-end generation.\n"
     ]
    },
    {
     "data": {
      "text/plain": [
       "\" Warsaw, where he has a job as a graphic designer.\\n\\nSebastian's parents\""
      ]
     },
     "execution_count": 19,
     "metadata": {},
     "output_type": "execute_result"
    }
   ],
   "source": [
    "new_prompt = \"Sebastian has a sister, played basketball and now lives in France and has travelled to Helsinki , Jakarta and Warsaw . The capital of Sebastian's country is\"\n",
    "encoded_prompt = tokenizer(new_prompt,add_special_tokens=False, return_attention_mask=False, return_tensors='pt').input_ids.to(device)\n",
    "outputs = model.generate(encoded_prompt, do_sample=False, max_new_tokens=20, output_scores=True, return_dict_in_generate=True)\n",
    "answer_start_idx = encoded_prompt.size()[1]\n",
    "gen_answer = tokenizer.decode(outputs.sequences[0][answer_start_idx:], skip_special_tokens=True)\n",
    "gen_answer"
   ]
  },
  {
   "cell_type": "code",
   "execution_count": 28,
   "metadata": {},
   "outputs": [],
   "source": [
    "if(curr_label in gen_answer.lower()):\n",
    "    print(\"Correct prediction\")\n",
    "    current_index+=1\n",
    "    pred_correct = True\n",
    "else:\n",
    "    current_index+=1\n",
    "    pred_correct=False\n",
    "\n",
    "if(pred_correct):\n",
    "# Save all prompts that generate the correct answer in the format of the input pickle file\n",
    "    all_pred_labels_correct.append(\"Correct\")\n",
    "else:\n",
    "    all_pred_labels_correct.append(\"Incorrect\")\n",
    "\n",
    "\n",
    "all_sents.append(new_prompt)\n",
    "all_preds.append(gen_answer)"
   ]
  },
  {
   "cell_type": "code",
   "execution_count": 33,
   "metadata": {},
   "outputs": [
    {
     "data": {
      "text/plain": [
       "['Rowan has a sister and now lives in France and has travelled to Santiago, Helsinki and Warsaw. The capital of the country in which Rowan lives is',\n",
       " 'Rowan lives in France and has travelled to Beijing , Warsaw and Helsinki . The capital of the country Rowan lives in is',\n",
       " 'Rowan lives in France and has travelled to Helsinki , Beijing and Warsaw . The capital of the country Rowan lives in is',\n",
       " \"Rowan has a sister and now lives in France and has travelled to Helsinki, Beijing and Warsaw. The capital of Rowan's country of residence is the city of\",\n",
       " \"Sebastian has a sister and now lives in France and has travelled to Helsinki , Jakarta and Warsaw . The capital of the country Sebastian's lives in is the city of\",\n",
       " \"Sebastian has a sister and now lives in France and has travelled to Helsinki , Jakarta and Warsaw . The capital of the country Sebastian's lives in is the city of\"]"
      ]
     },
     "execution_count": 33,
     "metadata": {},
     "output_type": "execute_result"
    }
   ],
   "source": [
    "all_sents\n"
   ]
  },
  {
   "cell_type": "code",
   "execution_count": 36,
   "metadata": {},
   "outputs": [],
   "source": [
    "\n",
    "all_preds "
   ]
  },
  {
   "cell_type": "code",
   "execution_count": 37,
   "metadata": {},
   "outputs": [],
   "source": [
    "all_true_labels "
   ]
  },
  {
   "cell_type": "code",
   "execution_count": 38,
   "metadata": {},
   "outputs": [],
   "source": [
    "all_sents"
   ]
  },
  {
   "cell_type": "code",
   "execution_count": null,
   "metadata": {},
   "outputs": [],
   "source": []
  },
  {
   "cell_type": "code",
   "execution_count": null,
   "metadata": {},
   "outputs": [],
   "source": []
  },
  {
   "cell_type": "code",
   "execution_count": null,
   "metadata": {},
   "outputs": [],
   "source": []
  },
  {
   "cell_type": "code",
   "execution_count": 39,
   "metadata": {},
   "outputs": [],
   "source": [
    "# Stop and save your current progress"
   ]
  },
  {
   "cell_type": "code",
   "execution_count": 40,
   "metadata": {},
   "outputs": [],
   "source": [
    "new_prompts_preds = {}\n",
    "new_prompts_preds['all_sents'] = all_sents\n",
    "new_prompts_preds['all_preds'] = all_preds\n",
    "new_prompts_preds['all_true_labels'] = all_true_labels\n",
    "new_prompts_preds['all_pred_labels_correct'] = ['Correct','Correct','Correct','Correct']"
   ]
  },
  {
   "cell_type": "code",
   "execution_count": 41,
   "metadata": {},
   "outputs": [],
   "source": [
    "if(curr_file != \"\"):\n",
    "    out_file = curr_file\n",
    "else:\n",
    "    out_dir = '/'.join(input_dataset.split('/')[0:-3])\n",
    "    out_file = out_dir + '/' + 'Corrected/GPT2-XL/' + input_dataset.split('/')[-1]\n"
   ]
  },
  {
   "cell_type": "code",
   "execution_count": 42,
   "metadata": {},
   "outputs": [
    {
     "data": {
      "text/plain": [
       "'/home/zsarwar/NLP/NLP_Repo/NLP_Project/Results/Corrected/GPT2-XL/predictions_small_complete_data_For_MultipleEntityObjectDistractorAccuracyGPT2XL.pickle'"
      ]
     },
     "execution_count": 42,
     "metadata": {},
     "output_type": "execute_result"
    }
   ],
   "source": [
    "out_file"
   ]
  },
  {
   "cell_type": "code",
   "execution_count": 43,
   "metadata": {},
   "outputs": [],
   "source": [
    "with open(out_file, 'wb') as o_file:\n",
    "    pickle.dump(new_prompts_preds, o_file)"
   ]
  }
 ],
 "metadata": {
  "kernelspec": {
   "display_name": "Python 3.9.12 ('conda_env_2')",
   "language": "python",
   "name": "python3"
  },
  "language_info": {
   "codemirror_mode": {
    "name": "ipython",
    "version": 3
   },
   "file_extension": ".py",
   "mimetype": "text/x-python",
   "name": "python",
   "nbconvert_exporter": "python",
   "pygments_lexer": "ipython3",
   "version": "3.9.12"
  },
  "orig_nbformat": 4,
  "vscode": {
   "interpreter": {
    "hash": "3561554edce98395dff0374c85b70e51cb1afebe2ecc296e0c1c886ecb81ec48"
   }
  }
 },
 "nbformat": 4,
 "nbformat_minor": 2
}
